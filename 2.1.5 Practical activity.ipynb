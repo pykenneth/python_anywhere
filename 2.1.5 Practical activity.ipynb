{
 "cells": [
  {
   "cell_type": "code",
   "execution_count": 93,
   "id": "ecd27a70-9adb-41ee-95ba-c7a991a7c949",
   "metadata": {},
   "outputs": [],
   "source": [
    "import pandas as pd\n",
    "eUnit = {\"Shen Lee\": 1, \n",
    "         \"Leon Buhle\":0.5,\n",
    "         \"Tracy Adams\": 0.8,\n",
    "         \"Lebo Sinuka\": 1.5,\n",
    "         \"Lauren Pierce\": 1.2,\n",
    "         \"Monika Bond\": 2,\n",
    "         \"Natahs Allsopp\": 0.3,\n",
    "         \"Nicholas Winter\": 1.1,\n",
    "         \"Christopher Eckson\": 2.2,\n",
    "         \"Siobhan O’Malley\": 1.5\n",
    "        }\n",
    "ser1 = pd.Series(eUnit)\n",
    "bonusLv =ser1//1*3 #3 days added for one full unit of employment as a bonus\n",
    "\n",
    "#Leave per cycle: \n",
    "#10 days sick leave,\n",
    "#20 days annual leave,\n",
    "#5 days personal leave, \n",
    "#and 3 days added for one full unit of employment as a bonus\n",
    "annualTotal = 30 + bonusLv"
   ]
  },
  {
   "cell_type": "code",
   "execution_count": null,
   "id": "bbf225d7-124b-4d81-b5e0-f78665d32431",
   "metadata": {},
   "outputs": [],
   "source": []
  },
  {
   "cell_type": "code",
   "execution_count": 96,
   "id": "a41df625-16cc-440e-a012-6c71f039a4b1",
   "metadata": {},
   "outputs": [],
   "source": [
    "pNums = {\"Shen Lee\": 215,\n",
    "         \"Leon Buhle\":216,\n",
    "         \"Tracy Adams\": 217,\n",
    "         \"Lebo Sinuka\": 218,\n",
    "         \"Lauren Pierce\": 219,\n",
    "         \"Monika Bond\": 220,\n",
    "         \"Natahs Allsopp\": 221,\n",
    "         \"Nicholas Winter\": 222,\n",
    "         \"Christopher Eckson\": 223,\n",
    "         \"Siobhan O’Malley\": 224\n",
    "        }\n",
    "ser2 = pd.Series(pNums)"
   ]
  },
  {
   "cell_type": "code",
   "execution_count": 107,
   "id": "555f28b4-2329-4e42-a982-840aa2d83b03",
   "metadata": {},
   "outputs": [],
   "source": [
    "leaveTaken = {\"Shen Lee\": [0,0,0],\n",
    "           \"Leon Buhle\": [2,0,1],\n",
    "           \"Tracy Adams\": [0,5,0],\n",
    "           \"Lebo Sinuka\": [1,4,5],\n",
    "           \"Lauren Pierce\": [3,2,0],\n",
    "           \"Monika Bond\": [0,5,3],\n",
    "           \"Natahs Allsopp\": [1,10,0],\n",
    "           \"Nicholas Winter\": [0,8,1],\n",
    "           \"Christopher Eckson\": [2,10,3],\n",
    "           \"Siobhan O’Malley\": [5,0,0]\n",
    "          }\n",
    "df = pd.DataFrame(leaveTaken, index=[\"sickLv\", \"annualLv\",\"personalLv\"]).transpose()\n",
    "df[\"days_remained\"] = totalLv - df[\"sickLv\"] - df[\"annualLv\"] - df[\"personalLv\"]\n",
    "df[\"personalNums\"] = ser2\n",
    "df.reset_index(inplace = True)\n",
    "df.rename(columns={\"index\":\"staffName\"}, inplace=True)\n",
    "df.set_index([\"staffName\",\"personalNums\"], inplace=True)"
   ]
  },
  {
   "cell_type": "code",
   "execution_count": 108,
   "id": "159f9eca-2ce7-4d6c-a50c-f7ab9060bd48",
   "metadata": {},
   "outputs": [
    {
     "data": {
      "text/html": [
       "<div>\n",
       "<style scoped>\n",
       "    .dataframe tbody tr th:only-of-type {\n",
       "        vertical-align: middle;\n",
       "    }\n",
       "\n",
       "    .dataframe tbody tr th {\n",
       "        vertical-align: top;\n",
       "    }\n",
       "\n",
       "    .dataframe thead th {\n",
       "        text-align: right;\n",
       "    }\n",
       "</style>\n",
       "<table border=\"1\" class=\"dataframe\">\n",
       "  <thead>\n",
       "    <tr style=\"text-align: right;\">\n",
       "      <th></th>\n",
       "      <th></th>\n",
       "      <th>sickLv</th>\n",
       "      <th>annualLv</th>\n",
       "      <th>personalLv</th>\n",
       "      <th>days_remained</th>\n",
       "    </tr>\n",
       "    <tr>\n",
       "      <th>staffName</th>\n",
       "      <th>personalNums</th>\n",
       "      <th></th>\n",
       "      <th></th>\n",
       "      <th></th>\n",
       "      <th></th>\n",
       "    </tr>\n",
       "  </thead>\n",
       "  <tbody>\n",
       "    <tr>\n",
       "      <th>Shen Lee</th>\n",
       "      <th>215</th>\n",
       "      <td>0</td>\n",
       "      <td>0</td>\n",
       "      <td>0</td>\n",
       "      <td>33.0</td>\n",
       "    </tr>\n",
       "    <tr>\n",
       "      <th>Leon Buhle</th>\n",
       "      <th>216</th>\n",
       "      <td>2</td>\n",
       "      <td>0</td>\n",
       "      <td>1</td>\n",
       "      <td>27.0</td>\n",
       "    </tr>\n",
       "    <tr>\n",
       "      <th>Tracy Adams</th>\n",
       "      <th>217</th>\n",
       "      <td>0</td>\n",
       "      <td>5</td>\n",
       "      <td>0</td>\n",
       "      <td>25.0</td>\n",
       "    </tr>\n",
       "    <tr>\n",
       "      <th>Lebo Sinuka</th>\n",
       "      <th>218</th>\n",
       "      <td>1</td>\n",
       "      <td>4</td>\n",
       "      <td>5</td>\n",
       "      <td>23.0</td>\n",
       "    </tr>\n",
       "    <tr>\n",
       "      <th>Lauren Pierce</th>\n",
       "      <th>219</th>\n",
       "      <td>3</td>\n",
       "      <td>2</td>\n",
       "      <td>0</td>\n",
       "      <td>28.0</td>\n",
       "    </tr>\n",
       "    <tr>\n",
       "      <th>Monika Bond</th>\n",
       "      <th>220</th>\n",
       "      <td>0</td>\n",
       "      <td>5</td>\n",
       "      <td>3</td>\n",
       "      <td>28.0</td>\n",
       "    </tr>\n",
       "    <tr>\n",
       "      <th>Natahs Allsopp</th>\n",
       "      <th>221</th>\n",
       "      <td>1</td>\n",
       "      <td>10</td>\n",
       "      <td>0</td>\n",
       "      <td>19.0</td>\n",
       "    </tr>\n",
       "    <tr>\n",
       "      <th>Nicholas Winter</th>\n",
       "      <th>222</th>\n",
       "      <td>0</td>\n",
       "      <td>8</td>\n",
       "      <td>1</td>\n",
       "      <td>24.0</td>\n",
       "    </tr>\n",
       "    <tr>\n",
       "      <th>Christopher Eckson</th>\n",
       "      <th>223</th>\n",
       "      <td>2</td>\n",
       "      <td>10</td>\n",
       "      <td>3</td>\n",
       "      <td>21.0</td>\n",
       "    </tr>\n",
       "    <tr>\n",
       "      <th>Siobhan O’Malley</th>\n",
       "      <th>224</th>\n",
       "      <td>5</td>\n",
       "      <td>0</td>\n",
       "      <td>0</td>\n",
       "      <td>28.0</td>\n",
       "    </tr>\n",
       "  </tbody>\n",
       "</table>\n",
       "</div>"
      ],
      "text/plain": [
       "                                 sickLv  annualLv  personalLv  days_remained\n",
       "staffName          personalNums                                             \n",
       "Shen Lee           215                0         0           0           33.0\n",
       "Leon Buhle         216                2         0           1           27.0\n",
       "Tracy Adams        217                0         5           0           25.0\n",
       "Lebo Sinuka        218                1         4           5           23.0\n",
       "Lauren Pierce      219                3         2           0           28.0\n",
       "Monika Bond        220                0         5           3           28.0\n",
       "Natahs Allsopp     221                1        10           0           19.0\n",
       "Nicholas Winter    222                0         8           1           24.0\n",
       "Christopher Eckson 223                2        10           3           21.0\n",
       "Siobhan O’Malley   224                5         0           0           28.0"
      ]
     },
     "execution_count": 108,
     "metadata": {},
     "output_type": "execute_result"
    }
   ],
   "source": []
  },
  {
   "cell_type": "code",
   "execution_count": null,
   "id": "408d7b4a-07a8-4b55-bbb9-c738e4f5115e",
   "metadata": {},
   "outputs": [],
   "source": []
  },
  {
   "cell_type": "code",
   "execution_count": 109,
   "id": "44b21e29-bff5-40c7-bb19-9347bfe86dbb",
   "metadata": {},
   "outputs": [],
   "source": [
    "fitness = pd.read_csv(\"daily_activity.csv\")"
   ]
  },
  {
   "cell_type": "code",
   "execution_count": 113,
   "id": "3e505b87-83e7-4bcd-ab8b-f2a3fae320a3",
   "metadata": {},
   "outputs": [
    {
     "data": {
      "text/plain": [
       "['Id',\n",
       " 'ActivityDate',\n",
       " 'TotalSteps',\n",
       " 'TotalDistance',\n",
       " 'TrackerDistance',\n",
       " 'LoggedActivitiesDistance',\n",
       " 'VeryActiveDistance',\n",
       " 'ModeratelyActiveDistance',\n",
       " 'LightActiveDistance',\n",
       " 'SedentaryActiveDistance',\n",
       " 'VeryActiveMinutes',\n",
       " 'FairlyActiveMinutes',\n",
       " 'LightlyActiveMinutes',\n",
       " 'SedentaryMinutes',\n",
       " 'Calories']"
      ]
     },
     "execution_count": 113,
     "metadata": {},
     "output_type": "execute_result"
    }
   ],
   "source": [
    "fitness.columns.values.tolist()"
   ]
  },
  {
   "cell_type": "code",
   "execution_count": 115,
   "id": "89e42e7c-02c2-4a62-876c-6abd6b633f20",
   "metadata": {},
   "outputs": [],
   "source": [
    "fitness['cal_cat'] = fitness['Calories'] - fitness['Calories'].mean()"
   ]
  },
  {
   "cell_type": "code",
   "execution_count": 120,
   "id": "27e72806-aba8-44e2-b656-8c61a335b578",
   "metadata": {},
   "outputs": [
    {
     "data": {
      "text/plain": [
       "-323.609574     13\n",
       "-240.609574     11\n",
       "-462.609574      9\n",
       "-615.609574      9\n",
       "-956.609574      8\n",
       "                ..\n",
       "-2251.609574     1\n",
       " 1350.390426     1\n",
       "-322.609574      1\n",
       "-292.609574      1\n",
       "-454.609574      1\n",
       "Name: cal_cat, Length: 734, dtype: int64"
      ]
     },
     "execution_count": 120,
     "metadata": {},
     "output_type": "execute_result"
    }
   ],
   "source": [
    "fitness['cal_cat'].value_counts()"
   ]
  },
  {
   "cell_type": "code",
   "execution_count": null,
   "id": "d32b0e09-5d23-4d40-b8e8-11da4ccef40a",
   "metadata": {},
   "outputs": [],
   "source": []
  },
  {
   "cell_type": "code",
   "execution_count": null,
   "id": "7575da46-6900-4e13-b1d8-926a6a1b5b0f",
   "metadata": {},
   "outputs": [],
   "source": []
  },
  {
   "cell_type": "code",
   "execution_count": null,
   "id": "afdce80d-86a3-4dfb-ab71-2f2c9675b8d1",
   "metadata": {},
   "outputs": [],
   "source": []
  },
  {
   "cell_type": "code",
   "execution_count": null,
   "id": "c8f0bab1-7e31-4181-8839-86158208d566",
   "metadata": {},
   "outputs": [],
   "source": []
  },
  {
   "cell_type": "code",
   "execution_count": null,
   "id": "c4a0d160-90cb-4bf8-a1a3-6bfbba593912",
   "metadata": {},
   "outputs": [],
   "source": []
  },
  {
   "cell_type": "code",
   "execution_count": null,
   "id": "703d9b39-44f5-4b10-b147-e4a3cf2657e9",
   "metadata": {},
   "outputs": [],
   "source": []
  },
  {
   "cell_type": "code",
   "execution_count": null,
   "id": "61e3fb81-3991-4776-91fc-023a5fc65e12",
   "metadata": {},
   "outputs": [],
   "source": []
  },
  {
   "cell_type": "code",
   "execution_count": null,
   "id": "01fbd9cb-6ece-4cb9-a7d3-114c31aec924",
   "metadata": {},
   "outputs": [],
   "source": []
  },
  {
   "cell_type": "code",
   "execution_count": null,
   "id": "52a88c3b-bcaf-4105-894b-4f5082010d69",
   "metadata": {},
   "outputs": [],
   "source": []
  },
  {
   "cell_type": "code",
   "execution_count": null,
   "id": "17d82033-4655-4322-ac6a-9faaf1c444e1",
   "metadata": {},
   "outputs": [],
   "source": []
  },
  {
   "cell_type": "code",
   "execution_count": null,
   "id": "8a6f5957-43de-479a-b43d-3d9a26fa6996",
   "metadata": {},
   "outputs": [],
   "source": []
  },
  {
   "cell_type": "code",
   "execution_count": null,
   "id": "fc8399b1-c405-43ca-958a-1becd1c0e225",
   "metadata": {},
   "outputs": [],
   "source": []
  },
  {
   "cell_type": "code",
   "execution_count": null,
   "id": "ecc9ea6a-f41b-43cc-a6e4-e2630f05b11c",
   "metadata": {},
   "outputs": [],
   "source": []
  },
  {
   "cell_type": "code",
   "execution_count": null,
   "id": "d84584c8-2d63-4c6d-9ba9-4b2f1576278c",
   "metadata": {},
   "outputs": [],
   "source": []
  },
  {
   "cell_type": "code",
   "execution_count": null,
   "id": "b1c88649-9302-4393-855e-a6265fab67fb",
   "metadata": {},
   "outputs": [],
   "source": []
  },
  {
   "cell_type": "code",
   "execution_count": null,
   "id": "4664dbb9-a283-49f3-8401-ce9ead438a38",
   "metadata": {},
   "outputs": [],
   "source": []
  },
  {
   "cell_type": "code",
   "execution_count": null,
   "id": "362745ce-5291-4edf-8211-dd4434438895",
   "metadata": {},
   "outputs": [],
   "source": []
  },
  {
   "cell_type": "code",
   "execution_count": null,
   "id": "f9913d68-3c36-4815-a20c-adc7ff9baf63",
   "metadata": {},
   "outputs": [],
   "source": []
  },
  {
   "cell_type": "code",
   "execution_count": null,
   "id": "c46682f4-83ea-4838-ac19-707277cc23bb",
   "metadata": {},
   "outputs": [],
   "source": []
  },
  {
   "cell_type": "code",
   "execution_count": 94,
   "id": "528de6b0-0610-4068-9e40-3da540f16fa0",
   "metadata": {},
   "outputs": [],
   "source": []
  },
  {
   "cell_type": "code",
   "execution_count": null,
   "id": "91f10ee0-142e-4aa5-988b-2e101b846537",
   "metadata": {},
   "outputs": [],
   "source": []
  },
  {
   "cell_type": "code",
   "execution_count": null,
   "id": "088951cb-1393-4464-9f70-60679cacce66",
   "metadata": {},
   "outputs": [],
   "source": []
  },
  {
   "cell_type": "code",
   "execution_count": 95,
   "id": "d986180d-85c3-4c50-a07e-4d650c22d098",
   "metadata": {},
   "outputs": [
    {
     "data": {
      "text/html": [
       "<div>\n",
       "<style scoped>\n",
       "    .dataframe tbody tr th:only-of-type {\n",
       "        vertical-align: middle;\n",
       "    }\n",
       "\n",
       "    .dataframe tbody tr th {\n",
       "        vertical-align: top;\n",
       "    }\n",
       "\n",
       "    .dataframe thead th {\n",
       "        text-align: right;\n",
       "    }\n",
       "</style>\n",
       "<table border=\"1\" class=\"dataframe\">\n",
       "  <thead>\n",
       "    <tr style=\"text-align: right;\">\n",
       "      <th></th>\n",
       "      <th>sickLv</th>\n",
       "      <th>annualLv</th>\n",
       "      <th>personalLv</th>\n",
       "      <th>personalNums</th>\n",
       "      <th>leave_remained</th>\n",
       "      <th>days_remained</th>\n",
       "    </tr>\n",
       "  </thead>\n",
       "  <tbody>\n",
       "    <tr>\n",
       "      <th>Shen Lee</th>\n",
       "      <td>0</td>\n",
       "      <td>0</td>\n",
       "      <td>0</td>\n",
       "      <td>215</td>\n",
       "      <td>33.0</td>\n",
       "      <td>33.0</td>\n",
       "    </tr>\n",
       "    <tr>\n",
       "      <th>Leon Buhle</th>\n",
       "      <td>2</td>\n",
       "      <td>0</td>\n",
       "      <td>1</td>\n",
       "      <td>216</td>\n",
       "      <td>27.0</td>\n",
       "      <td>27.0</td>\n",
       "    </tr>\n",
       "    <tr>\n",
       "      <th>Tracy Adams</th>\n",
       "      <td>0</td>\n",
       "      <td>5</td>\n",
       "      <td>0</td>\n",
       "      <td>217</td>\n",
       "      <td>25.0</td>\n",
       "      <td>25.0</td>\n",
       "    </tr>\n",
       "    <tr>\n",
       "      <th>Lebo Sinuka</th>\n",
       "      <td>1</td>\n",
       "      <td>4</td>\n",
       "      <td>5</td>\n",
       "      <td>218</td>\n",
       "      <td>23.0</td>\n",
       "      <td>23.0</td>\n",
       "    </tr>\n",
       "    <tr>\n",
       "      <th>Lauren Pierce</th>\n",
       "      <td>3</td>\n",
       "      <td>2</td>\n",
       "      <td>0</td>\n",
       "      <td>219</td>\n",
       "      <td>28.0</td>\n",
       "      <td>28.0</td>\n",
       "    </tr>\n",
       "    <tr>\n",
       "      <th>Monika Bond</th>\n",
       "      <td>0</td>\n",
       "      <td>5</td>\n",
       "      <td>3</td>\n",
       "      <td>220</td>\n",
       "      <td>28.0</td>\n",
       "      <td>28.0</td>\n",
       "    </tr>\n",
       "    <tr>\n",
       "      <th>Natahs Allsopp</th>\n",
       "      <td>1</td>\n",
       "      <td>10</td>\n",
       "      <td>0</td>\n",
       "      <td>221</td>\n",
       "      <td>19.0</td>\n",
       "      <td>19.0</td>\n",
       "    </tr>\n",
       "    <tr>\n",
       "      <th>Nicholas Winter</th>\n",
       "      <td>0</td>\n",
       "      <td>8</td>\n",
       "      <td>1</td>\n",
       "      <td>222</td>\n",
       "      <td>24.0</td>\n",
       "      <td>24.0</td>\n",
       "    </tr>\n",
       "    <tr>\n",
       "      <th>Christopher Eckson</th>\n",
       "      <td>2</td>\n",
       "      <td>10</td>\n",
       "      <td>3</td>\n",
       "      <td>223</td>\n",
       "      <td>21.0</td>\n",
       "      <td>21.0</td>\n",
       "    </tr>\n",
       "    <tr>\n",
       "      <th>Siobhan O’Malley</th>\n",
       "      <td>5</td>\n",
       "      <td>0</td>\n",
       "      <td>0</td>\n",
       "      <td>224</td>\n",
       "      <td>28.0</td>\n",
       "      <td>28.0</td>\n",
       "    </tr>\n",
       "  </tbody>\n",
       "</table>\n",
       "</div>"
      ],
      "text/plain": [
       "                    sickLv  annualLv  personalLv  personalNums  \\\n",
       "Shen Lee                 0         0           0           215   \n",
       "Leon Buhle               2         0           1           216   \n",
       "Tracy Adams              0         5           0           217   \n",
       "Lebo Sinuka              1         4           5           218   \n",
       "Lauren Pierce            3         2           0           219   \n",
       "Monika Bond              0         5           3           220   \n",
       "Natahs Allsopp           1        10           0           221   \n",
       "Nicholas Winter          0         8           1           222   \n",
       "Christopher Eckson       2        10           3           223   \n",
       "Siobhan O’Malley         5         0           0           224   \n",
       "\n",
       "                    leave_remained  days_remained  \n",
       "Shen Lee                      33.0           33.0  \n",
       "Leon Buhle                    27.0           27.0  \n",
       "Tracy Adams                   25.0           25.0  \n",
       "Lebo Sinuka                   23.0           23.0  \n",
       "Lauren Pierce                 28.0           28.0  \n",
       "Monika Bond                   28.0           28.0  \n",
       "Natahs Allsopp                19.0           19.0  \n",
       "Nicholas Winter               24.0           24.0  \n",
       "Christopher Eckson            21.0           21.0  \n",
       "Siobhan O’Malley              28.0           28.0  "
      ]
     },
     "execution_count": 95,
     "metadata": {},
     "output_type": "execute_result"
    }
   ],
   "source": [
    "df"
   ]
  },
  {
   "cell_type": "code",
   "execution_count": null,
   "id": "116a0f87-6f89-4ec7-bfca-1c6fbebdce57",
   "metadata": {},
   "outputs": [],
   "source": []
  },
  {
   "cell_type": "code",
   "execution_count": null,
   "id": "1ced8467-6235-4cda-9621-db03a72f92df",
   "metadata": {},
   "outputs": [],
   "source": []
  },
  {
   "cell_type": "code",
   "execution_count": null,
   "id": "f87c7041-08ec-4daf-9432-bfc7eb39b35e",
   "metadata": {},
   "outputs": [],
   "source": []
  },
  {
   "cell_type": "code",
   "execution_count": null,
   "id": "b33aa2a5-0c29-4154-a9c4-934e41cfb262",
   "metadata": {},
   "outputs": [],
   "source": []
  },
  {
   "cell_type": "code",
   "execution_count": null,
   "id": "0945717f-b877-4950-8319-e6774a5ea0f9",
   "metadata": {},
   "outputs": [],
   "source": []
  },
  {
   "cell_type": "code",
   "execution_count": null,
   "id": "86307f55-4361-4342-bba5-57f01e91538a",
   "metadata": {},
   "outputs": [],
   "source": []
  },
  {
   "cell_type": "code",
   "execution_count": null,
   "id": "058959b3-d002-4588-928f-df596e583fb4",
   "metadata": {},
   "outputs": [],
   "source": []
  },
  {
   "cell_type": "code",
   "execution_count": 41,
   "id": "487e64b1-4169-4f02-b9d5-1c35ab5d470d",
   "metadata": {},
   "outputs": [],
   "source": []
  },
  {
   "cell_type": "code",
   "execution_count": null,
   "id": "d5d3068a-75d4-41cd-a80e-2d480d53e314",
   "metadata": {},
   "outputs": [],
   "source": []
  },
  {
   "cell_type": "code",
   "execution_count": null,
   "id": "23227282-6939-4ec5-803a-292768278294",
   "metadata": {},
   "outputs": [],
   "source": []
  },
  {
   "cell_type": "code",
   "execution_count": null,
   "id": "976e09f8-8dba-4ef5-9e80-d13e3728360b",
   "metadata": {},
   "outputs": [],
   "source": []
  },
  {
   "cell_type": "code",
   "execution_count": null,
   "id": "9c86e7a1-5c62-4746-ade4-84848fac04be",
   "metadata": {},
   "outputs": [],
   "source": []
  },
  {
   "cell_type": "code",
   "execution_count": null,
   "id": "ff6ac243-2013-4728-9771-1d536dcf9834",
   "metadata": {},
   "outputs": [],
   "source": []
  },
  {
   "cell_type": "code",
   "execution_count": null,
   "id": "6db7ccab-f1be-421d-9a61-58090fa333aa",
   "metadata": {},
   "outputs": [],
   "source": []
  },
  {
   "cell_type": "code",
   "execution_count": null,
   "id": "14ee7ebb-21d0-40f9-8757-95d8aae1221a",
   "metadata": {},
   "outputs": [],
   "source": []
  },
  {
   "cell_type": "code",
   "execution_count": null,
   "id": "a05cb7be-8d4d-4eb4-b307-da94d7bc6e1f",
   "metadata": {},
   "outputs": [],
   "source": []
  },
  {
   "cell_type": "code",
   "execution_count": 85,
   "id": "1f737e47-4553-4e14-8062-3b824a3cba27",
   "metadata": {},
   "outputs": [
    {
     "data": {
      "text/html": [
       "<div>\n",
       "<style scoped>\n",
       "    .dataframe tbody tr th:only-of-type {\n",
       "        vertical-align: middle;\n",
       "    }\n",
       "\n",
       "    .dataframe tbody tr th {\n",
       "        vertical-align: top;\n",
       "    }\n",
       "\n",
       "    .dataframe thead th {\n",
       "        text-align: right;\n",
       "    }\n",
       "</style>\n",
       "<table border=\"1\" class=\"dataframe\">\n",
       "  <thead>\n",
       "    <tr style=\"text-align: right;\">\n",
       "      <th></th>\n",
       "      <th>sickLv</th>\n",
       "      <th>annualLv</th>\n",
       "      <th>personalLv</th>\n",
       "      <th>personalNums</th>\n",
       "    </tr>\n",
       "  </thead>\n",
       "  <tbody>\n",
       "    <tr>\n",
       "      <th>Shen Lee</th>\n",
       "      <td>0</td>\n",
       "      <td>0</td>\n",
       "      <td>0</td>\n",
       "      <td>215</td>\n",
       "    </tr>\n",
       "    <tr>\n",
       "      <th>Leon Buhle</th>\n",
       "      <td>2</td>\n",
       "      <td>0</td>\n",
       "      <td>1</td>\n",
       "      <td>216</td>\n",
       "    </tr>\n",
       "    <tr>\n",
       "      <th>Tracy Adams</th>\n",
       "      <td>0</td>\n",
       "      <td>5</td>\n",
       "      <td>0</td>\n",
       "      <td>217</td>\n",
       "    </tr>\n",
       "    <tr>\n",
       "      <th>Lebo Sinuka</th>\n",
       "      <td>1</td>\n",
       "      <td>4</td>\n",
       "      <td>5</td>\n",
       "      <td>218</td>\n",
       "    </tr>\n",
       "    <tr>\n",
       "      <th>Lauren Pierce</th>\n",
       "      <td>3</td>\n",
       "      <td>2</td>\n",
       "      <td>0</td>\n",
       "      <td>219</td>\n",
       "    </tr>\n",
       "    <tr>\n",
       "      <th>Monika Bond</th>\n",
       "      <td>0</td>\n",
       "      <td>5</td>\n",
       "      <td>3</td>\n",
       "      <td>220</td>\n",
       "    </tr>\n",
       "    <tr>\n",
       "      <th>Natahs Allsopp</th>\n",
       "      <td>1</td>\n",
       "      <td>10</td>\n",
       "      <td>0</td>\n",
       "      <td>221</td>\n",
       "    </tr>\n",
       "    <tr>\n",
       "      <th>Nicholas Winter</th>\n",
       "      <td>0</td>\n",
       "      <td>8</td>\n",
       "      <td>1</td>\n",
       "      <td>222</td>\n",
       "    </tr>\n",
       "    <tr>\n",
       "      <th>Christopher Eckson</th>\n",
       "      <td>2</td>\n",
       "      <td>10</td>\n",
       "      <td>3</td>\n",
       "      <td>223</td>\n",
       "    </tr>\n",
       "    <tr>\n",
       "      <th>Siobhan O’Malley</th>\n",
       "      <td>5</td>\n",
       "      <td>0</td>\n",
       "      <td>0</td>\n",
       "      <td>224</td>\n",
       "    </tr>\n",
       "  </tbody>\n",
       "</table>\n",
       "</div>"
      ],
      "text/plain": [
       "                    sickLv  annualLv  personalLv  personalNums\n",
       "Shen Lee                 0         0           0           215\n",
       "Leon Buhle               2         0           1           216\n",
       "Tracy Adams              0         5           0           217\n",
       "Lebo Sinuka              1         4           5           218\n",
       "Lauren Pierce            3         2           0           219\n",
       "Monika Bond              0         5           3           220\n",
       "Natahs Allsopp           1        10           0           221\n",
       "Nicholas Winter          0         8           1           222\n",
       "Christopher Eckson       2        10           3           223\n",
       "Siobhan O’Malley         5         0           0           224"
      ]
     },
     "execution_count": 85,
     "metadata": {},
     "output_type": "execute_result"
    }
   ],
   "source": [
    "df"
   ]
  },
  {
   "cell_type": "code",
   "execution_count": null,
   "id": "d2460511-aab8-40f1-a6d2-8b591603d17e",
   "metadata": {},
   "outputs": [],
   "source": []
  },
  {
   "cell_type": "code",
   "execution_count": null,
   "id": "ce766ca3-ea7e-498f-b728-69d5cea4047a",
   "metadata": {},
   "outputs": [],
   "source": []
  },
  {
   "cell_type": "code",
   "execution_count": null,
   "id": "22eed86f-4ae1-406b-be3f-0c486131c5ac",
   "metadata": {},
   "outputs": [],
   "source": []
  },
  {
   "cell_type": "code",
   "execution_count": 78,
   "id": "19f71911-67a5-4961-9a1c-de4b776c15a8",
   "metadata": {},
   "outputs": [],
   "source": []
  },
  {
   "cell_type": "code",
   "execution_count": 80,
   "id": "ae4f65d5-1cc6-477d-a7a0-856fb38784e4",
   "metadata": {},
   "outputs": [],
   "source": []
  },
  {
   "cell_type": "code",
   "execution_count": 81,
   "id": "c629634f-b078-4ca9-9a93-a4c71b5dcffa",
   "metadata": {},
   "outputs": [
    {
     "data": {
      "text/html": [
       "<div>\n",
       "<style scoped>\n",
       "    .dataframe tbody tr th:only-of-type {\n",
       "        vertical-align: middle;\n",
       "    }\n",
       "\n",
       "    .dataframe tbody tr th {\n",
       "        vertical-align: top;\n",
       "    }\n",
       "\n",
       "    .dataframe thead th {\n",
       "        text-align: right;\n",
       "    }\n",
       "</style>\n",
       "<table border=\"1\" class=\"dataframe\">\n",
       "  <thead>\n",
       "    <tr style=\"text-align: right;\">\n",
       "      <th></th>\n",
       "      <th>staffName</th>\n",
       "      <th>sickLv</th>\n",
       "      <th>annualLv</th>\n",
       "      <th>personalLv</th>\n",
       "      <th>personalNums</th>\n",
       "    </tr>\n",
       "  </thead>\n",
       "  <tbody>\n",
       "    <tr>\n",
       "      <th>0</th>\n",
       "      <td>Shen Lee</td>\n",
       "      <td>0</td>\n",
       "      <td>0</td>\n",
       "      <td>0</td>\n",
       "      <td>NaN</td>\n",
       "    </tr>\n",
       "    <tr>\n",
       "      <th>1</th>\n",
       "      <td>Leon Buhle</td>\n",
       "      <td>2</td>\n",
       "      <td>0</td>\n",
       "      <td>1</td>\n",
       "      <td>NaN</td>\n",
       "    </tr>\n",
       "    <tr>\n",
       "      <th>2</th>\n",
       "      <td>Tracy Adams</td>\n",
       "      <td>0</td>\n",
       "      <td>5</td>\n",
       "      <td>0</td>\n",
       "      <td>NaN</td>\n",
       "    </tr>\n",
       "    <tr>\n",
       "      <th>3</th>\n",
       "      <td>Lebo Sinuka</td>\n",
       "      <td>1</td>\n",
       "      <td>4</td>\n",
       "      <td>5</td>\n",
       "      <td>NaN</td>\n",
       "    </tr>\n",
       "    <tr>\n",
       "      <th>4</th>\n",
       "      <td>Lauren Pierce</td>\n",
       "      <td>3</td>\n",
       "      <td>2</td>\n",
       "      <td>0</td>\n",
       "      <td>NaN</td>\n",
       "    </tr>\n",
       "    <tr>\n",
       "      <th>5</th>\n",
       "      <td>Monika Bond</td>\n",
       "      <td>0</td>\n",
       "      <td>5</td>\n",
       "      <td>3</td>\n",
       "      <td>NaN</td>\n",
       "    </tr>\n",
       "    <tr>\n",
       "      <th>6</th>\n",
       "      <td>Natahs Allsopp</td>\n",
       "      <td>1</td>\n",
       "      <td>10</td>\n",
       "      <td>0</td>\n",
       "      <td>NaN</td>\n",
       "    </tr>\n",
       "    <tr>\n",
       "      <th>7</th>\n",
       "      <td>Nicholas Winter</td>\n",
       "      <td>0</td>\n",
       "      <td>8</td>\n",
       "      <td>1</td>\n",
       "      <td>NaN</td>\n",
       "    </tr>\n",
       "    <tr>\n",
       "      <th>8</th>\n",
       "      <td>Christopher Eckson</td>\n",
       "      <td>2</td>\n",
       "      <td>10</td>\n",
       "      <td>3</td>\n",
       "      <td>NaN</td>\n",
       "    </tr>\n",
       "    <tr>\n",
       "      <th>9</th>\n",
       "      <td>Siobhan O’Malley</td>\n",
       "      <td>5</td>\n",
       "      <td>0</td>\n",
       "      <td>0</td>\n",
       "      <td>NaN</td>\n",
       "    </tr>\n",
       "  </tbody>\n",
       "</table>\n",
       "</div>"
      ],
      "text/plain": [
       "            staffName  sickLv  annualLv  personalLv  personalNums\n",
       "0            Shen Lee       0         0           0           NaN\n",
       "1          Leon Buhle       2         0           1           NaN\n",
       "2         Tracy Adams       0         5           0           NaN\n",
       "3         Lebo Sinuka       1         4           5           NaN\n",
       "4       Lauren Pierce       3         2           0           NaN\n",
       "5         Monika Bond       0         5           3           NaN\n",
       "6      Natahs Allsopp       1        10           0           NaN\n",
       "7     Nicholas Winter       0         8           1           NaN\n",
       "8  Christopher Eckson       2        10           3           NaN\n",
       "9    Siobhan O’Malley       5         0           0           NaN"
      ]
     },
     "execution_count": 81,
     "metadata": {},
     "output_type": "execute_result"
    }
   ],
   "source": [
    "df"
   ]
  },
  {
   "cell_type": "code",
   "execution_count": null,
   "id": "c181c7a0-d78e-404b-b364-4c6db5aff693",
   "metadata": {},
   "outputs": [],
   "source": []
  },
  {
   "cell_type": "code",
   "execution_count": null,
   "id": "aeb92547-34c2-43ad-ae53-ff67403daf5e",
   "metadata": {},
   "outputs": [],
   "source": []
  },
  {
   "cell_type": "code",
   "execution_count": null,
   "id": "a5609332-c91c-4b49-9f5e-03096fff58c7",
   "metadata": {},
   "outputs": [],
   "source": []
  },
  {
   "cell_type": "code",
   "execution_count": null,
   "id": "8b48e286-03e6-4b81-a032-c75a94331b56",
   "metadata": {},
   "outputs": [],
   "source": []
  },
  {
   "cell_type": "code",
   "execution_count": null,
   "id": "a9bd3bb9-d537-4cf1-a1b5-fa0297b7ecd2",
   "metadata": {},
   "outputs": [],
   "source": []
  },
  {
   "cell_type": "code",
   "execution_count": null,
   "id": "0ee259bd-fdb1-46c2-9bc7-6375f85bdefb",
   "metadata": {},
   "outputs": [],
   "source": []
  },
  {
   "cell_type": "code",
   "execution_count": null,
   "id": "08ef06de-04f0-4c9e-b1cb-02bd639a701b",
   "metadata": {},
   "outputs": [],
   "source": []
  },
  {
   "cell_type": "code",
   "execution_count": null,
   "id": "dbd576dc-c070-4f75-a0f5-d64f0490ce09",
   "metadata": {},
   "outputs": [],
   "source": []
  },
  {
   "cell_type": "code",
   "execution_count": null,
   "id": "a7291239-a760-4f42-a0f7-70d061f7655a",
   "metadata": {},
   "outputs": [],
   "source": []
  },
  {
   "cell_type": "code",
   "execution_count": null,
   "id": "b1f48867-0040-405e-a4fa-3a831d26a0c3",
   "metadata": {},
   "outputs": [],
   "source": []
  },
  {
   "cell_type": "code",
   "execution_count": null,
   "id": "1be63e67-dd3c-41b4-833f-55936ad577f5",
   "metadata": {},
   "outputs": [],
   "source": []
  },
  {
   "cell_type": "code",
   "execution_count": null,
   "id": "f8541494-429d-4d00-841e-5ac4cf9d7506",
   "metadata": {},
   "outputs": [],
   "source": []
  },
  {
   "cell_type": "code",
   "execution_count": null,
   "id": "a3e22d26-cd6d-45f3-984f-30c12871ad9c",
   "metadata": {},
   "outputs": [],
   "source": []
  },
  {
   "cell_type": "code",
   "execution_count": null,
   "id": "f825b1cb-3005-4d16-a453-4a43855bf797",
   "metadata": {},
   "outputs": [],
   "source": []
  },
  {
   "cell_type": "code",
   "execution_count": null,
   "id": "358b2f1a-43c8-4071-9bcc-82d84f07c103",
   "metadata": {},
   "outputs": [],
   "source": []
  },
  {
   "cell_type": "code",
   "execution_count": null,
   "id": "07de45b5-f524-4b65-b14f-cd1222d507c1",
   "metadata": {},
   "outputs": [],
   "source": []
  },
  {
   "cell_type": "code",
   "execution_count": null,
   "id": "97dd5f0f-11cc-4a93-b718-4848bd55475f",
   "metadata": {},
   "outputs": [],
   "source": []
  },
  {
   "cell_type": "code",
   "execution_count": null,
   "id": "5f7ed9b3-55cb-4e59-a0d5-3c05d2ca0b41",
   "metadata": {},
   "outputs": [],
   "source": []
  },
  {
   "cell_type": "code",
   "execution_count": null,
   "id": "89a822ca-918b-4f15-8fe9-1fb791ab25fd",
   "metadata": {},
   "outputs": [],
   "source": []
  },
  {
   "cell_type": "code",
   "execution_count": null,
   "id": "48e6d52f-1528-4520-8a04-2d10e02e7be8",
   "metadata": {},
   "outputs": [],
   "source": []
  },
  {
   "cell_type": "code",
   "execution_count": null,
   "id": "63302890-319b-4a92-97c8-46ca07d35f85",
   "metadata": {},
   "outputs": [],
   "source": []
  },
  {
   "cell_type": "code",
   "execution_count": null,
   "id": "e4aaa816-ad5a-4f76-9dc8-018e4966b30a",
   "metadata": {},
   "outputs": [],
   "source": []
  },
  {
   "cell_type": "code",
   "execution_count": null,
   "id": "7507d9e1-7932-45b5-8b5d-c618d232d8fb",
   "metadata": {},
   "outputs": [],
   "source": []
  },
  {
   "cell_type": "code",
   "execution_count": null,
   "id": "4ab278bf-bccb-4894-8a7d-c5cf72e71f3b",
   "metadata": {},
   "outputs": [],
   "source": []
  },
  {
   "cell_type": "code",
   "execution_count": null,
   "id": "c71d934a-ac11-4c80-9d2e-3618c96a6f84",
   "metadata": {},
   "outputs": [],
   "source": []
  },
  {
   "cell_type": "code",
   "execution_count": 49,
   "id": "789c899d-87f7-4e8f-8d9f-d3d4a32af45f",
   "metadata": {},
   "outputs": [],
   "source": [
    "df1[\"personalNums\"] = ser2"
   ]
  },
  {
   "cell_type": "code",
   "execution_count": 51,
   "id": "72f87334-726c-4c19-bad8-accfb6df920a",
   "metadata": {},
   "outputs": [
    {
     "data": {
      "text/plain": [
       "Index(['sickLv', 'annualLv', 'personalLv', 'personalNums'], dtype='object')"
      ]
     },
     "execution_count": 51,
     "metadata": {},
     "output_type": "execute_result"
    }
   ],
   "source": [
    "#10 days sick leave, 20 days annual leave, 5 days personal leave, and 3 days added for one full unit of employment as a bonus.\n",
    "daysLeft = 10+20+5+"
   ]
  },
  {
   "cell_type": "code",
   "execution_count": 55,
   "id": "62208aee-4a56-4eda-a309-31686c191216",
   "metadata": {},
   "outputs": [
    {
     "data": {
      "text/plain": [
       "'sickLv'"
      ]
     },
     "execution_count": 55,
     "metadata": {},
     "output_type": "execute_result"
    }
   ],
   "source": [
    "df1.columns[0]"
   ]
  },
  {
   "cell_type": "code",
   "execution_count": 56,
   "id": "84113241-2a6e-4b18-a663-d7e699541ee9",
   "metadata": {},
   "outputs": [],
   "source": [
    "col_idx = ['personalNums','sickLv', 'annualLv', 'personalLv']"
   ]
  },
  {
   "cell_type": "code",
   "execution_count": 57,
   "id": "a2e45abc-d55e-43de-b970-b2874ecedc76",
   "metadata": {},
   "outputs": [],
   "source": [
    "df1.columns = col_idx"
   ]
  },
  {
   "cell_type": "code",
   "execution_count": 58,
   "id": "6d31db71-41d2-4592-b01e-51ab9e059587",
   "metadata": {},
   "outputs": [
    {
     "data": {
      "text/html": [
       "<div>\n",
       "<style scoped>\n",
       "    .dataframe tbody tr th:only-of-type {\n",
       "        vertical-align: middle;\n",
       "    }\n",
       "\n",
       "    .dataframe tbody tr th {\n",
       "        vertical-align: top;\n",
       "    }\n",
       "\n",
       "    .dataframe thead th {\n",
       "        text-align: right;\n",
       "    }\n",
       "</style>\n",
       "<table border=\"1\" class=\"dataframe\">\n",
       "  <thead>\n",
       "    <tr style=\"text-align: right;\">\n",
       "      <th></th>\n",
       "      <th>personalNums</th>\n",
       "      <th>sickLv</th>\n",
       "      <th>annualLv</th>\n",
       "      <th>personalLv</th>\n",
       "    </tr>\n",
       "  </thead>\n",
       "  <tbody>\n",
       "    <tr>\n",
       "      <th>Shen Lee</th>\n",
       "      <td>0</td>\n",
       "      <td>0</td>\n",
       "      <td>0</td>\n",
       "      <td>215</td>\n",
       "    </tr>\n",
       "    <tr>\n",
       "      <th>Leon Buhle</th>\n",
       "      <td>2</td>\n",
       "      <td>0</td>\n",
       "      <td>1</td>\n",
       "      <td>216</td>\n",
       "    </tr>\n",
       "    <tr>\n",
       "      <th>Tracy Adams</th>\n",
       "      <td>0</td>\n",
       "      <td>5</td>\n",
       "      <td>0</td>\n",
       "      <td>217</td>\n",
       "    </tr>\n",
       "    <tr>\n",
       "      <th>Lebo Sinuka</th>\n",
       "      <td>1</td>\n",
       "      <td>4</td>\n",
       "      <td>5</td>\n",
       "      <td>218</td>\n",
       "    </tr>\n",
       "    <tr>\n",
       "      <th>Lauren Pierce</th>\n",
       "      <td>3</td>\n",
       "      <td>2</td>\n",
       "      <td>0</td>\n",
       "      <td>219</td>\n",
       "    </tr>\n",
       "    <tr>\n",
       "      <th>Monika Bond</th>\n",
       "      <td>0</td>\n",
       "      <td>5</td>\n",
       "      <td>3</td>\n",
       "      <td>220</td>\n",
       "    </tr>\n",
       "    <tr>\n",
       "      <th>Natahs Allsopp</th>\n",
       "      <td>1</td>\n",
       "      <td>10</td>\n",
       "      <td>0</td>\n",
       "      <td>221</td>\n",
       "    </tr>\n",
       "    <tr>\n",
       "      <th>Nicholas Winter</th>\n",
       "      <td>0</td>\n",
       "      <td>8</td>\n",
       "      <td>1</td>\n",
       "      <td>222</td>\n",
       "    </tr>\n",
       "    <tr>\n",
       "      <th>Christopher Eckson</th>\n",
       "      <td>2</td>\n",
       "      <td>10</td>\n",
       "      <td>3</td>\n",
       "      <td>223</td>\n",
       "    </tr>\n",
       "    <tr>\n",
       "      <th>Siobhan O’Malley</th>\n",
       "      <td>5</td>\n",
       "      <td>0</td>\n",
       "      <td>0</td>\n",
       "      <td>224</td>\n",
       "    </tr>\n",
       "  </tbody>\n",
       "</table>\n",
       "</div>"
      ],
      "text/plain": [
       "                    personalNums  sickLv  annualLv  personalLv\n",
       "Shen Lee                       0       0         0         215\n",
       "Leon Buhle                     2       0         1         216\n",
       "Tracy Adams                    0       5         0         217\n",
       "Lebo Sinuka                    1       4         5         218\n",
       "Lauren Pierce                  3       2         0         219\n",
       "Monika Bond                    0       5         3         220\n",
       "Natahs Allsopp                 1      10         0         221\n",
       "Nicholas Winter                0       8         1         222\n",
       "Christopher Eckson             2      10         3         223\n",
       "Siobhan O’Malley               5       0         0         224"
      ]
     },
     "execution_count": 58,
     "metadata": {},
     "output_type": "execute_result"
    }
   ],
   "source": [
    "df1"
   ]
  },
  {
   "cell_type": "code",
   "execution_count": null,
   "id": "c51ff646-71b2-473a-bf6e-3370f50160d0",
   "metadata": {},
   "outputs": [],
   "source": []
  },
  {
   "cell_type": "code",
   "execution_count": null,
   "id": "dc75b535-3de9-4e1e-ad13-7f3d37dbb746",
   "metadata": {},
   "outputs": [],
   "source": []
  },
  {
   "cell_type": "code",
   "execution_count": null,
   "id": "a58e11bc-d7ef-4469-aa99-d17d8052a6cb",
   "metadata": {},
   "outputs": [],
   "source": []
  },
  {
   "cell_type": "code",
   "execution_count": null,
   "id": "b328bc8d-2bb4-49db-ba24-ba84c3094c67",
   "metadata": {},
   "outputs": [],
   "source": []
  },
  {
   "cell_type": "code",
   "execution_count": null,
   "id": "324fb400-2293-4b89-be91-2d313354090a",
   "metadata": {},
   "outputs": [],
   "source": []
  },
  {
   "cell_type": "code",
   "execution_count": null,
   "id": "8b661ef4-e311-4c8a-8b9b-2ae5ea62cd63",
   "metadata": {},
   "outputs": [],
   "source": []
  },
  {
   "cell_type": "code",
   "execution_count": null,
   "id": "4aa4ee96-d0dc-44c3-ad79-9a229aeb8102",
   "metadata": {},
   "outputs": [],
   "source": []
  },
  {
   "cell_type": "code",
   "execution_count": null,
   "id": "f723cd3b-2f40-4e00-8803-4b9044e76034",
   "metadata": {},
   "outputs": [],
   "source": []
  },
  {
   "cell_type": "code",
   "execution_count": null,
   "id": "93844cfe-fbbe-4e0c-bfc5-992ad106d402",
   "metadata": {},
   "outputs": [],
   "source": []
  },
  {
   "cell_type": "code",
   "execution_count": null,
   "id": "2b345076-cf73-46aa-925e-d22dceb03f8f",
   "metadata": {},
   "outputs": [],
   "source": []
  },
  {
   "cell_type": "code",
   "execution_count": null,
   "id": "e0dfb9cd-2570-45fc-98c4-feefbcf8fc66",
   "metadata": {},
   "outputs": [],
   "source": []
  },
  {
   "cell_type": "code",
   "execution_count": null,
   "id": "01801d8a-da9c-4d82-b7e4-96a80e3d87a2",
   "metadata": {},
   "outputs": [],
   "source": []
  },
  {
   "cell_type": "code",
   "execution_count": null,
   "id": "5c5871a4-c59d-401b-a70d-101c195c1924",
   "metadata": {},
   "outputs": [],
   "source": []
  },
  {
   "cell_type": "code",
   "execution_count": null,
   "id": "ced86ada-728d-46f2-b7f3-c5be25865b87",
   "metadata": {},
   "outputs": [],
   "source": []
  },
  {
   "cell_type": "code",
   "execution_count": null,
   "id": "1463e348-61fd-457f-9d7f-37451f833574",
   "metadata": {},
   "outputs": [],
   "source": []
  },
  {
   "cell_type": "code",
   "execution_count": null,
   "id": "10621dc9-d6ad-407c-99bc-8d45cf5e6cb9",
   "metadata": {},
   "outputs": [],
   "source": []
  },
  {
   "cell_type": "code",
   "execution_count": null,
   "id": "a040d95e-fbea-4261-9767-74d059e2c9a6",
   "metadata": {},
   "outputs": [],
   "source": []
  },
  {
   "cell_type": "code",
   "execution_count": 27,
   "id": "37829e4f-176b-4ac6-ae87-1d60dcc45e76",
   "metadata": {},
   "outputs": [
    {
     "data": {
      "text/html": [
       "<div>\n",
       "<style scoped>\n",
       "    .dataframe tbody tr th:only-of-type {\n",
       "        vertical-align: middle;\n",
       "    }\n",
       "\n",
       "    .dataframe tbody tr th {\n",
       "        vertical-align: top;\n",
       "    }\n",
       "\n",
       "    .dataframe thead th {\n",
       "        text-align: right;\n",
       "    }\n",
       "</style>\n",
       "<table border=\"1\" class=\"dataframe\">\n",
       "  <thead>\n",
       "    <tr style=\"text-align: right;\">\n",
       "      <th></th>\n",
       "      <th>Shen Lee</th>\n",
       "      <th>Leon Buhle</th>\n",
       "      <th>Tracy Adams</th>\n",
       "      <th>Lebo Sinuka</th>\n",
       "      <th>Lauren Pierce</th>\n",
       "      <th>Monika Bond</th>\n",
       "      <th>Natahs Allsopp</th>\n",
       "      <th>Nicholas Winter</th>\n",
       "      <th>Christopher Eckson</th>\n",
       "      <th>Siobhan O’Malley</th>\n",
       "    </tr>\n",
       "  </thead>\n",
       "  <tbody>\n",
       "    <tr>\n",
       "      <th>0</th>\n",
       "      <td>0</td>\n",
       "      <td>2</td>\n",
       "      <td>0</td>\n",
       "      <td>1</td>\n",
       "      <td>3</td>\n",
       "      <td>0</td>\n",
       "      <td>1</td>\n",
       "      <td>0</td>\n",
       "      <td>2</td>\n",
       "      <td>5</td>\n",
       "    </tr>\n",
       "    <tr>\n",
       "      <th>1</th>\n",
       "      <td>0</td>\n",
       "      <td>0</td>\n",
       "      <td>5</td>\n",
       "      <td>4</td>\n",
       "      <td>2</td>\n",
       "      <td>5</td>\n",
       "      <td>10</td>\n",
       "      <td>8</td>\n",
       "      <td>10</td>\n",
       "      <td>0</td>\n",
       "    </tr>\n",
       "    <tr>\n",
       "      <th>2</th>\n",
       "      <td>0</td>\n",
       "      <td>1</td>\n",
       "      <td>0</td>\n",
       "      <td>5</td>\n",
       "      <td>0</td>\n",
       "      <td>3</td>\n",
       "      <td>0</td>\n",
       "      <td>1</td>\n",
       "      <td>3</td>\n",
       "      <td>0</td>\n",
       "    </tr>\n",
       "  </tbody>\n",
       "</table>\n",
       "</div>"
      ],
      "text/plain": [
       "   Shen Lee  Leon Buhle  Tracy Adams  Lebo Sinuka  Lauren Pierce  Monika Bond  \\\n",
       "0         0           2            0            1              3            0   \n",
       "1         0           0            5            4              2            5   \n",
       "2         0           1            0            5              0            3   \n",
       "\n",
       "   Natahs Allsopp  Nicholas Winter  Christopher Eckson  Siobhan O’Malley  \n",
       "0               1                0                   2                 5  \n",
       "1              10                8                  10                 0  \n",
       "2               0                1                   3                 0  "
      ]
     },
     "execution_count": 27,
     "metadata": {},
     "output_type": "execute_result"
    }
   ],
   "source": [
    "ser3"
   ]
  },
  {
   "cell_type": "code",
   "execution_count": null,
   "id": "6406f14a-2daa-43b1-a36c-b0b7880f63ca",
   "metadata": {},
   "outputs": [],
   "source": []
  },
  {
   "cell_type": "code",
   "execution_count": 25,
   "id": "f0fbc9df-24d9-45ad-91b5-fb5eef35336e",
   "metadata": {},
   "outputs": [
    {
     "data": {
      "text/plain": [
       "Shen Lee               [0, 0, 0]\n",
       "Leon Buhle             [2, 0, 1]\n",
       "Tracy Adams            [0, 5, 0]\n",
       "Lebo Sinuka            [1, 4, 5]\n",
       "Lauren Pierce          [3, 2, 0]\n",
       "Monika Bond            [0, 5, 3]\n",
       "Natahs Allsopp        [1, 10, 0]\n",
       "Nicholas Winter        [0, 8, 1]\n",
       "Christopher Eckson    [2, 10, 3]\n",
       "Siobhan O’Malley       [5, 0, 0]\n",
       "dtype: object"
      ]
     },
     "execution_count": 25,
     "metadata": {},
     "output_type": "execute_result"
    }
   ],
   "source": [
    "ser3"
   ]
  },
  {
   "cell_type": "code",
   "execution_count": null,
   "id": "4d720b3f-09a9-4228-929a-3b2d4c84920a",
   "metadata": {},
   "outputs": [],
   "source": []
  },
  {
   "cell_type": "code",
   "execution_count": 23,
   "id": "6577cfc2-ca1f-4b5d-b505-4df4abfd2bf1",
   "metadata": {},
   "outputs": [
    {
     "data": {
      "text/plain": [
       "{'Shen Lee': [0, 0, 0],\n",
       " 'Leon Buhle': [2, 0, 1],\n",
       " 'Tracy Adams': [0, 5, 0],\n",
       " 'Lebo Sinuka': [1, 4, 5],\n",
       " 'Lauren Pierce': [3, 2, 0],\n",
       " 'Monika Bond': [0, 5, 3],\n",
       " 'Natahs Allsopp': [1, 10, 0],\n",
       " 'Nicholas Winter': [0, 8, 1],\n",
       " 'Christopher Eckson': [2, 10, 3],\n",
       " 'Siobhan O’Malley': [5, 0, 0]}"
      ]
     },
     "execution_count": 23,
     "metadata": {},
     "output_type": "execute_result"
    }
   ],
   "source": [
    "totalLv"
   ]
  },
  {
   "cell_type": "code",
   "execution_count": null,
   "id": "29670266-999f-4256-953f-9c9c3bc88be1",
   "metadata": {},
   "outputs": [],
   "source": []
  },
  {
   "cell_type": "code",
   "execution_count": null,
   "id": "78cc6728-b649-4e1c-a83c-67c582d04444",
   "metadata": {},
   "outputs": [],
   "source": [
    "def bonusLv(n):\n",
    "     for i in eUnit.key:\n",
    "            eUnit(i)"
   ]
  },
  {
   "cell_type": "code",
   "execution_count": 18,
   "id": "1e7df43f-d279-4026-b747-089ff7254e42",
   "metadata": {},
   "outputs": [],
   "source": [
    "ser1 = pd.Series(eUnit)"
   ]
  },
  {
   "cell_type": "code",
   "execution_count": 19,
   "id": "4ca1b04f-05fb-47a7-87c3-111f97652feb",
   "metadata": {},
   "outputs": [
    {
     "data": {
      "text/plain": [
       "Shen Lee              1.0\n",
       "Leon Buhle            0.5\n",
       "Tracy Adams           0.8\n",
       "Lebo Sinuka           1.5\n",
       "Lauren Pierce         1.2\n",
       "Monika Bond           2.0\n",
       "Natahs Allsopp        0.3\n",
       "Nicholas Winter       1.1\n",
       "Christopher Eckson    2.2\n",
       "Siobhan O’Malley      1.5\n",
       "dtype: float64"
      ]
     },
     "execution_count": 19,
     "metadata": {},
     "output_type": "execute_result"
    }
   ],
   "source": [
    "ser1"
   ]
  },
  {
   "cell_type": "code",
   "execution_count": null,
   "id": "091c0ac3-7e26-47f2-a0a8-ce4e7ac5f18f",
   "metadata": {},
   "outputs": [],
   "source": []
  },
  {
   "cell_type": "code",
   "execution_count": null,
   "id": "97bde794-3e85-464d-a888-17ad09a7e4bb",
   "metadata": {},
   "outputs": [],
   "source": []
  },
  {
   "cell_type": "code",
   "execution_count": null,
   "id": "29e60baf-c30e-45c2-9abe-5aac0f63d318",
   "metadata": {},
   "outputs": [],
   "source": []
  },
  {
   "cell_type": "code",
   "execution_count": null,
   "id": "5161b181-0f87-45d8-aab7-53c68a365d8e",
   "metadata": {},
   "outputs": [],
   "source": []
  },
  {
   "cell_type": "code",
   "execution_count": null,
   "id": "73350702-0664-4e63-8a56-38b9e8ec6b7e",
   "metadata": {},
   "outputs": [],
   "source": []
  },
  {
   "cell_type": "code",
   "execution_count": null,
   "id": "3e29db36-ce6c-4028-bb71-78bc97893733",
   "metadata": {},
   "outputs": [],
   "source": []
  },
  {
   "cell_type": "code",
   "execution_count": null,
   "id": "025e9ea7-5a61-4f01-87ba-277b925b0291",
   "metadata": {},
   "outputs": [],
   "source": []
  },
  {
   "cell_type": "code",
   "execution_count": null,
   "id": "6e1ff647-d183-4df6-8847-e472c53fb79c",
   "metadata": {},
   "outputs": [],
   "source": []
  },
  {
   "cell_type": "code",
   "execution_count": null,
   "id": "9e331cd4-e71f-4b6e-aa0b-40210a29dc4d",
   "metadata": {},
   "outputs": [],
   "source": []
  },
  {
   "cell_type": "code",
   "execution_count": null,
   "id": "e98c06b2-950d-42eb-a4b5-c43e9602593e",
   "metadata": {},
   "outputs": [],
   "source": []
  },
  {
   "cell_type": "code",
   "execution_count": null,
   "id": "859c9d9c-464a-4f4c-b7f0-df7053f1cd58",
   "metadata": {},
   "outputs": [],
   "source": []
  },
  {
   "cell_type": "code",
   "execution_count": null,
   "id": "432c9d54-72b9-4efb-adb6-bb387e607cb4",
   "metadata": {},
   "outputs": [],
   "source": []
  },
  {
   "cell_type": "code",
   "execution_count": null,
   "id": "d50f34da-9874-4263-aabe-240409e4eb10",
   "metadata": {},
   "outputs": [],
   "source": []
  },
  {
   "cell_type": "code",
   "execution_count": null,
   "id": "f3bb3212-d101-41f7-af89-93fb23b68295",
   "metadata": {},
   "outputs": [],
   "source": []
  },
  {
   "cell_type": "code",
   "execution_count": null,
   "id": "3cd44b41-b0a5-4d3f-9a2e-5ae1855fd098",
   "metadata": {},
   "outputs": [],
   "source": []
  }
 ],
 "metadata": {
  "kernelspec": {
   "display_name": "Python 3 (ipykernel)",
   "language": "python",
   "name": "python3"
  },
  "language_info": {
   "codemirror_mode": {
    "name": "ipython",
    "version": 3
   },
   "file_extension": ".py",
   "mimetype": "text/x-python",
   "name": "python",
   "nbconvert_exporter": "python",
   "pygments_lexer": "ipython3",
   "version": "3.10.9"
  }
 },
 "nbformat": 4,
 "nbformat_minor": 5
}
