{
 "cells": [
  {
   "cell_type": "markdown",
   "id": "d75791cd",
   "metadata": {},
   "source": [
    "A. DATA IMPORT & EXPORT\n",
    "\n",
    "DATA AT A FIRST GLANCE\n",
    "There are 4 files provided by NHS and we import all of them and check the basic information together. \n",
    "3 of the files were considered obtained from NHS internal system \n",
    "but the source of the tweets file was not indicated and by what means\n"
   ]
  },
  {
   "cell_type": "code",
   "execution_count": 305,
   "id": "0e852bb0",
   "metadata": {},
   "outputs": [],
   "source": [
    "# There are 4 files provided by NHS and we import all of them\n",
    "# and check the basic information together\n",
    "\n",
    "import pandas as pd\n",
    "\n",
    "# import the files obtained from NHS\n",
    "nc = pd.read_excel(\"national_categories.xlsx\")\n",
    "ar = pd.read_csv(\"appointments_regional.csv\")\n",
    "ad = pd.read_csv(\"actual_duration.csv\")\n",
    "tweets = pd.read_csv(\"tweets.csv\")"
   ]
  },
  {
   "cell_type": "code",
   "execution_count": null,
   "id": "beb7caca",
   "metadata": {},
   "outputs": [],
   "source": []
  },
  {
   "cell_type": "code",
   "execution_count": 325,
   "id": "ce1fc9dd",
   "metadata": {},
   "outputs": [
    {
     "name": "stdout",
     "output_type": "stream",
     "text": [
      "There are [(817394, 8),(596821, 7),(137793, 8)] in the nc, ar and ac dataframe respectively.\n",
      "\n",
      "Data Types in nc dataframe:\n",
      " appointment_date         datetime64[ns]\n",
      "icb_ons_code                     object\n",
      "sub_icb_location_name            object\n",
      "service_setting                  object\n",
      "context_type                     object\n",
      "national_category                object\n",
      "count_of_appointments             int64\n",
      "appointment_month                object\n",
      "dtype: object \n",
      "\n",
      "Data Types in ar dataframe:\n",
      " icb_ons_code                         object\n",
      "appointment_month                    object\n",
      "appointment_status                   object\n",
      "hcp_type                             object\n",
      "appointment_mode                     object\n",
      "time_between_book_and_appointment    object\n",
      "count_of_appointments                 int64\n",
      "dtype: object \n",
      "\n",
      "Data Types in ad dataframe:\n",
      " sub_icb_location_code        object\n",
      "sub_icb_location_ons_code    object\n",
      "sub_icb_location_name        object\n",
      "icb_ons_code                 object\n",
      "region_ons_code              object\n",
      "appointment_date             object\n",
      "actual_duration              object\n",
      "count_of_appointments         int64\n",
      "dtype: object \n",
      "\n"
     ]
    }
   ],
   "source": [
    "# Check the nc dataframe structure and data types\n",
    "print(\"There are [{0},{1},{2}] in the nc, ar and ac dataframe respectively.\\n\".\n",
    "      format(nc.shape, ar.shape,ad.shape))\n",
    "\n",
    "# It is found that the column's names:\n",
    "# 'icb_ons_code' and 'count_of_appointments'  \n",
    "# are existing in common to all 3 dataframes\n",
    "print(\"Data Types in nc dataframe:\\n\", nc.dtypes,\"\\n\")\n",
    "print(\"Data Types in ar dataframe:\\n\", ar.dtypes,\"\\n\")\n",
    "print(\"Data Types in ad dataframe:\\n\", ad.dtypes,\"\\n\")"
   ]
  },
  {
   "cell_type": "code",
   "execution_count": 328,
   "id": "720fffdb",
   "metadata": {},
   "outputs": [
    {
     "name": "stdout",
     "output_type": "stream",
     "text": [
      "null value in nc dataframe:\n",
      " appointment_date         0\n",
      "icb_ons_code             0\n",
      "sub_icb_location_name    0\n",
      "service_setting          0\n",
      "context_type             0\n",
      "national_category        0\n",
      "count_of_appointments    0\n",
      "appointment_month        0\n",
      "dtype: int64 \n",
      "\n",
      "null value in ar dataframe:\n",
      " icb_ons_code                         0\n",
      "appointment_month                    0\n",
      "appointment_status                   0\n",
      "hcp_type                             0\n",
      "appointment_mode                     0\n",
      "time_between_book_and_appointment    0\n",
      "count_of_appointments                0\n",
      "dtype: int64 \n",
      "\n",
      "null value in ad dataframe:\n",
      " sub_icb_location_code        0\n",
      "sub_icb_location_ons_code    0\n",
      "sub_icb_location_name        0\n",
      "icb_ons_code                 0\n",
      "region_ons_code              0\n",
      "appointment_date             0\n",
      "actual_duration              0\n",
      "count_of_appointments        0\n",
      "dtype: int64 \n",
      "\n"
     ]
    }
   ],
   "source": [
    "# Check the dataframe if there is any NA value\n",
    "print(\"null value in nc dataframe:\\n\",nc.isna().sum(),\"\\n\")\n",
    "print(\"null value in ar dataframe:\\n\",ar.isna().sum(),\"\\n\")\n",
    "print(\"null value in ad dataframe:\\n\",ad.isna().sum(),\"\\n\")"
   ]
  },
  {
   "cell_type": "code",
   "execution_count": null,
   "id": "13667de3",
   "metadata": {},
   "outputs": [],
   "source": []
  },
  {
   "cell_type": "code",
   "execution_count": 342,
   "id": "44305158",
   "metadata": {},
   "outputs": [
    {
     "name": "stdout",
     "output_type": "stream",
     "text": [
      "Statistics of nc:\n",
      "        count_of_appointments\n",
      "count               817394.0\n",
      "mean                   362.0\n",
      "std                   1085.0\n",
      "min                      1.0\n",
      "25%                      7.0\n",
      "50%                     25.0\n",
      "75%                    128.0\n",
      "max                  16590.0\n",
      "Statistics of ar:\n",
      "        count_of_appointments\n",
      "count               596821.0\n",
      "mean                  1245.0\n",
      "std                   5857.0\n",
      "min                      1.0\n",
      "25%                      7.0\n",
      "50%                     47.0\n",
      "75%                    308.0\n",
      "max                 211265.0\n",
      "Statistics of ad:\n",
      "        count_of_appointments\n",
      "count               137793.0\n",
      "mean                  1219.0\n",
      "std                   1547.0\n",
      "min                      1.0\n",
      "25%                    194.0\n",
      "50%                    696.0\n",
      "75%                   1621.0\n",
      "max                  15400.0\n"
     ]
    }
   ],
   "source": [
    "# Determine the descriptive statistics (e.g. df.describe()) and metadata (e.g. df.info()) of each DataFrame.\n",
    "print(\"Statistics of nc:\\n\", nc.describe().round(decimals = 0))\n",
    "print(\"Statistics of ar:\\n\", ar.describe().round(decimals = 0))\n",
    "print(\"Statistics of ad:\\n\", ad.describe().round(decimals = 0))"
   ]
  },
  {
   "cell_type": "code",
   "execution_count": 330,
   "id": "6c7fc7f0",
   "metadata": {},
   "outputs": [],
   "source": [
    "# Since the appointment date is shown as an 'object' dtype,\n",
    "# it is better to parse it into a datetime format for further analysis by pandas to_datetime function\n",
    "\n",
    "nc[\"appointment_date\"] = pd.to_datetime(nc[\"appointment_date\"])\n",
    "ad[\"appointment_date\"] = pd.to_datetime(ad[\"appointment_date\"])"
   ]
  },
  {
   "cell_type": "code",
   "execution_count": 336,
   "id": "37d6f997",
   "metadata": {},
   "outputs": [
    {
     "name": "stdout",
     "output_type": "stream",
     "text": [
      "The first appointment month started from 2020-01 to 2022-06 in the ar dataframe.\n"
     ]
    }
   ],
   "source": [
    "# Due to an issue with the data collection, DNA appointments were not captured correctly \n",
    "# after June 2018 and are under-reported until and including November 2018 for all \n",
    "# practices using the TPP SystmOne system.\n",
    "# Therefore we are going to verify this statement would contribute to problem or not.\n",
    "\n",
    "# Since the appointment_month column was a string dtype, first parse it into datetime format\n",
    "from datetime import datetime\n",
    "ar[\"appointment_month\"]=pd.to_datetime(ar[\"appointment_month\"])\n",
    "\n",
    "# Display with YYYY-MM format by \n",
    "ar[\"appointment_month\"] = ar[\"appointment_month\"].dt.strftime('%Y-%m')\n",
    "\n",
    "# Then Check the first and last appointment month in the dataframe\n",
    "print(\"The first appointment month started from {0} to {1} in the ar dataframe.\"\n",
    "      .format(ar[\"appointment_month\"].min(),\n",
    "              ar[\"appointment_month\"].max()))"
   ]
  },
  {
   "cell_type": "code",
   "execution_count": 335,
   "id": "4eb394a5",
   "metadata": {},
   "outputs": [
    {
     "name": "stdout",
     "output_type": "stream",
     "text": [
      "The nc dataframe's earliest record started from 2021-08-01 00:00:00 to 2022-06-30 00:00:00.\n",
      "The ad dataframe's earliest record started from 2021-12-01 00:00:00 to 2022-06-30 00:00:00\n"
     ]
    }
   ],
   "source": [
    "# Check the first and last appointment date in the dataframe\n",
    "print(\"The nc dataframe's earliest record started from {0} to {1}.\"\n",
    "      .format(nc[\"appointment_date\"].min(),\n",
    "              nc[\"appointment_date\"].max()))\n",
    "\n",
    "print(\"The ad dataframe's earliest record started from {0} to {1}\"\n",
    "      .format(ad[\"appointment_date\"].min(),\n",
    "              ad[\"appointment_date\"].max()))"
   ]
  },
  {
   "cell_type": "code",
   "execution_count": null,
   "id": "8c70fbbe",
   "metadata": {},
   "outputs": [],
   "source": []
  },
  {
   "cell_type": "code",
   "execution_count": null,
   "id": "28ca4495",
   "metadata": {},
   "outputs": [],
   "source": []
  },
  {
   "cell_type": "code",
   "execution_count": 344,
   "id": "cfccf35a",
   "metadata": {},
   "outputs": [
    {
     "data": {
      "text/html": [
       "<div>\n",
       "<style scoped>\n",
       "    .dataframe tbody tr th:only-of-type {\n",
       "        vertical-align: middle;\n",
       "    }\n",
       "\n",
       "    .dataframe tbody tr th {\n",
       "        vertical-align: top;\n",
       "    }\n",
       "\n",
       "    .dataframe thead th {\n",
       "        text-align: right;\n",
       "    }\n",
       "</style>\n",
       "<table border=\"1\" class=\"dataframe\">\n",
       "  <thead>\n",
       "    <tr style=\"text-align: right;\">\n",
       "      <th></th>\n",
       "      <th>appointment_date</th>\n",
       "      <th>icb_ons_code</th>\n",
       "      <th>sub_icb_location_name</th>\n",
       "      <th>service_setting</th>\n",
       "      <th>context_type</th>\n",
       "      <th>national_category</th>\n",
       "      <th>count_of_appointments</th>\n",
       "      <th>appointment_month</th>\n",
       "    </tr>\n",
       "  </thead>\n",
       "  <tbody>\n",
       "    <tr>\n",
       "      <th>0</th>\n",
       "      <td>2021-08-02</td>\n",
       "      <td>E54000050</td>\n",
       "      <td>North East and North Cumbria - 00L</td>\n",
       "      <td>Primary Care Network</td>\n",
       "      <td>Care Related Encounter</td>\n",
       "      <td>Patient contact during Care Home Round</td>\n",
       "      <td>3</td>\n",
       "      <td>2021-08</td>\n",
       "    </tr>\n",
       "    <tr>\n",
       "      <th>1</th>\n",
       "      <td>2021-08-02</td>\n",
       "      <td>E54000050</td>\n",
       "      <td>North East and North Cumbria - 00L</td>\n",
       "      <td>Other</td>\n",
       "      <td>Care Related Encounter</td>\n",
       "      <td>Planned Clinics</td>\n",
       "      <td>7</td>\n",
       "      <td>2021-08</td>\n",
       "    </tr>\n",
       "    <tr>\n",
       "      <th>2</th>\n",
       "      <td>2021-08-02</td>\n",
       "      <td>E54000050</td>\n",
       "      <td>North East and North Cumbria - 00L</td>\n",
       "      <td>General Practice</td>\n",
       "      <td>Care Related Encounter</td>\n",
       "      <td>Home Visit</td>\n",
       "      <td>79</td>\n",
       "      <td>2021-08</td>\n",
       "    </tr>\n",
       "    <tr>\n",
       "      <th>3</th>\n",
       "      <td>2021-08-02</td>\n",
       "      <td>E54000050</td>\n",
       "      <td>North East and North Cumbria - 00L</td>\n",
       "      <td>General Practice</td>\n",
       "      <td>Care Related Encounter</td>\n",
       "      <td>General Consultation Acute</td>\n",
       "      <td>725</td>\n",
       "      <td>2021-08</td>\n",
       "    </tr>\n",
       "    <tr>\n",
       "      <th>4</th>\n",
       "      <td>2021-08-02</td>\n",
       "      <td>E54000050</td>\n",
       "      <td>North East and North Cumbria - 00L</td>\n",
       "      <td>General Practice</td>\n",
       "      <td>Care Related Encounter</td>\n",
       "      <td>Structured Medication Review</td>\n",
       "      <td>2</td>\n",
       "      <td>2021-08</td>\n",
       "    </tr>\n",
       "  </tbody>\n",
       "</table>\n",
       "</div>"
      ],
      "text/plain": [
       "  appointment_date icb_ons_code                sub_icb_location_name  \\\n",
       "0       2021-08-02    E54000050   North East and North Cumbria - 00L   \n",
       "1       2021-08-02    E54000050   North East and North Cumbria - 00L   \n",
       "2       2021-08-02    E54000050   North East and North Cumbria - 00L   \n",
       "3       2021-08-02    E54000050   North East and North Cumbria - 00L   \n",
       "4       2021-08-02    E54000050   North East and North Cumbria - 00L   \n",
       "\n",
       "        service_setting            context_type  \\\n",
       "0  Primary Care Network  Care Related Encounter   \n",
       "1                 Other  Care Related Encounter   \n",
       "2      General Practice  Care Related Encounter   \n",
       "3      General Practice  Care Related Encounter   \n",
       "4      General Practice  Care Related Encounter   \n",
       "\n",
       "                        national_category  count_of_appointments  \\\n",
       "0  Patient contact during Care Home Round                      3   \n",
       "1                         Planned Clinics                      7   \n",
       "2                              Home Visit                     79   \n",
       "3              General Consultation Acute                    725   \n",
       "4            Structured Medication Review                      2   \n",
       "\n",
       "  appointment_month  \n",
       "0           2021-08  \n",
       "1           2021-08  \n",
       "2           2021-08  \n",
       "3           2021-08  \n",
       "4           2021-08  "
      ]
     },
     "execution_count": 344,
     "metadata": {},
     "output_type": "execute_result"
    }
   ],
   "source": [
    "# Reflect: Each of the item in the sub_icb_location_names column\n",
    "# could be removed for improved readibility of the data\n",
    "# We would adopt the regular expression method for this purpose\n",
    "\n",
    "import re\n",
    "\n",
    "df = nc[\"sub_icb_location_name\"].replace('(NHS)|(ICB\\s)', value ='', regex = True)\n",
    "nc[\"sub_icb_location_name\"] = df\n",
    "nc.head()"
   ]
  },
  {
   "cell_type": "markdown",
   "id": "cf9f273b",
   "metadata": {},
   "source": [
    "Dataframe Summary:\n",
    "1. The 3 dataframes' earliest entries were all different to each other.\n",
    "2. The earliest record of information appeared in the regional appointment dataset.\n",
    "3. The 3 dataframes had the same record of timeline for the appointment records.\n",
    " "
   ]
  },
  {
   "cell_type": "code",
   "execution_count": null,
   "id": "2c99bd67",
   "metadata": {},
   "outputs": [],
   "source": []
  },
  {
   "cell_type": "markdown",
   "id": "3503b6e5",
   "metadata": {},
   "source": [
    "2.0 DATA WRANGLING - STUDYING THE ICB LOCATIONS\n",
    "- The locations of the NHS service centers should be defined as a collection of sercive providers intended for offering a wide range of services to the community. As a result, the performance indicator like count of appointment and operating parameter like utility level should be derived individually for each locational characteristics."
   ]
  },
  {
   "cell_type": "code",
   "execution_count": 352,
   "id": "ceae9cf2",
   "metadata": {
    "jupyter": {
     "outputs_hidden": true
    },
    "scrolled": true,
    "tags": []
   },
   "outputs": [
    {
     "name": "stdout",
     "output_type": "stream",
     "text": [
      "There are 42 locations in the data set.\n",
      "\n",
      "The 5 location with highest number of recors:\n",
      " icb_ons_code\n",
      "E54000050    16882235\n",
      "E54000054    14358371\n",
      "E54000057    13857900\n",
      "E54000008    13250311\n",
      "E54000027    12142390\n",
      "Name: count_of_appointments, dtype: int64\n"
     ]
    }
   ],
   "source": [
    "# How many locations are there in the data set?\n",
    "print(\"There are\", len(nc[\"icb_ons_code\"].unique()),\"locations in the data set.\\n\")\n",
    "\n",
    "# What are the five locations with the highest number of records?\n",
    "print(\"The 5 location with highest number of recors:\\n\",\n",
    "      nc.groupby(\"icb_ons_code\")[\"count_of_appointments\"]\n",
    "      .sum()\n",
    "      .sort_values(ascending=False)\n",
    "      .head(5)\n",
    "     )"
   ]
  },
  {
   "cell_type": "code",
   "execution_count": 359,
   "id": "6c667bda",
   "metadata": {},
   "outputs": [
    {
     "name": "stdout",
     "output_type": "stream",
     "text": [
      "There are\n",
      " 5 service settings\n",
      " 3 context types\n",
      " 18 national categories\n",
      " 3 appointment status respectively.\n"
     ]
    }
   ],
   "source": [
    "# How many service settings, context types, national categories, and appointment statuses are there?\n",
    "\n",
    "print(\"There are\\n {0} service settings\\n {1} context types\\n {2} national categories\\n {3} appointment status respectively.\"\n",
    "      .format(len(nc['service_setting'].unique()),len(nc['context_type'].unique()),len(nc['national_category'].unique()),len(ar[\"appointment_status\"].unique())))\n"
   ]
  },
  {
   "cell_type": "code",
   "execution_count": null,
   "id": "8634894e",
   "metadata": {},
   "outputs": [],
   "source": []
  },
  {
   "cell_type": "code",
   "execution_count": null,
   "id": "19b9d567",
   "metadata": {},
   "outputs": [],
   "source": []
  },
  {
   "cell_type": "code",
   "execution_count": null,
   "id": "e74e2c54",
   "metadata": {},
   "outputs": [],
   "source": []
  },
  {
   "cell_type": "code",
   "execution_count": null,
   "id": "3ed6ca96",
   "metadata": {},
   "outputs": [],
   "source": []
  },
  {
   "cell_type": "markdown",
   "id": "97772813",
   "metadata": {},
   "source": [
    "VISIUALISATION\n",
    "- Create three visualisations indicating the number of appointments per month for service settings, context types, and national categories.\n",
    "- Create four visualisations indicating the number of appointments for service setting per season. The seasons are summer (August 2021), autumn (October 2021), winter (January 2022), and spring (April 2022)."
   ]
  },
  {
   "cell_type": "code",
   "execution_count": 371,
   "id": "571905b4",
   "metadata": {},
   "outputs": [],
   "source": [
    "import seaborn as sns\n",
    "import matplotlib.pyplot as plt\n",
    "\n",
    "nc[\"appointment_month\"] = nc[\"appointment_month\"].astype(str)\n",
    "nc_ss = nc.groupby ([\"appointment_month\", \"service_setting\"])[[\"count_of_appointments\"]].sum()\n",
    "nc_ss.reset_index(inplace=True)\n",
    "nc_ss.set_index(\"appointment_month\", drop=True, inplace=True)\n",
    "\n",
    "nc_ct = nc.groupby ([\"appointment_month\", \"context_type\"])[[\"count_of_appointments\"]].sum()\n",
    "nc_ct.reset_index(inplace=True)\n",
    "nc_ct.set_index(\"appointment_month\", drop=True, inplace=True)\n",
    "\n",
    "nc_nc = nc.groupby ([\"appointment_month\", \"national_category\"])[[\"count_of_appointments\"]].sum()\n",
    "nc_nc.reset_index(inplace=True)\n",
    "nc_nc.set_index(\"appointment_month\", drop=True, inplace=True)\n"
   ]
  },
  {
   "cell_type": "code",
   "execution_count": 380,
   "id": "04bebc7b",
   "metadata": {},
   "outputs": [
    {
     "data": {
      "text/html": [
       "<div>\n",
       "<style scoped>\n",
       "    .dataframe tbody tr th:only-of-type {\n",
       "        vertical-align: middle;\n",
       "    }\n",
       "\n",
       "    .dataframe tbody tr th {\n",
       "        vertical-align: top;\n",
       "    }\n",
       "\n",
       "    .dataframe thead th {\n",
       "        text-align: right;\n",
       "    }\n",
       "</style>\n",
       "<table border=\"1\" class=\"dataframe\">\n",
       "  <thead>\n",
       "    <tr style=\"text-align: right;\">\n",
       "      <th></th>\n",
       "      <th>service_setting</th>\n",
       "      <th>count_of_appointments</th>\n",
       "    </tr>\n",
       "    <tr>\n",
       "      <th>appointment_month</th>\n",
       "      <th></th>\n",
       "      <th></th>\n",
       "    </tr>\n",
       "  </thead>\n",
       "  <tbody>\n",
       "    <tr>\n",
       "      <th>2021-08</th>\n",
       "      <td>Extended Access Provision</td>\n",
       "      <td>160927</td>\n",
       "    </tr>\n",
       "    <tr>\n",
       "      <th>2021-08</th>\n",
       "      <td>General Practice</td>\n",
       "      <td>21575852</td>\n",
       "    </tr>\n",
       "    <tr>\n",
       "      <th>2021-08</th>\n",
       "      <td>Other</td>\n",
       "      <td>449101</td>\n",
       "    </tr>\n",
       "    <tr>\n",
       "      <th>2021-08</th>\n",
       "      <td>Primary Care Network</td>\n",
       "      <td>432448</td>\n",
       "    </tr>\n",
       "    <tr>\n",
       "      <th>2021-08</th>\n",
       "      <td>Unmapped</td>\n",
       "      <td>1233843</td>\n",
       "    </tr>\n",
       "  </tbody>\n",
       "</table>\n",
       "</div>"
      ],
      "text/plain": [
       "                             service_setting  count_of_appointments\n",
       "appointment_month                                                  \n",
       "2021-08            Extended Access Provision                 160927\n",
       "2021-08                     General Practice               21575852\n",
       "2021-08                                Other                 449101\n",
       "2021-08                 Primary Care Network                 432448\n",
       "2021-08                             Unmapped                1233843"
      ]
     },
     "execution_count": 380,
     "metadata": {},
     "output_type": "execute_result"
    }
   ],
   "source": [
    "nc_ss.head()"
   ]
  },
  {
   "cell_type": "code",
   "execution_count": null,
   "id": "02afe390",
   "metadata": {},
   "outputs": [],
   "source": []
  },
  {
   "cell_type": "code",
   "execution_count": 383,
   "id": "d2cd6062",
   "metadata": {},
   "outputs": [
    {
     "data": {
      "image/png": "[encoded data removed]",
      "text/plain": [
       "<Figure size 1200x600 with 1 Axes>"
      ]
     },
     "metadata": {},
     "output_type": "display_data"
    }
   ],
   "source": [
    "fig, ax = plt.subplots(figsize=(12,6))\n",
    "                       \n",
    "sns.set_style(\"whitegrid\")\n",
    "ax.set_xlabel(\"Appointment Month\")\n",
    "ax.set_ylabel(\"Number of appointment per month\\n scaled by 00,000,000\")\n",
    "\n",
    "sns.lineplot(nc_ss, x=nc_ss.index, y=\"count_of_appointments\", hue=\"service_setting\")\n",
    "sns.despine()"
   ]
  },
  {
   "cell_type": "code",
   "execution_count": null,
   "id": "9b071e79",
   "metadata": {},
   "outputs": [],
   "source": []
  },
  {
   "cell_type": "code",
   "execution_count": 384,
   "id": "8b66d535",
   "metadata": {},
   "outputs": [
    {
     "data": {
      "image/png": "[encoded data removed]",
      "text/plain": [
       "<Figure size 1200x600 with 1 Axes>"
      ]
     },
     "metadata": {},
     "output_type": "display_data"
    }
   ],
   "source": [
    "fig, ax = plt.subplots(figsize=(12,6))\n",
    "                       \n",
    "sns.set_style(\"whitegrid\")\n",
    "ax.set_xlabel(\"Appointment Month\")\n",
    "ax.set_ylabel(\"Number of appointment per month\\n scaled by 00,000,000\")\n",
    "\n",
    "sns.lineplot(nc_ct, x=nc_ct.index, y=\"count_of_appointments\", hue=\"context_type\")\n",
    "sns.despine()"
   ]
  },
  {
   "cell_type": "code",
   "execution_count": 427,
   "id": "7a360afd",
   "metadata": {},
   "outputs": [
    {
     "data": {
      "image/png": "[encoded data removed]",
      "text/plain": [
       "<Figure size 1600x900 with 1 Axes>"
      ]
     },
     "metadata": {},
     "output_type": "display_data"
    }
   ],
   "source": [
    "fig,ax= plt.subplots(figsize = (16,9))\n",
    "sns.set_style(\"whitegrid\")\n",
    "sns.color_palette('bright')\n",
    "ax.set_xlabel(\"Appointment Month\")\n",
    "ax.set_ylabel(\"Number of appointment per month\\n scaled by 00,000,000\")\n",
    "\n",
    "ax = sns.lineplot(nc_nc, x=nc_nc.index, y=\"count_of_appointments\", \n",
    "             hue=\"national_category\")\n",
    "\n",
    "sns.move_legend(ax, \"lower center\",\n",
    "    bbox_to_anchor=(.5, 1), ncol=3, title=None, frameon=False,)\n",
    "\n",
    "sns.despine()"
   ]
  },
  {
   "cell_type": "code",
   "execution_count": null,
   "id": "b0d1ea44",
   "metadata": {},
   "outputs": [],
   "source": []
  },
  {
   "cell_type": "code",
   "execution_count": null,
   "id": "a734ec77",
   "metadata": {},
   "outputs": [],
   "source": []
  },
  {
   "cell_type": "code",
   "execution_count": null,
   "id": "e07f5028",
   "metadata": {},
   "outputs": [],
   "source": []
  },
  {
   "cell_type": "code",
   "execution_count": null,
   "id": "0328e6d6",
   "metadata": {},
   "outputs": [],
   "source": []
  },
  {
   "cell_type": "code",
   "execution_count": null,
   "id": "da567db0",
   "metadata": {},
   "outputs": [],
   "source": []
  },
  {
   "cell_type": "code",
   "execution_count": null,
   "id": "9a655d83",
   "metadata": {},
   "outputs": [],
   "source": []
  },
  {
   "cell_type": "code",
   "execution_count": null,
   "id": "f6392360",
   "metadata": {},
   "outputs": [],
   "source": []
  },
  {
   "cell_type": "code",
   "execution_count": null,
   "id": "3bac2d25",
   "metadata": {},
   "outputs": [],
   "source": []
  },
  {
   "cell_type": "code",
   "execution_count": null,
   "id": "ba5da88b",
   "metadata": {},
   "outputs": [],
   "source": []
  },
  {
   "cell_type": "code",
   "execution_count": null,
   "id": "aa631350",
   "metadata": {},
   "outputs": [],
   "source": []
  },
  {
   "cell_type": "code",
   "execution_count": null,
   "id": "44ed07ed",
   "metadata": {},
   "outputs": [],
   "source": []
  },
  {
   "cell_type": "code",
   "execution_count": null,
   "id": "265bc8a8",
   "metadata": {},
   "outputs": [],
   "source": []
  },
  {
   "cell_type": "code",
   "execution_count": null,
   "id": "79d69a10",
   "metadata": {},
   "outputs": [],
   "source": []
  },
  {
   "cell_type": "code",
   "execution_count": null,
   "id": "3388c382",
   "metadata": {},
   "outputs": [],
   "source": []
  },
  {
   "cell_type": "code",
   "execution_count": null,
   "id": "4b27ad40",
   "metadata": {},
   "outputs": [],
   "source": []
  },
  {
   "cell_type": "code",
   "execution_count": null,
   "id": "c9b7cf18",
   "metadata": {},
   "outputs": [],
   "source": []
  },
  {
   "cell_type": "code",
   "execution_count": null,
   "id": "3151c68b",
   "metadata": {},
   "outputs": [],
   "source": []
  },
  {
   "cell_type": "code",
   "execution_count": null,
   "id": "d0669e28",
   "metadata": {},
   "outputs": [],
   "source": []
  },
  {
   "cell_type": "code",
   "execution_count": null,
   "id": "dc05e315",
   "metadata": {},
   "outputs": [],
   "source": []
  },
  {
   "cell_type": "code",
   "execution_count": null,
   "id": "c1d7416a",
   "metadata": {},
   "outputs": [],
   "source": []
  },
  {
   "cell_type": "code",
   "execution_count": null,
   "id": "e183d9ff",
   "metadata": {},
   "outputs": [],
   "source": []
  },
  {
   "cell_type": "code",
   "execution_count": null,
   "id": "903559f5",
   "metadata": {},
   "outputs": [],
   "source": []
  },
  {
   "cell_type": "code",
   "execution_count": null,
   "id": "e4dfcb11",
   "metadata": {},
   "outputs": [],
   "source": []
  },
  {
   "cell_type": "code",
   "execution_count": null,
   "id": "2e9c9ebb",
   "metadata": {},
   "outputs": [],
   "source": []
  },
  {
   "cell_type": "code",
   "execution_count": null,
   "id": "ff7e50cb",
   "metadata": {},
   "outputs": [],
   "source": []
  },
  {
   "cell_type": "code",
   "execution_count": null,
   "id": "2b87f4ca",
   "metadata": {},
   "outputs": [],
   "source": []
  },
  {
   "cell_type": "code",
   "execution_count": null,
   "id": "277cb975",
   "metadata": {},
   "outputs": [],
   "source": []
  },
  {
   "cell_type": "code",
   "execution_count": null,
   "id": "c26cb2a5",
   "metadata": {},
   "outputs": [],
   "source": []
  },
  {
   "cell_type": "code",
   "execution_count": null,
   "id": "fa018bfb",
   "metadata": {},
   "outputs": [],
   "source": []
  },
  {
   "cell_type": "code",
   "execution_count": null,
   "id": "757fd0a0",
   "metadata": {},
   "outputs": [],
   "source": []
  },
  {
   "cell_type": "code",
   "execution_count": null,
   "id": "3919f73f",
   "metadata": {},
   "outputs": [],
   "source": []
  },
  {
   "cell_type": "code",
   "execution_count": null,
   "id": "4fb42695",
   "metadata": {},
   "outputs": [],
   "source": []
  },
  {
   "cell_type": "code",
   "execution_count": null,
   "id": "aae2669a",
   "metadata": {},
   "outputs": [],
   "source": []
  },
  {
   "cell_type": "code",
   "execution_count": null,
   "id": "9ef0ba1f",
   "metadata": {},
   "outputs": [],
   "source": []
  },
  {
   "cell_type": "code",
   "execution_count": null,
   "id": "1d0094aa",
   "metadata": {},
   "outputs": [],
   "source": []
  },
  {
   "cell_type": "code",
   "execution_count": null,
   "id": "f522a21e",
   "metadata": {},
   "outputs": [],
   "source": []
  },
  {
   "cell_type": "code",
   "execution_count": null,
   "id": "3212254c",
   "metadata": {},
   "outputs": [],
   "source": []
  },
  {
   "cell_type": "code",
   "execution_count": null,
   "id": "3cfe4ae2",
   "metadata": {},
   "outputs": [],
   "source": []
  },
  {
   "cell_type": "code",
   "execution_count": null,
   "id": "67e3ff97",
   "metadata": {},
   "outputs": [],
   "source": []
  },
  {
   "cell_type": "code",
   "execution_count": null,
   "id": "9be1305b",
   "metadata": {},
   "outputs": [],
   "source": []
  },
  {
   "cell_type": "code",
   "execution_count": null,
   "id": "d4d43b3c",
   "metadata": {},
   "outputs": [],
   "source": []
  },
  {
   "cell_type": "code",
   "execution_count": null,
   "id": "1c2473d1",
   "metadata": {},
   "outputs": [],
   "source": []
  },
  {
   "cell_type": "code",
   "execution_count": null,
   "id": "fcd60f11",
   "metadata": {},
   "outputs": [],
   "source": []
  },
  {
   "cell_type": "code",
   "execution_count": null,
   "id": "72cbafe3",
   "metadata": {},
   "outputs": [],
   "source": []
  },
  {
   "cell_type": "code",
   "execution_count": null,
   "id": "185a8336",
   "metadata": {},
   "outputs": [],
   "source": []
  },
  {
   "cell_type": "code",
   "execution_count": null,
   "id": "23f0e51c",
   "metadata": {},
   "outputs": [],
   "source": []
  },
  {
   "cell_type": "code",
   "execution_count": null,
   "id": "29b0f1cc",
   "metadata": {},
   "outputs": [],
   "source": []
  },
  {
   "cell_type": "code",
   "execution_count": null,
   "id": "514558e9",
   "metadata": {},
   "outputs": [],
   "source": []
  },
  {
   "cell_type": "code",
   "execution_count": null,
   "id": "8c2de4fc",
   "metadata": {},
   "outputs": [],
   "source": []
  },
  {
   "cell_type": "code",
   "execution_count": null,
   "id": "be0a0358",
   "metadata": {},
   "outputs": [],
   "source": []
  },
  {
   "cell_type": "code",
   "execution_count": null,
   "id": "918bc468",
   "metadata": {},
   "outputs": [],
   "source": []
  },
  {
   "cell_type": "code",
   "execution_count": null,
   "id": "b0ff7a9d",
   "metadata": {},
   "outputs": [],
   "source": []
  },
  {
   "cell_type": "code",
   "execution_count": null,
   "id": "c9d24f88",
   "metadata": {},
   "outputs": [],
   "source": []
  },
  {
   "cell_type": "code",
   "execution_count": null,
   "id": "f9e88a7e",
   "metadata": {},
   "outputs": [],
   "source": []
  },
  {
   "cell_type": "code",
   "execution_count": null,
   "id": "2ec94407",
   "metadata": {},
   "outputs": [],
   "source": []
  },
  {
   "cell_type": "code",
   "execution_count": null,
   "id": "19e433f7",
   "metadata": {},
   "outputs": [],
   "source": []
  },
  {
   "cell_type": "code",
   "execution_count": null,
   "id": "2087b230",
   "metadata": {},
   "outputs": [],
   "source": []
  },
  {
   "cell_type": "code",
   "execution_count": null,
   "id": "bba07321",
   "metadata": {},
   "outputs": [],
   "source": []
  },
  {
   "cell_type": "code",
   "execution_count": null,
   "id": "0747428c",
   "metadata": {},
   "outputs": [],
   "source": []
  },
  {
   "cell_type": "code",
   "execution_count": null,
   "id": "d492d93b",
   "metadata": {},
   "outputs": [],
   "source": []
  },
  {
   "cell_type": "code",
   "execution_count": null,
   "id": "05789021",
   "metadata": {},
   "outputs": [],
   "source": []
  },
  {
   "cell_type": "code",
   "execution_count": null,
   "id": "14069ec4",
   "metadata": {},
   "outputs": [],
   "source": []
  },
  {
   "cell_type": "code",
   "execution_count": null,
   "id": "05d0db8a",
   "metadata": {},
   "outputs": [],
   "source": []
  },
  {
   "cell_type": "code",
   "execution_count": null,
   "id": "094870f0",
   "metadata": {},
   "outputs": [],
   "source": []
  },
  {
   "cell_type": "code",
   "execution_count": null,
   "id": "cd76d06d",
   "metadata": {},
   "outputs": [],
   "source": []
  },
  {
   "cell_type": "code",
   "execution_count": null,
   "id": "611c8bba",
   "metadata": {},
   "outputs": [],
   "source": []
  },
  {
   "cell_type": "code",
   "execution_count": null,
   "id": "0ece7cb9",
   "metadata": {},
   "outputs": [],
   "source": []
  },
  {
   "cell_type": "code",
   "execution_count": null,
   "id": "49188b6e",
   "metadata": {},
   "outputs": [],
   "source": []
  },
  {
   "cell_type": "code",
   "execution_count": null,
   "id": "be632275",
   "metadata": {},
   "outputs": [],
   "source": []
  },
  {
   "cell_type": "code",
   "execution_count": null,
   "id": "c73e4170",
   "metadata": {},
   "outputs": [],
   "source": []
  },
  {
   "cell_type": "code",
   "execution_count": null,
   "id": "25d17abb",
   "metadata": {},
   "outputs": [],
   "source": []
  },
  {
   "cell_type": "code",
   "execution_count": null,
   "id": "e109c0a9",
   "metadata": {},
   "outputs": [],
   "source": []
  },
  {
   "cell_type": "code",
   "execution_count": null,
   "id": "02f7e217",
   "metadata": {},
   "outputs": [],
   "source": []
  },
  {
   "cell_type": "code",
   "execution_count": null,
   "id": "cfd59c76",
   "metadata": {},
   "outputs": [],
   "source": []
  },
  {
   "cell_type": "code",
   "execution_count": null,
   "id": "76da314e",
   "metadata": {},
   "outputs": [],
   "source": []
  },
  {
   "cell_type": "code",
   "execution_count": null,
   "id": "020d329c",
   "metadata": {},
   "outputs": [],
   "source": []
  },
  {
   "cell_type": "code",
   "execution_count": null,
   "id": "051222e5",
   "metadata": {},
   "outputs": [],
   "source": [
    "\n"
   ]
  },
  {
   "cell_type": "code",
   "execution_count": null,
   "id": "40eb0553",
   "metadata": {},
   "outputs": [],
   "source": []
  },
  {
   "cell_type": "code",
   "execution_count": null,
   "id": "12e430e7",
   "metadata": {},
   "outputs": [],
   "source": []
  },
  {
   "cell_type": "code",
   "execution_count": null,
   "id": "dc60536d",
   "metadata": {},
   "outputs": [],
   "source": []
  },
  {
   "cell_type": "code",
   "execution_count": null,
   "id": "3e200e0a",
   "metadata": {},
   "outputs": [],
   "source": []
  },
  {
   "cell_type": "code",
   "execution_count": null,
   "id": "c939474d",
   "metadata": {},
   "outputs": [],
   "source": []
  },
  {
   "cell_type": "code",
   "execution_count": null,
   "id": "460af823",
   "metadata": {},
   "outputs": [],
   "source": []
  },
  {
   "cell_type": "code",
   "execution_count": null,
   "id": "a0e95307",
   "metadata": {},
   "outputs": [],
   "source": []
  },
  {
   "cell_type": "code",
   "execution_count": null,
   "id": "1631f0c7",
   "metadata": {},
   "outputs": [],
   "source": []
  },
  {
   "cell_type": "code",
   "execution_count": null,
   "id": "fcb4db42",
   "metadata": {},
   "outputs": [],
   "source": []
  },
  {
   "cell_type": "code",
   "execution_count": null,
   "id": "cb06b352",
   "metadata": {},
   "outputs": [],
   "source": []
  },
  {
   "cell_type": "code",
   "execution_count": null,
   "id": "2e151f15",
   "metadata": {},
   "outputs": [],
   "source": []
  },
  {
   "cell_type": "code",
   "execution_count": null,
   "id": "26f8ab49",
   "metadata": {},
   "outputs": [],
   "source": []
  },
  {
   "cell_type": "code",
   "execution_count": null,
   "id": "2d5e284c",
   "metadata": {},
   "outputs": [],
   "source": []
  },
  {
   "cell_type": "code",
   "execution_count": null,
   "id": "42c57e2e",
   "metadata": {},
   "outputs": [],
   "source": []
  },
  {
   "cell_type": "code",
   "execution_count": null,
   "id": "efeae45f",
   "metadata": {},
   "outputs": [],
   "source": []
  },
  {
   "cell_type": "code",
   "execution_count": null,
   "id": "06b1dfd0",
   "metadata": {},
   "outputs": [],
   "source": []
  },
  {
   "cell_type": "code",
   "execution_count": null,
   "id": "22d21f63",
   "metadata": {},
   "outputs": [],
   "source": []
  },
  {
   "cell_type": "code",
   "execution_count": null,
   "id": "c48fa23f",
   "metadata": {},
   "outputs": [],
   "source": []
  },
  {
   "cell_type": "code",
   "execution_count": null,
   "id": "f8ba9f16",
   "metadata": {},
   "outputs": [],
   "source": []
  },
  {
   "cell_type": "code",
   "execution_count": null,
   "id": "bab8eea4",
   "metadata": {},
   "outputs": [],
   "source": []
  },
  {
   "cell_type": "code",
   "execution_count": null,
   "id": "a58e4dd7",
   "metadata": {},
   "outputs": [],
   "source": []
  },
  {
   "cell_type": "code",
   "execution_count": null,
   "id": "80ec000e",
   "metadata": {},
   "outputs": [],
   "source": []
  },
  {
   "cell_type": "code",
   "execution_count": null,
   "id": "2a1f72b7",
   "metadata": {},
   "outputs": [],
   "source": []
  },
  {
   "cell_type": "code",
   "execution_count": null,
   "id": "4d01d847",
   "metadata": {},
   "outputs": [],
   "source": []
  },
  {
   "cell_type": "code",
   "execution_count": null,
   "id": "d0063c4d",
   "metadata": {},
   "outputs": [],
   "source": []
  },
  {
   "cell_type": "code",
   "execution_count": null,
   "id": "fbe0dc76",
   "metadata": {},
   "outputs": [],
   "source": []
  },
  {
   "cell_type": "code",
   "execution_count": null,
   "id": "c2fa8e92",
   "metadata": {},
   "outputs": [],
   "source": []
  },
  {
   "cell_type": "code",
   "execution_count": null,
   "id": "43feb5ff",
   "metadata": {},
   "outputs": [],
   "source": []
  },
  {
   "cell_type": "code",
   "execution_count": null,
   "id": "cd5c1e8f",
   "metadata": {},
   "outputs": [],
   "source": []
  },
  {
   "cell_type": "code",
   "execution_count": null,
   "id": "5512ea6c",
   "metadata": {},
   "outputs": [],
   "source": []
  },
  {
   "cell_type": "code",
   "execution_count": null,
   "id": "dd4bc10e",
   "metadata": {},
   "outputs": [],
   "source": []
  },
  {
   "cell_type": "code",
   "execution_count": null,
   "id": "1b82ac65",
   "metadata": {},
   "outputs": [],
   "source": []
  },
  {
   "cell_type": "code",
   "execution_count": null,
   "id": "a8fa23d8",
   "metadata": {},
   "outputs": [],
   "source": []
  },
  {
   "cell_type": "code",
   "execution_count": null,
   "id": "348540a7",
   "metadata": {},
   "outputs": [],
   "source": []
  },
  {
   "cell_type": "code",
   "execution_count": null,
   "id": "4a7a82c8",
   "metadata": {},
   "outputs": [],
   "source": []
  },
  {
   "cell_type": "code",
   "execution_count": null,
   "id": "1f94b488",
   "metadata": {},
   "outputs": [],
   "source": []
  },
  {
   "cell_type": "code",
   "execution_count": null,
   "id": "05311fd7",
   "metadata": {},
   "outputs": [],
   "source": []
  },
  {
   "cell_type": "code",
   "execution_count": null,
   "id": "8629cf0a",
   "metadata": {},
   "outputs": [],
   "source": []
  },
  {
   "cell_type": "code",
   "execution_count": null,
   "id": "5a6e467e",
   "metadata": {},
   "outputs": [],
   "source": []
  },
  {
   "cell_type": "code",
   "execution_count": null,
   "id": "a6f83ac9",
   "metadata": {},
   "outputs": [],
   "source": []
  },
  {
   "cell_type": "code",
   "execution_count": null,
   "id": "d5790967",
   "metadata": {},
   "outputs": [],
   "source": []
  },
  {
   "cell_type": "code",
   "execution_count": null,
   "id": "ce19724b",
   "metadata": {},
   "outputs": [],
   "source": []
  },
  {
   "cell_type": "code",
   "execution_count": null,
   "id": "f4c66a96",
   "metadata": {},
   "outputs": [],
   "source": []
  },
  {
   "cell_type": "code",
   "execution_count": null,
   "id": "83c92c8d",
   "metadata": {},
   "outputs": [],
   "source": []
  },
  {
   "cell_type": "code",
   "execution_count": null,
   "id": "f4c37baf",
   "metadata": {},
   "outputs": [],
   "source": []
  },
  {
   "cell_type": "code",
   "execution_count": null,
   "id": "56399f28",
   "metadata": {},
   "outputs": [],
   "source": []
  },
  {
   "cell_type": "code",
   "execution_count": null,
   "id": "75a1ba37",
   "metadata": {},
   "outputs": [],
   "source": []
  },
  {
   "cell_type": "code",
   "execution_count": null,
   "id": "efef1edf",
   "metadata": {},
   "outputs": [],
   "source": []
  },
  {
   "cell_type": "code",
   "execution_count": null,
   "id": "dd453a1a",
   "metadata": {},
   "outputs": [],
   "source": []
  },
  {
   "cell_type": "code",
   "execution_count": null,
   "id": "4cd3f25b",
   "metadata": {},
   "outputs": [],
   "source": []
  },
  {
   "cell_type": "code",
   "execution_count": null,
   "id": "e74a46d9",
   "metadata": {},
   "outputs": [],
   "source": []
  },
  {
   "cell_type": "code",
   "execution_count": null,
   "id": "184b82a6",
   "metadata": {},
   "outputs": [],
   "source": []
  },
  {
   "cell_type": "code",
   "execution_count": null,
   "id": "c91bf330",
   "metadata": {},
   "outputs": [],
   "source": []
  },
  {
   "cell_type": "code",
   "execution_count": null,
   "id": "0525dbe3",
   "metadata": {},
   "outputs": [],
   "source": []
  },
  {
   "cell_type": "code",
   "execution_count": null,
   "id": "26bd5262",
   "metadata": {
    "scrolled": true
   },
   "outputs": [],
   "source": []
  },
  {
   "cell_type": "code",
   "execution_count": null,
   "id": "007518f6",
   "metadata": {},
   "outputs": [],
   "source": []
  },
  {
   "cell_type": "code",
   "execution_count": null,
   "id": "735f5d16",
   "metadata": {},
   "outputs": [],
   "source": []
  },
  {
   "cell_type": "code",
   "execution_count": 9,
   "id": "a3275ba6",
   "metadata": {},
   "outputs": [
    {
     "data": {
      "text/html": [
       "<div>\n",
       "<style scoped>\n",
       "    .dataframe tbody tr th:only-of-type {\n",
       "        vertical-align: middle;\n",
       "    }\n",
       "\n",
       "    .dataframe tbody tr th {\n",
       "        vertical-align: top;\n",
       "    }\n",
       "\n",
       "    .dataframe thead th {\n",
       "        text-align: right;\n",
       "    }\n",
       "</style>\n",
       "<table border=\"1\" class=\"dataframe\">\n",
       "  <thead>\n",
       "    <tr style=\"text-align: right;\">\n",
       "      <th></th>\n",
       "      <th>sum_of_appointments</th>\n",
       "    </tr>\n",
       "    <tr>\n",
       "      <th>icb_location</th>\n",
       "      <th></th>\n",
       "    </tr>\n",
       "  </thead>\n",
       "  <tbody>\n",
       "    <tr>\n",
       "      <th>North East and North Cumbria</th>\n",
       "      <td>16882235</td>\n",
       "    </tr>\n",
       "    <tr>\n",
       "      <th>West Yorkshire</th>\n",
       "      <td>14358371</td>\n",
       "    </tr>\n",
       "    <tr>\n",
       "      <th>Greater Manchester</th>\n",
       "      <td>13857900</td>\n",
       "    </tr>\n",
       "    <tr>\n",
       "      <th>Cheshire and Merseyside</th>\n",
       "      <td>13250311</td>\n",
       "    </tr>\n",
       "    <tr>\n",
       "      <th>North West London</th>\n",
       "      <td>12142390</td>\n",
       "    </tr>\n",
       "  </tbody>\n",
       "</table>\n",
       "</div>"
      ],
      "text/plain": [
       "                                 sum_of_appointments\n",
       "icb_location                                        \n",
       " North East and North Cumbria               16882235\n",
       " West Yorkshire                             14358371\n",
       " Greater Manchester                         13857900\n",
       " Cheshire and Merseyside                    13250311\n",
       " North West London                          12142390"
      ]
     },
     "execution_count": 9,
     "metadata": {},
     "output_type": "execute_result"
    }
   ],
   "source": [
    "# What are the five locations with the highest number of records?\n",
    "\n",
    "total_appointment = nc.groupby(\"icb_location\")[[\"count_of_appointments\"]]\\\n",
    "                    .agg(sum)\\\n",
    "                    .sort_values(by=\"count_of_appointments\", ascending=False)\\\n",
    "                    .iloc[0:5]\n",
    "total_appointment.rename(columns={\"count_of_appointments\":\"sum_of_appointments\"})"
   ]
  },
  {
   "cell_type": "code",
   "execution_count": null,
   "id": "551f79cd",
   "metadata": {},
   "outputs": [],
   "source": []
  },
  {
   "cell_type": "code",
   "execution_count": null,
   "id": "11f4bcb4",
   "metadata": {},
   "outputs": [],
   "source": []
  },
  {
   "cell_type": "code",
   "execution_count": null,
   "id": "ca5ef45c",
   "metadata": {},
   "outputs": [],
   "source": []
  },
  {
   "cell_type": "code",
   "execution_count": 11,
   "id": "83e1bd7d",
   "metadata": {},
   "outputs": [
    {
     "name": "stdout",
     "output_type": "stream",
     "text": [
      "There are 3 types of appointment status:\n",
      "['Attended' 'DNA' 'Unknown']\n"
     ]
    }
   ],
   "source": [
    "print(\"There are {0} types of appointment status:\"\n",
    "      .format(len(ar[\"appointment_status\"]\n",
    "                  .unique())))\n",
    "print(ar[\"appointment_status\"].unique())"
   ]
  },
  {
   "cell_type": "code",
   "execution_count": null,
   "id": "41510ec6",
   "metadata": {},
   "outputs": [],
   "source": []
  },
  {
   "cell_type": "code",
   "execution_count": 12,
   "id": "7bdd9440",
   "metadata": {},
   "outputs": [
    {
     "data": {
      "text/html": [
       "<div>\n",
       "<style scoped>\n",
       "    .dataframe tbody tr th:only-of-type {\n",
       "        vertical-align: middle;\n",
       "    }\n",
       "\n",
       "    .dataframe tbody tr th {\n",
       "        vertical-align: top;\n",
       "    }\n",
       "\n",
       "    .dataframe thead th {\n",
       "        text-align: right;\n",
       "    }\n",
       "</style>\n",
       "<table border=\"1\" class=\"dataframe\">\n",
       "  <thead>\n",
       "    <tr style=\"text-align: right;\">\n",
       "      <th></th>\n",
       "      <th>icb_ons_code</th>\n",
       "      <th>appointment_month</th>\n",
       "      <th>appointment_status</th>\n",
       "      <th>hcp_type</th>\n",
       "      <th>appointment_mode</th>\n",
       "      <th>time_between_book_and_appointment</th>\n",
       "      <th>count_of_appointments</th>\n",
       "    </tr>\n",
       "  </thead>\n",
       "  <tbody>\n",
       "    <tr>\n",
       "      <th>0</th>\n",
       "      <td>E54000034</td>\n",
       "      <td>2020-01</td>\n",
       "      <td>Attended</td>\n",
       "      <td>GP</td>\n",
       "      <td>Face-to-Face</td>\n",
       "      <td>1 Day</td>\n",
       "      <td>8107</td>\n",
       "    </tr>\n",
       "    <tr>\n",
       "      <th>1</th>\n",
       "      <td>E54000034</td>\n",
       "      <td>2020-01</td>\n",
       "      <td>Attended</td>\n",
       "      <td>GP</td>\n",
       "      <td>Face-to-Face</td>\n",
       "      <td>15  to 21 Days</td>\n",
       "      <td>6791</td>\n",
       "    </tr>\n",
       "    <tr>\n",
       "      <th>2</th>\n",
       "      <td>E54000034</td>\n",
       "      <td>2020-01</td>\n",
       "      <td>Attended</td>\n",
       "      <td>GP</td>\n",
       "      <td>Face-to-Face</td>\n",
       "      <td>2 to 7 Days</td>\n",
       "      <td>20686</td>\n",
       "    </tr>\n",
       "    <tr>\n",
       "      <th>3</th>\n",
       "      <td>E54000034</td>\n",
       "      <td>2020-01</td>\n",
       "      <td>Attended</td>\n",
       "      <td>GP</td>\n",
       "      <td>Face-to-Face</td>\n",
       "      <td>22  to 28 Days</td>\n",
       "      <td>4268</td>\n",
       "    </tr>\n",
       "    <tr>\n",
       "      <th>4</th>\n",
       "      <td>E54000034</td>\n",
       "      <td>2020-01</td>\n",
       "      <td>Attended</td>\n",
       "      <td>GP</td>\n",
       "      <td>Face-to-Face</td>\n",
       "      <td>8  to 14 Days</td>\n",
       "      <td>11971</td>\n",
       "    </tr>\n",
       "  </tbody>\n",
       "</table>\n",
       "</div>"
      ],
      "text/plain": [
       "  icb_ons_code appointment_month appointment_status hcp_type appointment_mode  \\\n",
       "0    E54000034           2020-01           Attended       GP     Face-to-Face   \n",
       "1    E54000034           2020-01           Attended       GP     Face-to-Face   \n",
       "2    E54000034           2020-01           Attended       GP     Face-to-Face   \n",
       "3    E54000034           2020-01           Attended       GP     Face-to-Face   \n",
       "4    E54000034           2020-01           Attended       GP     Face-to-Face   \n",
       "\n",
       "  time_between_book_and_appointment  count_of_appointments  \n",
       "0                             1 Day                   8107  \n",
       "1                    15  to 21 Days                   6791  \n",
       "2                       2 to 7 Days                  20686  \n",
       "3                    22  to 28 Days                   4268  \n",
       "4                     8  to 14 Days                  11971  "
      ]
     },
     "execution_count": 12,
     "metadata": {},
     "output_type": "execute_result"
    }
   ],
   "source": [
    "# Due to an issue with the data collection, DNA appointments were not captured correctly \n",
    "# after June 2018 and are under-reported until and including November 2018 for all \n",
    "# practices using the TPP SystmOne system.\n",
    "\n",
    "# Since the appointment_month column was a string dtype, parse it into datetime format\n",
    "from datetime import datetime\n",
    "ar[\"appointment_month\"]=pd.to_datetime(ar[\"appointment_month\"])\n",
    "\n",
    "# Display with YYYY-MM format\n",
    "ar[\"appointment_month\"] = ar[\"appointment_month\"].dt.strftime('%Y-%m')\n",
    "\n",
    "ar.head()"
   ]
  },
  {
   "cell_type": "code",
   "execution_count": 13,
   "id": "01bdea27",
   "metadata": {},
   "outputs": [
    {
     "name": "stdout",
     "output_type": "stream",
     "text": [
      "The appointment_month in the dataset ranged from 2020-01 to 2022-06\n"
     ]
    }
   ],
   "source": [
    "# Check the range of appointment_month\n",
    "print(\"The appointment_month in the dataset ranged from\"\n",
    "      ,ar[\"appointment_month\"].min(),\n",
    "      \"to\",  ar[\"appointment_month\"].max())"
   ]
  },
  {
   "cell_type": "code",
   "execution_count": 14,
   "id": "2f024467",
   "metadata": {},
   "outputs": [],
   "source": [
    "monthly_appointment = ar.groupby(\"appointment_month\")[\"count_of_appointments\"].sum()"
   ]
  },
  {
   "cell_type": "code",
   "execution_count": 15,
   "id": "d22639e7",
   "metadata": {
    "scrolled": true,
    "tags": []
   },
   "outputs": [
    {
     "data": {
      "text/plain": [
       "['2021-11', 30405070]"
      ]
     },
     "execution_count": 15,
     "metadata": {},
     "output_type": "execute_result"
    }
   ],
   "source": [
    "[monthly_appointment.idxmax(),monthly_appointment.max()]"
   ]
  },
  {
   "cell_type": "code",
   "execution_count": 16,
   "id": "b027ed99",
   "metadata": {},
   "outputs": [
    {
     "data": {
      "text/plain": [
       "<matplotlib.legend.Legend at 0x1773e877f40>"
      ]
     },
     "execution_count": 16,
     "metadata": {},
     "output_type": "execute_result"
    },
    {
     "data": {
      "image/png": "[encoded data removed]",
      "text/plain": [
       "<Figure size 1600x900 with 1 Axes>"
      ]
     },
     "metadata": {},
     "output_type": "display_data"
    }
   ],
   "source": [
    "import seaborn as sns\n",
    "import matplotlib.pyplot as plt\n",
    "import matplotlib.patches as mpatches\n",
    "\n",
    "fig,ax = plt.subplots(figsize=(16,9))\n",
    "plt.xticks(rotation=45)\n",
    "\n",
    "ax.plot(monthly_appointment)\n",
    "\n",
    "# set Title and axis labels\n",
    "ax.set_title(\"Appointment Trend from 2020-2022\")\n",
    "ax.set_xlabel(\"Appointment Month\")\n",
    "ax.set_ylabel(\"Count of Appointment\")\n",
    "\n",
    "# Add annotation lines.\n",
    "plt.axhline(y=monthly_appointment.max(),color='r', label=\"Maximum Count\", linestyle='--')\n",
    "plt.axvline(x=monthly_appointment.idxmax(), color='grey', linestyle=':')\n",
    "\n",
    "red_patch = mpatches.Patch(color='red', label='Max_appointment = 30405070')\n",
    "\n",
    "plt.legend(handles=[red_patch])"
   ]
  },
  {
   "cell_type": "code",
   "execution_count": null,
   "id": "81248a2b",
   "metadata": {},
   "outputs": [],
   "source": []
  },
  {
   "cell_type": "code",
   "execution_count": 103,
   "id": "05e8dac8",
   "metadata": {},
   "outputs": [
    {
     "name": "stdout",
     "output_type": "stream",
     "text": [
      "(137793, 8)\n",
      "sub_icb_location_code        object\n",
      "sub_icb_location_ons_code    object\n",
      "sub_icb_location_name        object\n",
      "icb_ons_code                 object\n",
      "region_ons_code              object\n",
      "appointment_date             object\n",
      "actual_duration              object\n",
      "count_of_appointments         int64\n",
      "dtype: object\n",
      "Index(['sub_icb_location_code', 'sub_icb_location_ons_code',\n",
      "       'sub_icb_location_name', 'icb_ons_code', 'region_ons_code',\n",
      "       'appointment_date', 'actual_duration', 'count_of_appointments'],\n",
      "      dtype='object')\n"
     ]
    },
    {
     "data": {
      "text/html": [
       "<div>\n",
       "<style scoped>\n",
       "    .dataframe tbody tr th:only-of-type {\n",
       "        vertical-align: middle;\n",
       "    }\n",
       "\n",
       "    .dataframe tbody tr th {\n",
       "        vertical-align: top;\n",
       "    }\n",
       "\n",
       "    .dataframe thead th {\n",
       "        text-align: right;\n",
       "    }\n",
       "</style>\n",
       "<table border=\"1\" class=\"dataframe\">\n",
       "  <thead>\n",
       "    <tr style=\"text-align: right;\">\n",
       "      <th></th>\n",
       "      <th>sub_icb_location_code</th>\n",
       "      <th>sub_icb_location_ons_code</th>\n",
       "      <th>sub_icb_location_name</th>\n",
       "      <th>icb_ons_code</th>\n",
       "      <th>region_ons_code</th>\n",
       "      <th>appointment_date</th>\n",
       "      <th>actual_duration</th>\n",
       "      <th>count_of_appointments</th>\n",
       "    </tr>\n",
       "  </thead>\n",
       "  <tbody>\n",
       "    <tr>\n",
       "      <th>0</th>\n",
       "      <td>00L</td>\n",
       "      <td>E38000130</td>\n",
       "      <td>NHS North East and North Cumbria ICB - 00L</td>\n",
       "      <td>E54000050</td>\n",
       "      <td>E40000012</td>\n",
       "      <td>01-Dec-21</td>\n",
       "      <td>31-60 Minutes</td>\n",
       "      <td>364</td>\n",
       "    </tr>\n",
       "    <tr>\n",
       "      <th>1</th>\n",
       "      <td>00L</td>\n",
       "      <td>E38000130</td>\n",
       "      <td>NHS North East and North Cumbria ICB - 00L</td>\n",
       "      <td>E54000050</td>\n",
       "      <td>E40000012</td>\n",
       "      <td>01-Dec-21</td>\n",
       "      <td>21-30 Minutes</td>\n",
       "      <td>619</td>\n",
       "    </tr>\n",
       "    <tr>\n",
       "      <th>2</th>\n",
       "      <td>00L</td>\n",
       "      <td>E38000130</td>\n",
       "      <td>NHS North East and North Cumbria ICB - 00L</td>\n",
       "      <td>E54000050</td>\n",
       "      <td>E40000012</td>\n",
       "      <td>01-Dec-21</td>\n",
       "      <td>6-10 Minutes</td>\n",
       "      <td>1698</td>\n",
       "    </tr>\n",
       "    <tr>\n",
       "      <th>3</th>\n",
       "      <td>00L</td>\n",
       "      <td>E38000130</td>\n",
       "      <td>NHS North East and North Cumbria ICB - 00L</td>\n",
       "      <td>E54000050</td>\n",
       "      <td>E40000012</td>\n",
       "      <td>01-Dec-21</td>\n",
       "      <td>Unknown / Data Quality</td>\n",
       "      <td>1277</td>\n",
       "    </tr>\n",
       "    <tr>\n",
       "      <th>4</th>\n",
       "      <td>00L</td>\n",
       "      <td>E38000130</td>\n",
       "      <td>NHS North East and North Cumbria ICB - 00L</td>\n",
       "      <td>E54000050</td>\n",
       "      <td>E40000012</td>\n",
       "      <td>01-Dec-21</td>\n",
       "      <td>16-20 Minutes</td>\n",
       "      <td>730</td>\n",
       "    </tr>\n",
       "  </tbody>\n",
       "</table>\n",
       "</div>"
      ],
      "text/plain": [
       "  sub_icb_location_code sub_icb_location_ons_code  \\\n",
       "0                   00L                 E38000130   \n",
       "1                   00L                 E38000130   \n",
       "2                   00L                 E38000130   \n",
       "3                   00L                 E38000130   \n",
       "4                   00L                 E38000130   \n",
       "\n",
       "                        sub_icb_location_name icb_ons_code region_ons_code  \\\n",
       "0  NHS North East and North Cumbria ICB - 00L    E54000050       E40000012   \n",
       "1  NHS North East and North Cumbria ICB - 00L    E54000050       E40000012   \n",
       "2  NHS North East and North Cumbria ICB - 00L    E54000050       E40000012   \n",
       "3  NHS North East and North Cumbria ICB - 00L    E54000050       E40000012   \n",
       "4  NHS North East and North Cumbria ICB - 00L    E54000050       E40000012   \n",
       "\n",
       "  appointment_date         actual_duration  count_of_appointments  \n",
       "0        01-Dec-21           31-60 Minutes                    364  \n",
       "1        01-Dec-21           21-30 Minutes                    619  \n",
       "2        01-Dec-21            6-10 Minutes                   1698  \n",
       "3        01-Dec-21  Unknown / Data Quality                   1277  \n",
       "4        01-Dec-21           16-20 Minutes                    730  "
      ]
     },
     "execution_count": 103,
     "metadata": {},
     "output_type": "execute_result"
    }
   ],
   "source": [
    "import pandas as pd\n",
    "\n",
    "ad = pd.read_csv('actual_duration.csv')\n",
    "print(ac.shape)\n",
    "print(ac.dtypes)\n",
    "print(ac.columns)\n",
    "ad.head()\n"
   ]
  },
  {
   "cell_type": "code",
   "execution_count": 104,
   "id": "4ce28185",
   "metadata": {},
   "outputs": [
    {
     "data": {
      "text/plain": [
       "sub_icb_location_code        0\n",
       "sub_icb_location_ons_code    0\n",
       "sub_icb_location_name        0\n",
       "icb_ons_code                 0\n",
       "region_ons_code              0\n",
       "appointment_date             0\n",
       "actual_duration              0\n",
       "count_of_appointments        0\n",
       "dtype: int64"
      ]
     },
     "execution_count": 104,
     "metadata": {},
     "output_type": "execute_result"
    }
   ],
   "source": [
    "# Check if any na in the dataframe\n",
    "ad.isna().sum()"
   ]
  },
  {
   "cell_type": "code",
   "execution_count": 105,
   "id": "5186e799",
   "metadata": {},
   "outputs": [
    {
     "data": {
      "text/plain": [
       "sub_icb_location_code                object\n",
       "sub_icb_location_ons_code            object\n",
       "sub_icb_location_name                object\n",
       "icb_ons_code                         object\n",
       "region_ons_code                      object\n",
       "appointment_date             datetime64[ns]\n",
       "actual_duration                      object\n",
       "count_of_appointments                 int64\n",
       "dtype: object"
      ]
     },
     "execution_count": 105,
     "metadata": {},
     "output_type": "execute_result"
    }
   ],
   "source": [
    "ad[\"appointment_date\"] = pd.to_datetime(ad['appointment_date'])\n",
    "ad.dtypes"
   ]
  },
  {
   "cell_type": "code",
   "execution_count": 106,
   "id": "162a6f2a",
   "metadata": {},
   "outputs": [
    {
     "data": {
      "text/plain": [
       "Timestamp('2021-12-01 00:00:00')"
      ]
     },
     "execution_count": 106,
     "metadata": {},
     "output_type": "execute_result"
    }
   ],
   "source": [
    "# Check with data if starting from December 2021 (from metadata)\n",
    "ad[\"appointment_date\"].min()"
   ]
  },
  {
   "cell_type": "code",
   "execution_count": 107,
   "id": "f201fc79",
   "metadata": {},
   "outputs": [
    {
     "data": {
      "text/plain": [
       "array(['31-60 Minutes', '21-30 Minutes', '6-10 Minutes',\n",
       "       'Unknown / Data Quality', '16-20 Minutes', '11-15 Minutes',\n",
       "       '1-5 Minutes'], dtype=object)"
      ]
     },
     "execution_count": 107,
     "metadata": {},
     "output_type": "execute_result"
    }
   ],
   "source": [
    "# Check attributes of the actual duration columns\n",
    "ad[\"actual_duration\"].unique()"
   ]
  },
  {
   "cell_type": "code",
   "execution_count": 200,
   "id": "00c0ebe0",
   "metadata": {},
   "outputs": [
    {
     "name": "stdout",
     "output_type": "stream",
     "text": [
      "(20161, 8)\n"
     ]
    },
    {
     "data": {
      "text/html": [
       "<div>\n",
       "<style scoped>\n",
       "    .dataframe tbody tr th:only-of-type {\n",
       "        vertical-align: middle;\n",
       "    }\n",
       "\n",
       "    .dataframe tbody tr th {\n",
       "        vertical-align: top;\n",
       "    }\n",
       "\n",
       "    .dataframe thead th {\n",
       "        text-align: right;\n",
       "    }\n",
       "</style>\n",
       "<table border=\"1\" class=\"dataframe\">\n",
       "  <thead>\n",
       "    <tr style=\"text-align: right;\">\n",
       "      <th></th>\n",
       "      <th>sub_icb_location_code</th>\n",
       "      <th>sub_icb_location_ons_code</th>\n",
       "      <th>sub_icb_location_name</th>\n",
       "      <th>icb_ons_code</th>\n",
       "      <th>region_ons_code</th>\n",
       "      <th>appointment_date</th>\n",
       "      <th>actual_duration</th>\n",
       "      <th>count_of_appointments</th>\n",
       "    </tr>\n",
       "  </thead>\n",
       "  <tbody>\n",
       "    <tr>\n",
       "      <th>3</th>\n",
       "      <td>00L</td>\n",
       "      <td>E38000130</td>\n",
       "      <td>NHS North East and North Cumbria ICB - 00L</td>\n",
       "      <td>E54000050</td>\n",
       "      <td>E40000012</td>\n",
       "      <td>2021-12-01</td>\n",
       "      <td>Unknown / Data Quality</td>\n",
       "      <td>1277</td>\n",
       "    </tr>\n",
       "    <tr>\n",
       "      <th>8</th>\n",
       "      <td>00L</td>\n",
       "      <td>E38000130</td>\n",
       "      <td>NHS North East and North Cumbria ICB - 00L</td>\n",
       "      <td>E54000050</td>\n",
       "      <td>E40000012</td>\n",
       "      <td>2021-12-02</td>\n",
       "      <td>Unknown / Data Quality</td>\n",
       "      <td>1391</td>\n",
       "    </tr>\n",
       "    <tr>\n",
       "      <th>17</th>\n",
       "      <td>00L</td>\n",
       "      <td>E38000130</td>\n",
       "      <td>NHS North East and North Cumbria ICB - 00L</td>\n",
       "      <td>E54000050</td>\n",
       "      <td>E40000012</td>\n",
       "      <td>2021-12-03</td>\n",
       "      <td>Unknown / Data Quality</td>\n",
       "      <td>1237</td>\n",
       "    </tr>\n",
       "    <tr>\n",
       "      <th>24</th>\n",
       "      <td>00L</td>\n",
       "      <td>E38000130</td>\n",
       "      <td>NHS North East and North Cumbria ICB - 00L</td>\n",
       "      <td>E54000050</td>\n",
       "      <td>E40000012</td>\n",
       "      <td>2021-12-04</td>\n",
       "      <td>Unknown / Data Quality</td>\n",
       "      <td>41</td>\n",
       "    </tr>\n",
       "    <tr>\n",
       "      <th>34</th>\n",
       "      <td>00L</td>\n",
       "      <td>E38000130</td>\n",
       "      <td>NHS North East and North Cumbria ICB - 00L</td>\n",
       "      <td>E54000050</td>\n",
       "      <td>E40000012</td>\n",
       "      <td>2021-12-06</td>\n",
       "      <td>Unknown / Data Quality</td>\n",
       "      <td>1502</td>\n",
       "    </tr>\n",
       "  </tbody>\n",
       "</table>\n",
       "</div>"
      ],
      "text/plain": [
       "   sub_icb_location_code sub_icb_location_ons_code  \\\n",
       "3                    00L                 E38000130   \n",
       "8                    00L                 E38000130   \n",
       "17                   00L                 E38000130   \n",
       "24                   00L                 E38000130   \n",
       "34                   00L                 E38000130   \n",
       "\n",
       "                         sub_icb_location_name icb_ons_code region_ons_code  \\\n",
       "3   NHS North East and North Cumbria ICB - 00L    E54000050       E40000012   \n",
       "8   NHS North East and North Cumbria ICB - 00L    E54000050       E40000012   \n",
       "17  NHS North East and North Cumbria ICB - 00L    E54000050       E40000012   \n",
       "24  NHS North East and North Cumbria ICB - 00L    E54000050       E40000012   \n",
       "34  NHS North East and North Cumbria ICB - 00L    E54000050       E40000012   \n",
       "\n",
       "   appointment_date         actual_duration  count_of_appointments  \n",
       "3        2021-12-01  Unknown / Data Quality                   1277  \n",
       "8        2021-12-02  Unknown / Data Quality                   1391  \n",
       "17       2021-12-03  Unknown / Data Quality                   1237  \n",
       "24       2021-12-04  Unknown / Data Quality                     41  \n",
       "34       2021-12-06  Unknown / Data Quality                   1502  "
      ]
     },
     "execution_count": 200,
     "metadata": {},
     "output_type": "execute_result"
    }
   ],
   "source": [
    "# Missing Actual Data Exploration\n",
    "ad_missing = ad[ad[\"actual_duration\"].str.contains(\"Unknown / Data Quality\")]\n",
    "print(ad_missing.shape)\n",
    "ad_missing.head()"
   ]
  },
  {
   "cell_type": "code",
   "execution_count": 207,
   "id": "2eae71f4",
   "metadata": {},
   "outputs": [
    {
     "name": "stderr",
     "output_type": "stream",
     "text": [
      "C:\\Users\\Kenneth Lo\\AppData\\Local\\Temp\\ipykernel_7380\\1573387417.py:1: FutureWarning: The default value of numeric_only in DataFrameGroupBy.sum is deprecated. In a future version, numeric_only will default to False. Either specify numeric_only or select only columns which should be valid for the function.\n",
      "  missing = ad_missing.groupby(\"sub_icb_location_name\").sum().sort_values(by=\"count_of_appointments\", ascending=False).head(20)\n"
     ]
    }
   ],
   "source": [
    "missing = ad_missing.groupby(\"sub_icb_location_name\").sum().sort_values(by=\"count_of_appointments\", ascending=False).head(20)"
   ]
  },
  {
   "cell_type": "code",
   "execution_count": 217,
   "id": "8c9a03a8",
   "metadata": {},
   "outputs": [
    {
     "data": {
      "text/html": [
       "<div>\n",
       "<style scoped>\n",
       "    .dataframe tbody tr th:only-of-type {\n",
       "        vertical-align: middle;\n",
       "    }\n",
       "\n",
       "    .dataframe tbody tr th {\n",
       "        vertical-align: top;\n",
       "    }\n",
       "\n",
       "    .dataframe thead th {\n",
       "        text-align: right;\n",
       "    }\n",
       "</style>\n",
       "<table border=\"1\" class=\"dataframe\">\n",
       "  <thead>\n",
       "    <tr style=\"text-align: right;\">\n",
       "      <th></th>\n",
       "      <th>count_of_appointments_missing</th>\n",
       "      <th>count_of_appointments_total</th>\n",
       "    </tr>\n",
       "    <tr>\n",
       "      <th>sub_icb_location_name</th>\n",
       "      <th></th>\n",
       "      <th></th>\n",
       "    </tr>\n",
       "  </thead>\n",
       "  <tbody>\n",
       "    <tr>\n",
       "      <th>NHS North East London ICB - A3A8R</th>\n",
       "      <td>1831258.0</td>\n",
       "      <td>5341883</td>\n",
       "    </tr>\n",
       "    <tr>\n",
       "      <th>NHS North West London ICB - W2U3Z</th>\n",
       "      <td>1746794.0</td>\n",
       "      <td>6976986</td>\n",
       "    </tr>\n",
       "    <tr>\n",
       "      <th>NHS North Central London ICB - 93C</th>\n",
       "      <td>1393313.0</td>\n",
       "      <td>3795250</td>\n",
       "    </tr>\n",
       "    <tr>\n",
       "      <th>NHS Kent and Medway ICB - 91Q</th>\n",
       "      <td>1345784.0</td>\n",
       "      <td>5209641</td>\n",
       "    </tr>\n",
       "    <tr>\n",
       "      <th>NHS South East London ICB - 72Q</th>\n",
       "      <td>1329138.0</td>\n",
       "      <td>4360079</td>\n",
       "    </tr>\n",
       "  </tbody>\n",
       "</table>\n",
       "</div>"
      ],
      "text/plain": [
       "                                    count_of_appointments_missing  \\\n",
       "sub_icb_location_name                                               \n",
       "NHS North East London ICB - A3A8R                       1831258.0   \n",
       "NHS North West London ICB - W2U3Z                       1746794.0   \n",
       "NHS North Central London ICB - 93C                      1393313.0   \n",
       "NHS Kent and Medway ICB - 91Q                           1345784.0   \n",
       "NHS South East London ICB - 72Q                         1329138.0   \n",
       "\n",
       "                                    count_of_appointments_total  \n",
       "sub_icb_location_name                                            \n",
       "NHS North East London ICB - A3A8R                       5341883  \n",
       "NHS North West London ICB - W2U3Z                       6976986  \n",
       "NHS North Central London ICB - 93C                      3795250  \n",
       "NHS Kent and Medway ICB - 91Q                           5209641  \n",
       "NHS South East London ICB - 72Q                         4360079  "
      ]
     },
     "execution_count": 217,
     "metadata": {},
     "output_type": "execute_result"
    }
   ],
   "source": [
    "missing_rate = pd.merge(missing, total_appointments_geo, \n",
    "                        how='outer', \n",
    "                        on='sub_icb_location_name',\n",
    "                        suffixes=('_missing','_total')\n",
    "                       )\n",
    "missing_rate.head()"
   ]
  },
  {
   "cell_type": "code",
   "execution_count": 220,
   "id": "2a11c919",
   "metadata": {},
   "outputs": [],
   "source": [
    "# Calculate the rate of missing data per center location in percentage\n",
    "missing_rate[\"missing_rate(%)\"] = missing_rate[\"count_of_appointments_missing\"]/missing_rate[\"count_of_appointments_total\"]*100"
   ]
  },
  {
   "cell_type": "code",
   "execution_count": 230,
   "id": "3da5fe3f",
   "metadata": {},
   "outputs": [
    {
     "name": "stdout",
     "output_type": "stream",
     "text": [
      "count    20.000000\n",
      "mean     25.501812\n",
      "std       4.825447\n",
      "min      18.083969\n",
      "25%      21.942698\n",
      "50%      25.595355\n",
      "75%      27.416317\n",
      "max      36.712022\n",
      "Name: missing_rate(%), dtype: float64\n"
     ]
    },
    {
     "data": {
      "text/html": [
       "<div>\n",
       "<style scoped>\n",
       "    .dataframe tbody tr th:only-of-type {\n",
       "        vertical-align: middle;\n",
       "    }\n",
       "\n",
       "    .dataframe tbody tr th {\n",
       "        vertical-align: top;\n",
       "    }\n",
       "\n",
       "    .dataframe thead th {\n",
       "        text-align: right;\n",
       "    }\n",
       "</style>\n",
       "<table border=\"1\" class=\"dataframe\">\n",
       "  <thead>\n",
       "    <tr style=\"text-align: right;\">\n",
       "      <th></th>\n",
       "      <th>count_of_appointments_missing</th>\n",
       "      <th>count_of_appointments_total</th>\n",
       "      <th>missing_rate(%)</th>\n",
       "    </tr>\n",
       "    <tr>\n",
       "      <th>sub_icb_location_name</th>\n",
       "      <th></th>\n",
       "      <th></th>\n",
       "      <th></th>\n",
       "    </tr>\n",
       "  </thead>\n",
       "  <tbody>\n",
       "    <tr>\n",
       "      <th>NHS North Central London ICB - 93C</th>\n",
       "      <td>1393313.0</td>\n",
       "      <td>3795250</td>\n",
       "      <td>36.712022</td>\n",
       "    </tr>\n",
       "    <tr>\n",
       "      <th>NHS North East London ICB - A3A8R</th>\n",
       "      <td>1831258.0</td>\n",
       "      <td>5341883</td>\n",
       "      <td>34.281133</td>\n",
       "    </tr>\n",
       "    <tr>\n",
       "      <th>NHS South East London ICB - 72Q</th>\n",
       "      <td>1329138.0</td>\n",
       "      <td>4360079</td>\n",
       "      <td>30.484264</td>\n",
       "    </tr>\n",
       "    <tr>\n",
       "      <th>NHS Black Country ICB - D2P2L</th>\n",
       "      <td>1148089.0</td>\n",
       "      <td>3901431</td>\n",
       "      <td>29.427382</td>\n",
       "    </tr>\n",
       "    <tr>\n",
       "      <th>NHS Bristol North Somerset and South Gloucestershire ICB - 15C</th>\n",
       "      <td>784101.0</td>\n",
       "      <td>2756491</td>\n",
       "      <td>28.445622</td>\n",
       "    </tr>\n",
       "    <tr>\n",
       "      <th>NHS Cheshire and Merseyside ICB - 27D</th>\n",
       "      <td>574652.0</td>\n",
       "      <td>2122585</td>\n",
       "      <td>27.073215</td>\n",
       "    </tr>\n",
       "    <tr>\n",
       "      <th>NHS West Yorkshire ICB - 36J</th>\n",
       "      <td>619426.0</td>\n",
       "      <td>2348208</td>\n",
       "      <td>26.378668</td>\n",
       "    </tr>\n",
       "    <tr>\n",
       "      <th>NHS Surrey Heartlands ICB - 92A</th>\n",
       "      <td>729398.0</td>\n",
       "      <td>2789898</td>\n",
       "      <td>26.144253</td>\n",
       "    </tr>\n",
       "    <tr>\n",
       "      <th>NHS Kent and Medway ICB - 91Q</th>\n",
       "      <td>1345784.0</td>\n",
       "      <td>5209641</td>\n",
       "      <td>25.832567</td>\n",
       "    </tr>\n",
       "    <tr>\n",
       "      <th>NHS South West London ICB - 36L</th>\n",
       "      <td>1031927.0</td>\n",
       "      <td>4014321</td>\n",
       "      <td>25.706141</td>\n",
       "    </tr>\n",
       "    <tr>\n",
       "      <th>NHS Frimley ICB - D4U1Y</th>\n",
       "      <td>549418.0</td>\n",
       "      <td>2155885</td>\n",
       "      <td>25.484569</td>\n",
       "    </tr>\n",
       "    <tr>\n",
       "      <th>NHS North West London ICB - W2U3Z</th>\n",
       "      <td>1746794.0</td>\n",
       "      <td>6976986</td>\n",
       "      <td>25.036513</td>\n",
       "    </tr>\n",
       "    <tr>\n",
       "      <th>NHS Herefordshire and Worcestershire ICB - 18C</th>\n",
       "      <td>667188.0</td>\n",
       "      <td>2696703</td>\n",
       "      <td>24.740878</td>\n",
       "    </tr>\n",
       "    <tr>\n",
       "      <th>NHS Coventry and Warwickshire ICB - B2M3M</th>\n",
       "      <td>640564.0</td>\n",
       "      <td>2751699</td>\n",
       "      <td>23.278854</td>\n",
       "    </tr>\n",
       "    <tr>\n",
       "      <th>NHS Hampshire and Isle Of Wight ICB - D9Y0V</th>\n",
       "      <td>1055110.0</td>\n",
       "      <td>4712737</td>\n",
       "      <td>22.388476</td>\n",
       "    </tr>\n",
       "    <tr>\n",
       "      <th>NHS Birmingham and Solihull ICB - 15E</th>\n",
       "      <td>741811.0</td>\n",
       "      <td>3600087</td>\n",
       "      <td>20.605363</td>\n",
       "    </tr>\n",
       "    <tr>\n",
       "      <th>NHS West Yorkshire ICB - 15F</th>\n",
       "      <td>537130.0</td>\n",
       "      <td>2625961</td>\n",
       "      <td>20.454607</td>\n",
       "    </tr>\n",
       "    <tr>\n",
       "      <th>NHS Derby and Derbyshire ICB - 15M</th>\n",
       "      <td>669174.0</td>\n",
       "      <td>3295790</td>\n",
       "      <td>20.303903</td>\n",
       "    </tr>\n",
       "    <tr>\n",
       "      <th>NHS Norfolk and Waveney ICB - 26A</th>\n",
       "      <td>669291.0</td>\n",
       "      <td>3490647</td>\n",
       "      <td>19.173838</td>\n",
       "    </tr>\n",
       "    <tr>\n",
       "      <th>NHS Devon ICB - 15N</th>\n",
       "      <td>769534.0</td>\n",
       "      <td>4255338</td>\n",
       "      <td>18.083969</td>\n",
       "    </tr>\n",
       "  </tbody>\n",
       "</table>\n",
       "</div>"
      ],
      "text/plain": [
       "                                                    count_of_appointments_missing  \\\n",
       "sub_icb_location_name                                                               \n",
       "NHS North Central London ICB - 93C                                      1393313.0   \n",
       "NHS North East London ICB - A3A8R                                       1831258.0   \n",
       "NHS South East London ICB - 72Q                                         1329138.0   \n",
       "NHS Black Country ICB - D2P2L                                           1148089.0   \n",
       "NHS Bristol North Somerset and South Gloucester...                       784101.0   \n",
       "NHS Cheshire and Merseyside ICB - 27D                                    574652.0   \n",
       "NHS West Yorkshire ICB - 36J                                             619426.0   \n",
       "NHS Surrey Heartlands ICB - 92A                                          729398.0   \n",
       "NHS Kent and Medway ICB - 91Q                                           1345784.0   \n",
       "NHS South West London ICB - 36L                                         1031927.0   \n",
       "NHS Frimley ICB - D4U1Y                                                  549418.0   \n",
       "NHS North West London ICB - W2U3Z                                       1746794.0   \n",
       "NHS Herefordshire and Worcestershire ICB - 18C                           667188.0   \n",
       "NHS Coventry and Warwickshire ICB - B2M3M                                640564.0   \n",
       "NHS Hampshire and Isle Of Wight ICB - D9Y0V                             1055110.0   \n",
       "NHS Birmingham and Solihull ICB - 15E                                    741811.0   \n",
       "NHS West Yorkshire ICB - 15F                                             537130.0   \n",
       "NHS Derby and Derbyshire ICB - 15M                                       669174.0   \n",
       "NHS Norfolk and Waveney ICB - 26A                                        669291.0   \n",
       "NHS Devon ICB - 15N                                                      769534.0   \n",
       "\n",
       "                                                    count_of_appointments_total  \\\n",
       "sub_icb_location_name                                                             \n",
       "NHS North Central London ICB - 93C                                      3795250   \n",
       "NHS North East London ICB - A3A8R                                       5341883   \n",
       "NHS South East London ICB - 72Q                                         4360079   \n",
       "NHS Black Country ICB - D2P2L                                           3901431   \n",
       "NHS Bristol North Somerset and South Gloucester...                      2756491   \n",
       "NHS Cheshire and Merseyside ICB - 27D                                   2122585   \n",
       "NHS West Yorkshire ICB - 36J                                            2348208   \n",
       "NHS Surrey Heartlands ICB - 92A                                         2789898   \n",
       "NHS Kent and Medway ICB - 91Q                                           5209641   \n",
       "NHS South West London ICB - 36L                                         4014321   \n",
       "NHS Frimley ICB - D4U1Y                                                 2155885   \n",
       "NHS North West London ICB - W2U3Z                                       6976986   \n",
       "NHS Herefordshire and Worcestershire ICB - 18C                          2696703   \n",
       "NHS Coventry and Warwickshire ICB - B2M3M                               2751699   \n",
       "NHS Hampshire and Isle Of Wight ICB - D9Y0V                             4712737   \n",
       "NHS Birmingham and Solihull ICB - 15E                                   3600087   \n",
       "NHS West Yorkshire ICB - 15F                                            2625961   \n",
       "NHS Derby and Derbyshire ICB - 15M                                      3295790   \n",
       "NHS Norfolk and Waveney ICB - 26A                                       3490647   \n",
       "NHS Devon ICB - 15N                                                     4255338   \n",
       "\n",
       "                                                    missing_rate(%)  \n",
       "sub_icb_location_name                                                \n",
       "NHS North Central London ICB - 93C                        36.712022  \n",
       "NHS North East London ICB - A3A8R                         34.281133  \n",
       "NHS South East London ICB - 72Q                           30.484264  \n",
       "NHS Black Country ICB - D2P2L                             29.427382  \n",
       "NHS Bristol North Somerset and South Gloucester...        28.445622  \n",
       "NHS Cheshire and Merseyside ICB - 27D                     27.073215  \n",
       "NHS West Yorkshire ICB - 36J                              26.378668  \n",
       "NHS Surrey Heartlands ICB - 92A                           26.144253  \n",
       "NHS Kent and Medway ICB - 91Q                             25.832567  \n",
       "NHS South West London ICB - 36L                           25.706141  \n",
       "NHS Frimley ICB - D4U1Y                                   25.484569  \n",
       "NHS North West London ICB - W2U3Z                         25.036513  \n",
       "NHS Herefordshire and Worcestershire ICB - 18C            24.740878  \n",
       "NHS Coventry and Warwickshire ICB - B2M3M                 23.278854  \n",
       "NHS Hampshire and Isle Of Wight ICB - D9Y0V               22.388476  \n",
       "NHS Birmingham and Solihull ICB - 15E                     20.605363  \n",
       "NHS West Yorkshire ICB - 15F                              20.454607  \n",
       "NHS Derby and Derbyshire ICB - 15M                        20.303903  \n",
       "NHS Norfolk and Waveney ICB - 26A                         19.173838  \n",
       "NHS Devon ICB - 15N                                       18.083969  "
      ]
     },
     "execution_count": 230,
     "metadata": {},
     "output_type": "execute_result"
    }
   ],
   "source": [
    "# exploring the findings\n",
    "print(missing_rate[\"missing_rate(%)\"].describe())\n",
    "missing_rate.sort_values(by=\"missing_rate(%)\", ascending =False).head(20)"
   ]
  },
  {
   "cell_type": "markdown",
   "id": "f7d3f6bc",
   "metadata": {
    "tags": [
     "INSIGHT"
    ]
   },
   "source": [
    "INSIGHT\n",
    "- THE COUNT OF MISSING ENTRY FOR THE ACTUAL DURATION WAS ONLY 20 AND NOT A UNIVERSAL PROBLEM ACROSS THE NETWORKS\n",
    "- THIS ISSUE WAS EXPLAINED IN MATADATA FILE"
   ]
  },
  {
   "cell_type": "markdown",
   "id": "07e49433",
   "metadata": {},
   "source": [
    "C. DATA CLEANING"
   ]
  },
  {
   "cell_type": "code",
   "execution_count": 108,
   "id": "ef0ce435",
   "metadata": {
    "scrolled": true
   },
   "outputs": [
    {
     "name": "stderr",
     "output_type": "stream",
     "text": [
      "C:\\Users\\Kenneth Lo\\AppData\\Local\\Temp\\ipykernel_7380\\3747379152.py:3: SettingWithCopyWarning: \n",
      "A value is trying to be set on a copy of a slice from a DataFrame.\n",
      "Try using .loc[row_indexer,col_indexer] = value instead\n",
      "\n",
      "See the caveats in the documentation: https://pandas.pydata.org/pandas-docs/stable/user_guide/indexing.html#returning-a-view-versus-a-copy\n",
      "  ad_subset[\"actual_duration\"] = ad_subset[\"actual_duration\"].str.replace(\"Minutes\", \"\")\n"
     ]
    }
   ],
   "source": [
    "# Replace Unknown / Data Quality by creating a new subset without this entry\n",
    "ad_subset = ad[ad[\"actual_duration\"]!= 'Unknown / Data Quality']\n",
    "ad_subset[\"actual_duration\"] = ad_subset[\"actual_duration\"].str.replace(\"Minutes\", \"\")"
   ]
  },
  {
   "cell_type": "code",
   "execution_count": 109,
   "id": "b4a55605",
   "metadata": {},
   "outputs": [
    {
     "name": "stderr",
     "output_type": "stream",
     "text": [
      "C:\\Users\\Kenneth Lo\\AppData\\Local\\Temp\\ipykernel_7380\\1244304274.py:10: SettingWithCopyWarning: \n",
      "A value is trying to be set on a copy of a slice from a DataFrame.\n",
      "Try using .loc[row_indexer,col_indexer] = value instead\n",
      "\n",
      "See the caveats in the documentation: https://pandas.pydata.org/pandas-docs/stable/user_guide/indexing.html#returning-a-view-versus-a-copy\n",
      "  ad_subset[\"appointment_start\"] = start\n",
      "C:\\Users\\Kenneth Lo\\AppData\\Local\\Temp\\ipykernel_7380\\1244304274.py:11: SettingWithCopyWarning: \n",
      "A value is trying to be set on a copy of a slice from a DataFrame.\n",
      "Try using .loc[row_indexer,col_indexer] = value instead\n",
      "\n",
      "See the caveats in the documentation: https://pandas.pydata.org/pandas-docs/stable/user_guide/indexing.html#returning-a-view-versus-a-copy\n",
      "  ad_subset[\"appointment_end\"] = end\n",
      "C:\\Users\\Kenneth Lo\\AppData\\Local\\Temp\\ipykernel_7380\\1244304274.py:14: SettingWithCopyWarning: \n",
      "A value is trying to be set on a copy of a slice from a DataFrame.\n",
      "Try using .loc[row_indexer,col_indexer] = value instead\n",
      "\n",
      "See the caveats in the documentation: https://pandas.pydata.org/pandas-docs/stable/user_guide/indexing.html#returning-a-view-versus-a-copy\n",
      "  ad_subset[\"appointment_start\"]= ad_subset[\"appointment_start\"].astype('float')\n",
      "C:\\Users\\Kenneth Lo\\AppData\\Local\\Temp\\ipykernel_7380\\1244304274.py:15: SettingWithCopyWarning: \n",
      "A value is trying to be set on a copy of a slice from a DataFrame.\n",
      "Try using .loc[row_indexer,col_indexer] = value instead\n",
      "\n",
      "See the caveats in the documentation: https://pandas.pydata.org/pandas-docs/stable/user_guide/indexing.html#returning-a-view-versus-a-copy\n",
      "  ad_subset[\"appointment_end\"] = ad_subset[\"appointment_end\"].astype('float')\n"
     ]
    }
   ],
   "source": [
    "# Calculate the actual duration with a median minute-time of each group in it\n",
    "start=[]\n",
    "end =[]\n",
    "for i in ad_subset[\"actual_duration\"]:\n",
    "    i = i.split(\"-\")\n",
    "    start += [i[0]]\n",
    "    end += [i[1]]\n",
    "\n",
    "# specify new columns as start and end\n",
    "ad_subset[\"appointment_start\"] = start\n",
    "ad_subset[\"appointment_end\"] = end\n",
    "\n",
    "# Change the type of the data from string to float\n",
    "ad_subset[\"appointment_start\"]= ad_subset[\"appointment_start\"].astype('float')\n",
    "ad_subset[\"appointment_end\"] = ad_subset[\"appointment_end\"].astype('float')"
   ]
  },
  {
   "cell_type": "code",
   "execution_count": 110,
   "id": "a51965e1",
   "metadata": {},
   "outputs": [
    {
     "name": "stderr",
     "output_type": "stream",
     "text": [
      "C:\\Users\\Kenneth Lo\\AppData\\Local\\Temp\\ipykernel_7380\\2504118777.py:1: SettingWithCopyWarning: \n",
      "A value is trying to be set on a copy of a slice from a DataFrame.\n",
      "Try using .loc[row_indexer,col_indexer] = value instead\n",
      "\n",
      "See the caveats in the documentation: https://pandas.pydata.org/pandas-docs/stable/user_guide/indexing.html#returning-a-view-versus-a-copy\n",
      "  ad_subset[\"tag_actual_duration\"]= ad_subset[\"appointment_start\"]+ (ad_subset[\"appointment_end\"] - ad_subset[\"appointment_start\"])/2\n"
     ]
    }
   ],
   "source": [
    "ad_subset[\"tag_actual_duration\"]= ad_subset[\"appointment_start\"]+ (ad_subset[\"appointment_end\"] - ad_subset[\"appointment_start\"])/2"
   ]
  },
  {
   "cell_type": "code",
   "execution_count": 231,
   "id": "fc770e63",
   "metadata": {},
   "outputs": [
    {
     "data": {
      "text/html": [
       "<div>\n",
       "<style scoped>\n",
       "    .dataframe tbody tr th:only-of-type {\n",
       "        vertical-align: middle;\n",
       "    }\n",
       "\n",
       "    .dataframe tbody tr th {\n",
       "        vertical-align: top;\n",
       "    }\n",
       "\n",
       "    .dataframe thead th {\n",
       "        text-align: right;\n",
       "    }\n",
       "</style>\n",
       "<table border=\"1\" class=\"dataframe\">\n",
       "  <thead>\n",
       "    <tr style=\"text-align: right;\">\n",
       "      <th></th>\n",
       "      <th>sub_icb_location_code</th>\n",
       "      <th>sub_icb_location_ons_code</th>\n",
       "      <th>sub_icb_location_name</th>\n",
       "      <th>icb_ons_code</th>\n",
       "      <th>region_ons_code</th>\n",
       "      <th>appointment_date</th>\n",
       "      <th>actual_duration</th>\n",
       "      <th>count_of_appointments</th>\n",
       "      <th>appointment_start</th>\n",
       "      <th>appointment_end</th>\n",
       "      <th>tag_actual_duration</th>\n",
       "      <th>daily_total_duration</th>\n",
       "    </tr>\n",
       "  </thead>\n",
       "  <tbody>\n",
       "    <tr>\n",
       "      <th>0</th>\n",
       "      <td>00L</td>\n",
       "      <td>E38000130</td>\n",
       "      <td>North East and North Cumbria - 00L</td>\n",
       "      <td>E54000050</td>\n",
       "      <td>E40000012</td>\n",
       "      <td>2021-12-01</td>\n",
       "      <td>31-60</td>\n",
       "      <td>364</td>\n",
       "      <td>31.0</td>\n",
       "      <td>60.0</td>\n",
       "      <td>45.5</td>\n",
       "      <td>16562.0</td>\n",
       "    </tr>\n",
       "    <tr>\n",
       "      <th>1</th>\n",
       "      <td>00L</td>\n",
       "      <td>E38000130</td>\n",
       "      <td>North East and North Cumbria - 00L</td>\n",
       "      <td>E54000050</td>\n",
       "      <td>E40000012</td>\n",
       "      <td>2021-12-01</td>\n",
       "      <td>21-30</td>\n",
       "      <td>619</td>\n",
       "      <td>21.0</td>\n",
       "      <td>30.0</td>\n",
       "      <td>25.5</td>\n",
       "      <td>15784.5</td>\n",
       "    </tr>\n",
       "    <tr>\n",
       "      <th>2</th>\n",
       "      <td>00L</td>\n",
       "      <td>E38000130</td>\n",
       "      <td>North East and North Cumbria - 00L</td>\n",
       "      <td>E54000050</td>\n",
       "      <td>E40000012</td>\n",
       "      <td>2021-12-01</td>\n",
       "      <td>6-10</td>\n",
       "      <td>1698</td>\n",
       "      <td>6.0</td>\n",
       "      <td>10.0</td>\n",
       "      <td>8.0</td>\n",
       "      <td>13584.0</td>\n",
       "    </tr>\n",
       "    <tr>\n",
       "      <th>4</th>\n",
       "      <td>00L</td>\n",
       "      <td>E38000130</td>\n",
       "      <td>North East and North Cumbria - 00L</td>\n",
       "      <td>E54000050</td>\n",
       "      <td>E40000012</td>\n",
       "      <td>2021-12-01</td>\n",
       "      <td>16-20</td>\n",
       "      <td>730</td>\n",
       "      <td>16.0</td>\n",
       "      <td>20.0</td>\n",
       "      <td>18.0</td>\n",
       "      <td>13140.0</td>\n",
       "    </tr>\n",
       "    <tr>\n",
       "      <th>5</th>\n",
       "      <td>00L</td>\n",
       "      <td>E38000130</td>\n",
       "      <td>North East and North Cumbria - 00L</td>\n",
       "      <td>E54000050</td>\n",
       "      <td>E40000012</td>\n",
       "      <td>2021-12-01</td>\n",
       "      <td>11-15</td>\n",
       "      <td>1073</td>\n",
       "      <td>11.0</td>\n",
       "      <td>15.0</td>\n",
       "      <td>13.0</td>\n",
       "      <td>13949.0</td>\n",
       "    </tr>\n",
       "  </tbody>\n",
       "</table>\n",
       "</div>"
      ],
      "text/plain": [
       "  sub_icb_location_code sub_icb_location_ons_code  \\\n",
       "0                   00L                 E38000130   \n",
       "1                   00L                 E38000130   \n",
       "2                   00L                 E38000130   \n",
       "4                   00L                 E38000130   \n",
       "5                   00L                 E38000130   \n",
       "\n",
       "                 sub_icb_location_name icb_ons_code region_ons_code  \\\n",
       "0   North East and North Cumbria - 00L    E54000050       E40000012   \n",
       "1   North East and North Cumbria - 00L    E54000050       E40000012   \n",
       "2   North East and North Cumbria - 00L    E54000050       E40000012   \n",
       "4   North East and North Cumbria - 00L    E54000050       E40000012   \n",
       "5   North East and North Cumbria - 00L    E54000050       E40000012   \n",
       "\n",
       "  appointment_date actual_duration  count_of_appointments  appointment_start  \\\n",
       "0       2021-12-01          31-60                     364               31.0   \n",
       "1       2021-12-01          21-30                     619               21.0   \n",
       "2       2021-12-01           6-10                    1698                6.0   \n",
       "4       2021-12-01          16-20                     730               16.0   \n",
       "5       2021-12-01          11-15                    1073               11.0   \n",
       "\n",
       "   appointment_end  tag_actual_duration  daily_total_duration  \n",
       "0             60.0                 45.5               16562.0  \n",
       "1             30.0                 25.5               15784.5  \n",
       "2             10.0                  8.0               13584.0  \n",
       "4             20.0                 18.0               13140.0  \n",
       "5             15.0                 13.0               13949.0  "
      ]
     },
     "execution_count": 231,
     "metadata": {},
     "output_type": "execute_result"
    }
   ],
   "source": [
    "ad_subset.head()"
   ]
  },
  {
   "cell_type": "code",
   "execution_count": 294,
   "id": "f141854a",
   "metadata": {},
   "outputs": [
    {
     "data": {
      "text/html": [
       "<div>\n",
       "<style scoped>\n",
       "    .dataframe tbody tr th:only-of-type {\n",
       "        vertical-align: middle;\n",
       "    }\n",
       "\n",
       "    .dataframe tbody tr th {\n",
       "        vertical-align: top;\n",
       "    }\n",
       "\n",
       "    .dataframe thead th {\n",
       "        text-align: right;\n",
       "    }\n",
       "</style>\n",
       "<table border=\"1\" class=\"dataframe\">\n",
       "  <thead>\n",
       "    <tr style=\"text-align: right;\">\n",
       "      <th></th>\n",
       "      <th>sub_icb_location_code</th>\n",
       "      <th>sub_icb_location_ons_code</th>\n",
       "      <th>sub_icb_location_name</th>\n",
       "      <th>icb_ons_code</th>\n",
       "      <th>region_ons_code</th>\n",
       "      <th>appointment_date</th>\n",
       "      <th>actual_duration</th>\n",
       "      <th>count_of_appointments</th>\n",
       "      <th>appointment_start</th>\n",
       "      <th>appointment_end</th>\n",
       "      <th>tag_actual_duration</th>\n",
       "      <th>daily_total_duration</th>\n",
       "    </tr>\n",
       "  </thead>\n",
       "  <tbody>\n",
       "    <tr>\n",
       "      <th>0</th>\n",
       "      <td>00L</td>\n",
       "      <td>E38000130</td>\n",
       "      <td>North East and North Cumbria - 00L</td>\n",
       "      <td>E54000050</td>\n",
       "      <td>E40000012</td>\n",
       "      <td>2021-12-01</td>\n",
       "      <td>31-60</td>\n",
       "      <td>364</td>\n",
       "      <td>31.0</td>\n",
       "      <td>60.0</td>\n",
       "      <td>45.5</td>\n",
       "      <td>16562.0</td>\n",
       "    </tr>\n",
       "    <tr>\n",
       "      <th>1</th>\n",
       "      <td>00L</td>\n",
       "      <td>E38000130</td>\n",
       "      <td>North East and North Cumbria - 00L</td>\n",
       "      <td>E54000050</td>\n",
       "      <td>E40000012</td>\n",
       "      <td>2021-12-01</td>\n",
       "      <td>21-30</td>\n",
       "      <td>619</td>\n",
       "      <td>21.0</td>\n",
       "      <td>30.0</td>\n",
       "      <td>25.5</td>\n",
       "      <td>15784.5</td>\n",
       "    </tr>\n",
       "    <tr>\n",
       "      <th>2</th>\n",
       "      <td>00L</td>\n",
       "      <td>E38000130</td>\n",
       "      <td>North East and North Cumbria - 00L</td>\n",
       "      <td>E54000050</td>\n",
       "      <td>E40000012</td>\n",
       "      <td>2021-12-01</td>\n",
       "      <td>6-10</td>\n",
       "      <td>1698</td>\n",
       "      <td>6.0</td>\n",
       "      <td>10.0</td>\n",
       "      <td>8.0</td>\n",
       "      <td>13584.0</td>\n",
       "    </tr>\n",
       "    <tr>\n",
       "      <th>4</th>\n",
       "      <td>00L</td>\n",
       "      <td>E38000130</td>\n",
       "      <td>North East and North Cumbria - 00L</td>\n",
       "      <td>E54000050</td>\n",
       "      <td>E40000012</td>\n",
       "      <td>2021-12-01</td>\n",
       "      <td>16-20</td>\n",
       "      <td>730</td>\n",
       "      <td>16.0</td>\n",
       "      <td>20.0</td>\n",
       "      <td>18.0</td>\n",
       "      <td>13140.0</td>\n",
       "    </tr>\n",
       "    <tr>\n",
       "      <th>5</th>\n",
       "      <td>00L</td>\n",
       "      <td>E38000130</td>\n",
       "      <td>North East and North Cumbria - 00L</td>\n",
       "      <td>E54000050</td>\n",
       "      <td>E40000012</td>\n",
       "      <td>2021-12-01</td>\n",
       "      <td>11-15</td>\n",
       "      <td>1073</td>\n",
       "      <td>11.0</td>\n",
       "      <td>15.0</td>\n",
       "      <td>13.0</td>\n",
       "      <td>13949.0</td>\n",
       "    </tr>\n",
       "    <tr>\n",
       "      <th>...</th>\n",
       "      <td>...</td>\n",
       "      <td>...</td>\n",
       "      <td>...</td>\n",
       "      <td>...</td>\n",
       "      <td>...</td>\n",
       "      <td>...</td>\n",
       "      <td>...</td>\n",
       "      <td>...</td>\n",
       "      <td>...</td>\n",
       "      <td>...</td>\n",
       "      <td>...</td>\n",
       "      <td>...</td>\n",
       "    </tr>\n",
       "    <tr>\n",
       "      <th>121309</th>\n",
       "      <td>99C</td>\n",
       "      <td>E38000127</td>\n",
       "      <td>North East and North Cumbria - 99C</td>\n",
       "      <td>E54000050</td>\n",
       "      <td>E40000012</td>\n",
       "      <td>2022-06-30</td>\n",
       "      <td>6-10</td>\n",
       "      <td>722</td>\n",
       "      <td>6.0</td>\n",
       "      <td>10.0</td>\n",
       "      <td>8.0</td>\n",
       "      <td>5776.0</td>\n",
       "    </tr>\n",
       "    <tr>\n",
       "      <th>121310</th>\n",
       "      <td>99C</td>\n",
       "      <td>E38000127</td>\n",
       "      <td>North East and North Cumbria - 99C</td>\n",
       "      <td>E54000050</td>\n",
       "      <td>E40000012</td>\n",
       "      <td>2022-06-30</td>\n",
       "      <td>21-30</td>\n",
       "      <td>400</td>\n",
       "      <td>21.0</td>\n",
       "      <td>30.0</td>\n",
       "      <td>25.5</td>\n",
       "      <td>10200.0</td>\n",
       "    </tr>\n",
       "    <tr>\n",
       "      <th>121312</th>\n",
       "      <td>99C</td>\n",
       "      <td>E38000127</td>\n",
       "      <td>North East and North Cumbria - 99C</td>\n",
       "      <td>E54000050</td>\n",
       "      <td>E40000012</td>\n",
       "      <td>2022-06-30</td>\n",
       "      <td>31-60</td>\n",
       "      <td>191</td>\n",
       "      <td>31.0</td>\n",
       "      <td>60.0</td>\n",
       "      <td>45.5</td>\n",
       "      <td>8690.5</td>\n",
       "    </tr>\n",
       "    <tr>\n",
       "      <th>121313</th>\n",
       "      <td>99C</td>\n",
       "      <td>E38000127</td>\n",
       "      <td>North East and North Cumbria - 99C</td>\n",
       "      <td>E54000050</td>\n",
       "      <td>E40000012</td>\n",
       "      <td>2022-06-30</td>\n",
       "      <td>11-15</td>\n",
       "      <td>629</td>\n",
       "      <td>11.0</td>\n",
       "      <td>15.0</td>\n",
       "      <td>13.0</td>\n",
       "      <td>8177.0</td>\n",
       "    </tr>\n",
       "    <tr>\n",
       "      <th>121314</th>\n",
       "      <td>99C</td>\n",
       "      <td>E38000127</td>\n",
       "      <td>North East and North Cumbria - 99C</td>\n",
       "      <td>E54000050</td>\n",
       "      <td>E40000012</td>\n",
       "      <td>2022-06-30</td>\n",
       "      <td>16-20</td>\n",
       "      <td>445</td>\n",
       "      <td>16.0</td>\n",
       "      <td>20.0</td>\n",
       "      <td>18.0</td>\n",
       "      <td>8010.0</td>\n",
       "    </tr>\n",
       "  </tbody>\n",
       "</table>\n",
       "<p>8480 rows × 12 columns</p>\n",
       "</div>"
      ],
      "text/plain": [
       "       sub_icb_location_code sub_icb_location_ons_code  \\\n",
       "0                        00L                 E38000130   \n",
       "1                        00L                 E38000130   \n",
       "2                        00L                 E38000130   \n",
       "4                        00L                 E38000130   \n",
       "5                        00L                 E38000130   \n",
       "...                      ...                       ...   \n",
       "121309                   99C                 E38000127   \n",
       "121310                   99C                 E38000127   \n",
       "121312                   99C                 E38000127   \n",
       "121313                   99C                 E38000127   \n",
       "121314                   99C                 E38000127   \n",
       "\n",
       "                      sub_icb_location_name icb_ons_code region_ons_code  \\\n",
       "0        North East and North Cumbria - 00L    E54000050       E40000012   \n",
       "1        North East and North Cumbria - 00L    E54000050       E40000012   \n",
       "2        North East and North Cumbria - 00L    E54000050       E40000012   \n",
       "4        North East and North Cumbria - 00L    E54000050       E40000012   \n",
       "5        North East and North Cumbria - 00L    E54000050       E40000012   \n",
       "...                                     ...          ...             ...   \n",
       "121309   North East and North Cumbria - 99C    E54000050       E40000012   \n",
       "121310   North East and North Cumbria - 99C    E54000050       E40000012   \n",
       "121312   North East and North Cumbria - 99C    E54000050       E40000012   \n",
       "121313   North East and North Cumbria - 99C    E54000050       E40000012   \n",
       "121314   North East and North Cumbria - 99C    E54000050       E40000012   \n",
       "\n",
       "       appointment_date actual_duration  count_of_appointments  \\\n",
       "0            2021-12-01          31-60                     364   \n",
       "1            2021-12-01          21-30                     619   \n",
       "2            2021-12-01           6-10                    1698   \n",
       "4            2021-12-01          16-20                     730   \n",
       "5            2021-12-01          11-15                    1073   \n",
       "...                 ...             ...                    ...   \n",
       "121309       2022-06-30           6-10                     722   \n",
       "121310       2022-06-30          21-30                     400   \n",
       "121312       2022-06-30          31-60                     191   \n",
       "121313       2022-06-30          11-15                     629   \n",
       "121314       2022-06-30          16-20                     445   \n",
       "\n",
       "        appointment_start  appointment_end  tag_actual_duration  \\\n",
       "0                    31.0             60.0                 45.5   \n",
       "1                    21.0             30.0                 25.5   \n",
       "2                     6.0             10.0                  8.0   \n",
       "4                    16.0             20.0                 18.0   \n",
       "5                    11.0             15.0                 13.0   \n",
       "...                   ...              ...                  ...   \n",
       "121309                6.0             10.0                  8.0   \n",
       "121310               21.0             30.0                 25.5   \n",
       "121312               31.0             60.0                 45.5   \n",
       "121313               11.0             15.0                 13.0   \n",
       "121314               16.0             20.0                 18.0   \n",
       "\n",
       "        daily_total_duration  \n",
       "0                    16562.0  \n",
       "1                    15784.5  \n",
       "2                    13584.0  \n",
       "4                    13140.0  \n",
       "5                    13949.0  \n",
       "...                      ...  \n",
       "121309                5776.0  \n",
       "121310               10200.0  \n",
       "121312                8690.5  \n",
       "121313                8177.0  \n",
       "121314                8010.0  \n",
       "\n",
       "[8480 rows x 12 columns]"
      ]
     },
     "execution_count": 294,
     "metadata": {},
     "output_type": "execute_result"
    }
   ],
   "source": [
    "ad_subset[ad_subset[\"sub_icb_location_name\"].str.contains(\"North East and North Cumbria\")]"
   ]
  },
  {
   "cell_type": "code",
   "execution_count": 297,
   "id": "d99d0bb6",
   "metadata": {},
   "outputs": [
    {
     "data": {
      "text/plain": [
       "42"
      ]
     },
     "execution_count": 297,
     "metadata": {},
     "output_type": "execute_result"
    }
   ],
   "source": [
    "len(ad_subset[\"icb_ons_code\"].unique())"
   ]
  },
  {
   "cell_type": "code",
   "execution_count": 113,
   "id": "1b06378c",
   "metadata": {},
   "outputs": [
    {
     "name": "stderr",
     "output_type": "stream",
     "text": [
      "C:\\Users\\Kenneth Lo\\AppData\\Local\\Temp\\ipykernel_7380\\2972304305.py:3: SettingWithCopyWarning: \n",
      "A value is trying to be set on a copy of a slice from a DataFrame.\n",
      "Try using .loc[row_indexer,col_indexer] = value instead\n",
      "\n",
      "See the caveats in the documentation: https://pandas.pydata.org/pandas-docs/stable/user_guide/indexing.html#returning-a-view-versus-a-copy\n",
      "  ad_subset[\"daily_total_duration\"] = ad_subset[\"tag_actual_duration\"] * ad_subset[\"count_of_appointments\"]\n"
     ]
    },
    {
     "data": {
      "text/html": [
       "<div>\n",
       "<style scoped>\n",
       "    .dataframe tbody tr th:only-of-type {\n",
       "        vertical-align: middle;\n",
       "    }\n",
       "\n",
       "    .dataframe tbody tr th {\n",
       "        vertical-align: top;\n",
       "    }\n",
       "\n",
       "    .dataframe thead th {\n",
       "        text-align: right;\n",
       "    }\n",
       "</style>\n",
       "<table border=\"1\" class=\"dataframe\">\n",
       "  <thead>\n",
       "    <tr style=\"text-align: right;\">\n",
       "      <th></th>\n",
       "      <th>sub_icb_location_code</th>\n",
       "      <th>sub_icb_location_ons_code</th>\n",
       "      <th>sub_icb_location_name</th>\n",
       "      <th>icb_ons_code</th>\n",
       "      <th>region_ons_code</th>\n",
       "      <th>appointment_date</th>\n",
       "      <th>actual_duration</th>\n",
       "      <th>count_of_appointments</th>\n",
       "      <th>appointment_start</th>\n",
       "      <th>appointment_end</th>\n",
       "      <th>tag_actual_duration</th>\n",
       "      <th>daily_total_duration</th>\n",
       "    </tr>\n",
       "  </thead>\n",
       "  <tbody>\n",
       "    <tr>\n",
       "      <th>0</th>\n",
       "      <td>00L</td>\n",
       "      <td>E38000130</td>\n",
       "      <td>NHS North East and North Cumbria ICB - 00L</td>\n",
       "      <td>E54000050</td>\n",
       "      <td>E40000012</td>\n",
       "      <td>2021-12-01</td>\n",
       "      <td>31-60</td>\n",
       "      <td>364</td>\n",
       "      <td>31.0</td>\n",
       "      <td>60.0</td>\n",
       "      <td>45.5</td>\n",
       "      <td>16562.0</td>\n",
       "    </tr>\n",
       "    <tr>\n",
       "      <th>1</th>\n",
       "      <td>00L</td>\n",
       "      <td>E38000130</td>\n",
       "      <td>NHS North East and North Cumbria ICB - 00L</td>\n",
       "      <td>E54000050</td>\n",
       "      <td>E40000012</td>\n",
       "      <td>2021-12-01</td>\n",
       "      <td>21-30</td>\n",
       "      <td>619</td>\n",
       "      <td>21.0</td>\n",
       "      <td>30.0</td>\n",
       "      <td>25.5</td>\n",
       "      <td>15784.5</td>\n",
       "    </tr>\n",
       "    <tr>\n",
       "      <th>2</th>\n",
       "      <td>00L</td>\n",
       "      <td>E38000130</td>\n",
       "      <td>NHS North East and North Cumbria ICB - 00L</td>\n",
       "      <td>E54000050</td>\n",
       "      <td>E40000012</td>\n",
       "      <td>2021-12-01</td>\n",
       "      <td>6-10</td>\n",
       "      <td>1698</td>\n",
       "      <td>6.0</td>\n",
       "      <td>10.0</td>\n",
       "      <td>8.0</td>\n",
       "      <td>13584.0</td>\n",
       "    </tr>\n",
       "    <tr>\n",
       "      <th>4</th>\n",
       "      <td>00L</td>\n",
       "      <td>E38000130</td>\n",
       "      <td>NHS North East and North Cumbria ICB - 00L</td>\n",
       "      <td>E54000050</td>\n",
       "      <td>E40000012</td>\n",
       "      <td>2021-12-01</td>\n",
       "      <td>16-20</td>\n",
       "      <td>730</td>\n",
       "      <td>16.0</td>\n",
       "      <td>20.0</td>\n",
       "      <td>18.0</td>\n",
       "      <td>13140.0</td>\n",
       "    </tr>\n",
       "    <tr>\n",
       "      <th>5</th>\n",
       "      <td>00L</td>\n",
       "      <td>E38000130</td>\n",
       "      <td>NHS North East and North Cumbria ICB - 00L</td>\n",
       "      <td>E54000050</td>\n",
       "      <td>E40000012</td>\n",
       "      <td>2021-12-01</td>\n",
       "      <td>11-15</td>\n",
       "      <td>1073</td>\n",
       "      <td>11.0</td>\n",
       "      <td>15.0</td>\n",
       "      <td>13.0</td>\n",
       "      <td>13949.0</td>\n",
       "    </tr>\n",
       "  </tbody>\n",
       "</table>\n",
       "</div>"
      ],
      "text/plain": [
       "  sub_icb_location_code sub_icb_location_ons_code  \\\n",
       "0                   00L                 E38000130   \n",
       "1                   00L                 E38000130   \n",
       "2                   00L                 E38000130   \n",
       "4                   00L                 E38000130   \n",
       "5                   00L                 E38000130   \n",
       "\n",
       "                        sub_icb_location_name icb_ons_code region_ons_code  \\\n",
       "0  NHS North East and North Cumbria ICB - 00L    E54000050       E40000012   \n",
       "1  NHS North East and North Cumbria ICB - 00L    E54000050       E40000012   \n",
       "2  NHS North East and North Cumbria ICB - 00L    E54000050       E40000012   \n",
       "4  NHS North East and North Cumbria ICB - 00L    E54000050       E40000012   \n",
       "5  NHS North East and North Cumbria ICB - 00L    E54000050       E40000012   \n",
       "\n",
       "  appointment_date actual_duration  count_of_appointments  appointment_start  \\\n",
       "0       2021-12-01          31-60                     364               31.0   \n",
       "1       2021-12-01          21-30                     619               21.0   \n",
       "2       2021-12-01           6-10                    1698                6.0   \n",
       "4       2021-12-01          16-20                     730               16.0   \n",
       "5       2021-12-01          11-15                    1073               11.0   \n",
       "\n",
       "   appointment_end  tag_actual_duration  daily_total_duration  \n",
       "0             60.0                 45.5               16562.0  \n",
       "1             30.0                 25.5               15784.5  \n",
       "2             10.0                  8.0               13584.0  \n",
       "4             20.0                 18.0               13140.0  \n",
       "5             15.0                 13.0               13949.0  "
      ]
     },
     "execution_count": 113,
     "metadata": {},
     "output_type": "execute_result"
    }
   ],
   "source": [
    "# Now we can calculate the total estimate of resource for spent on appointment \n",
    "# for each center on each date\n",
    "ad_subset[\"daily_total_duration\"] = ad_subset[\"tag_actual_duration\"] * ad_subset[\"count_of_appointments\"]\n",
    "ad_subset.head()"
   ]
  },
  {
   "cell_type": "code",
   "execution_count": 119,
   "id": "fbac2a8b",
   "metadata": {},
   "outputs": [
    {
     "name": "stderr",
     "output_type": "stream",
     "text": [
      "C:\\Users\\Kenneth Lo\\AppData\\Local\\Temp\\ipykernel_7380\\2899100009.py:3: SettingWithCopyWarning: \n",
      "A value is trying to be set on a copy of a slice from a DataFrame.\n",
      "Try using .loc[row_indexer,col_indexer] = value instead\n",
      "\n",
      "See the caveats in the documentation: https://pandas.pydata.org/pandas-docs/stable/user_guide/indexing.html#returning-a-view-versus-a-copy\n",
      "  ad_subset['sub_icb_location_name'] = ad_subset['sub_icb_location_name'].str.replace('(NHS)|(ICB\\s)', \"\", regex=True)\n"
     ]
    },
    {
     "data": {
      "text/html": [
       "<div>\n",
       "<style scoped>\n",
       "    .dataframe tbody tr th:only-of-type {\n",
       "        vertical-align: middle;\n",
       "    }\n",
       "\n",
       "    .dataframe tbody tr th {\n",
       "        vertical-align: top;\n",
       "    }\n",
       "\n",
       "    .dataframe thead th {\n",
       "        text-align: right;\n",
       "    }\n",
       "</style>\n",
       "<table border=\"1\" class=\"dataframe\">\n",
       "  <thead>\n",
       "    <tr style=\"text-align: right;\">\n",
       "      <th></th>\n",
       "      <th>sub_icb_location_code</th>\n",
       "      <th>sub_icb_location_ons_code</th>\n",
       "      <th>sub_icb_location_name</th>\n",
       "      <th>icb_ons_code</th>\n",
       "      <th>region_ons_code</th>\n",
       "      <th>appointment_date</th>\n",
       "      <th>actual_duration</th>\n",
       "      <th>count_of_appointments</th>\n",
       "      <th>appointment_start</th>\n",
       "      <th>appointment_end</th>\n",
       "      <th>tag_actual_duration</th>\n",
       "      <th>daily_total_duration</th>\n",
       "    </tr>\n",
       "  </thead>\n",
       "  <tbody>\n",
       "    <tr>\n",
       "      <th>0</th>\n",
       "      <td>00L</td>\n",
       "      <td>E38000130</td>\n",
       "      <td>North East and North Cumbria - 00L</td>\n",
       "      <td>E54000050</td>\n",
       "      <td>E40000012</td>\n",
       "      <td>2021-12-01</td>\n",
       "      <td>31-60</td>\n",
       "      <td>364</td>\n",
       "      <td>31.0</td>\n",
       "      <td>60.0</td>\n",
       "      <td>45.5</td>\n",
       "      <td>16562.0</td>\n",
       "    </tr>\n",
       "    <tr>\n",
       "      <th>1</th>\n",
       "      <td>00L</td>\n",
       "      <td>E38000130</td>\n",
       "      <td>North East and North Cumbria - 00L</td>\n",
       "      <td>E54000050</td>\n",
       "      <td>E40000012</td>\n",
       "      <td>2021-12-01</td>\n",
       "      <td>21-30</td>\n",
       "      <td>619</td>\n",
       "      <td>21.0</td>\n",
       "      <td>30.0</td>\n",
       "      <td>25.5</td>\n",
       "      <td>15784.5</td>\n",
       "    </tr>\n",
       "    <tr>\n",
       "      <th>2</th>\n",
       "      <td>00L</td>\n",
       "      <td>E38000130</td>\n",
       "      <td>North East and North Cumbria - 00L</td>\n",
       "      <td>E54000050</td>\n",
       "      <td>E40000012</td>\n",
       "      <td>2021-12-01</td>\n",
       "      <td>6-10</td>\n",
       "      <td>1698</td>\n",
       "      <td>6.0</td>\n",
       "      <td>10.0</td>\n",
       "      <td>8.0</td>\n",
       "      <td>13584.0</td>\n",
       "    </tr>\n",
       "    <tr>\n",
       "      <th>4</th>\n",
       "      <td>00L</td>\n",
       "      <td>E38000130</td>\n",
       "      <td>North East and North Cumbria - 00L</td>\n",
       "      <td>E54000050</td>\n",
       "      <td>E40000012</td>\n",
       "      <td>2021-12-01</td>\n",
       "      <td>16-20</td>\n",
       "      <td>730</td>\n",
       "      <td>16.0</td>\n",
       "      <td>20.0</td>\n",
       "      <td>18.0</td>\n",
       "      <td>13140.0</td>\n",
       "    </tr>\n",
       "    <tr>\n",
       "      <th>5</th>\n",
       "      <td>00L</td>\n",
       "      <td>E38000130</td>\n",
       "      <td>North East and North Cumbria - 00L</td>\n",
       "      <td>E54000050</td>\n",
       "      <td>E40000012</td>\n",
       "      <td>2021-12-01</td>\n",
       "      <td>11-15</td>\n",
       "      <td>1073</td>\n",
       "      <td>11.0</td>\n",
       "      <td>15.0</td>\n",
       "      <td>13.0</td>\n",
       "      <td>13949.0</td>\n",
       "    </tr>\n",
       "  </tbody>\n",
       "</table>\n",
       "</div>"
      ],
      "text/plain": [
       "  sub_icb_location_code sub_icb_location_ons_code  \\\n",
       "0                   00L                 E38000130   \n",
       "1                   00L                 E38000130   \n",
       "2                   00L                 E38000130   \n",
       "4                   00L                 E38000130   \n",
       "5                   00L                 E38000130   \n",
       "\n",
       "                 sub_icb_location_name icb_ons_code region_ons_code  \\\n",
       "0   North East and North Cumbria - 00L    E54000050       E40000012   \n",
       "1   North East and North Cumbria - 00L    E54000050       E40000012   \n",
       "2   North East and North Cumbria - 00L    E54000050       E40000012   \n",
       "4   North East and North Cumbria - 00L    E54000050       E40000012   \n",
       "5   North East and North Cumbria - 00L    E54000050       E40000012   \n",
       "\n",
       "  appointment_date actual_duration  count_of_appointments  appointment_start  \\\n",
       "0       2021-12-01          31-60                     364               31.0   \n",
       "1       2021-12-01          21-30                     619               21.0   \n",
       "2       2021-12-01           6-10                    1698                6.0   \n",
       "4       2021-12-01          16-20                     730               16.0   \n",
       "5       2021-12-01          11-15                    1073               11.0   \n",
       "\n",
       "   appointment_end  tag_actual_duration  daily_total_duration  \n",
       "0             60.0                 45.5               16562.0  \n",
       "1             30.0                 25.5               15784.5  \n",
       "2             10.0                  8.0               13584.0  \n",
       "4             20.0                 18.0               13140.0  \n",
       "5             15.0                 13.0               13949.0  "
      ]
     },
     "execution_count": 119,
     "metadata": {},
     "output_type": "execute_result"
    }
   ],
   "source": [
    "# shortening the sub-icb location name for better readibility\n",
    "import re\n",
    "ad_subset['sub_icb_location_name'] = ad_subset['sub_icb_location_name'].str.replace('(NHS)|(ICB\\s)', \"\", regex=True)\n",
    "ad_subset.head()"
   ]
  },
  {
   "cell_type": "code",
   "execution_count": null,
   "id": "58727014",
   "metadata": {},
   "outputs": [],
   "source": []
  },
  {
   "cell_type": "code",
   "execution_count": null,
   "id": "34f17542",
   "metadata": {},
   "outputs": [],
   "source": []
  },
  {
   "cell_type": "code",
   "execution_count": null,
   "id": "edd69503",
   "metadata": {},
   "outputs": [],
   "source": []
  },
  {
   "cell_type": "code",
   "execution_count": null,
   "id": "1662295b",
   "metadata": {},
   "outputs": [],
   "source": []
  },
  {
   "cell_type": "code",
   "execution_count": 298,
   "id": "5e7a5eab",
   "metadata": {},
   "outputs": [],
   "source": [
    "ad_cleaned = pd.DataFrame(ad_subset, columns =\n",
    "                          ['icb_ons_code',\n",
    "                           'sub_icb_location_name',\n",
    "                           'appointment_date',\n",
    "                           'actual_duration',\n",
    "                           'daily_total_duration'])"
   ]
  },
  {
   "cell_type": "code",
   "execution_count": 299,
   "id": "a9fc0117",
   "metadata": {},
   "outputs": [],
   "source": [
    "ad_cleaned.set_index('appointment_date', drop=True, inplace=True)"
   ]
  },
  {
   "cell_type": "code",
   "execution_count": null,
   "id": "11b67392",
   "metadata": {},
   "outputs": [],
   "source": []
  },
  {
   "cell_type": "code",
   "execution_count": null,
   "id": "577eaa49",
   "metadata": {},
   "outputs": [],
   "source": []
  },
  {
   "cell_type": "code",
   "execution_count": null,
   "id": "a2fc4973",
   "metadata": {},
   "outputs": [],
   "source": []
  },
  {
   "cell_type": "code",
   "execution_count": 300,
   "id": "54ddf4fb",
   "metadata": {
    "scrolled": true
   },
   "outputs": [
    {
     "name": "stderr",
     "output_type": "stream",
     "text": [
      "C:\\Users\\Kenneth Lo\\AppData\\Local\\Temp\\ipykernel_7380\\2757272805.py:1: FutureWarning: The default value of numeric_only in DataFrameGroupBy.sum is deprecated. In a future version, numeric_only will default to False. Either specify numeric_only or select only columns which should be valid for the function.\n",
      "  regional_count = ad_cleaned.groupby(['icb_ons_code',\"actual_duration\"]).resample('M').sum()\n",
      "C:\\Users\\Kenneth Lo\\AppData\\Local\\Temp\\ipykernel_7380\\2757272805.py:1: FutureWarning: The default value of numeric_only in DataFrameGroupBy.sum is deprecated. In a future version, numeric_only will default to False. Either specify numeric_only or select only columns which should be valid for the function.\n",
      "  regional_count = ad_cleaned.groupby(['icb_ons_code',\"actual_duration\"]).resample('M').sum()\n",
      "C:\\Users\\Kenneth Lo\\AppData\\Local\\Temp\\ipykernel_7380\\2757272805.py:1: FutureWarning: The default value of numeric_only in DataFrameGroupBy.sum is deprecated. In a future version, numeric_only will default to False. Either specify numeric_only or select only columns which should be valid for the function.\n",
      "  regional_count = ad_cleaned.groupby(['icb_ons_code',\"actual_duration\"]).resample('M').sum()\n",
      "C:\\Users\\Kenneth Lo\\AppData\\Local\\Temp\\ipykernel_7380\\2757272805.py:1: FutureWarning: The default value of numeric_only in DataFrameGroupBy.sum is deprecated. In a future version, numeric_only will default to False. Either specify numeric_only or select only columns which should be valid for the function.\n",
      "  regional_count = ad_cleaned.groupby(['icb_ons_code',\"actual_duration\"]).resample('M').sum()\n",
      "C:\\Users\\Kenneth Lo\\AppData\\Local\\Temp\\ipykernel_7380\\2757272805.py:1: FutureWarning: The default value of numeric_only in DataFrameGroupBy.sum is deprecated. In a future version, numeric_only will default to False. Either specify numeric_only or select only columns which should be valid for the function.\n",
      "  regional_count = ad_cleaned.groupby(['icb_ons_code',\"actual_duration\"]).resample('M').sum()\n",
      "C:\\Users\\Kenneth Lo\\AppData\\Local\\Temp\\ipykernel_7380\\2757272805.py:1: FutureWarning: The default value of numeric_only in DataFrameGroupBy.sum is deprecated. In a future version, numeric_only will default to False. Either specify numeric_only or select only columns which should be valid for the function.\n",
      "  regional_count = ad_cleaned.groupby(['icb_ons_code',\"actual_duration\"]).resample('M').sum()\n",
      "C:\\Users\\Kenneth Lo\\AppData\\Local\\Temp\\ipykernel_7380\\2757272805.py:1: FutureWarning: The default value of numeric_only in DataFrameGroupBy.sum is deprecated. In a future version, numeric_only will default to False. Either specify numeric_only or select only columns which should be valid for the function.\n",
      "  regional_count = ad_cleaned.groupby(['icb_ons_code',\"actual_duration\"]).resample('M').sum()\n",
      "C:\\Users\\Kenneth Lo\\AppData\\Local\\Temp\\ipykernel_7380\\2757272805.py:1: FutureWarning: The default value of numeric_only in DataFrameGroupBy.sum is deprecated. In a future version, numeric_only will default to False. Either specify numeric_only or select only columns which should be valid for the function.\n",
      "  regional_count = ad_cleaned.groupby(['icb_ons_code',\"actual_duration\"]).resample('M').sum()\n",
      "C:\\Users\\Kenneth Lo\\AppData\\Local\\Temp\\ipykernel_7380\\2757272805.py:1: FutureWarning: The default value of numeric_only in DataFrameGroupBy.sum is deprecated. In a future version, numeric_only will default to False. Either specify numeric_only or select only columns which should be valid for the function.\n",
      "  regional_count = ad_cleaned.groupby(['icb_ons_code',\"actual_duration\"]).resample('M').sum()\n",
      "C:\\Users\\Kenneth Lo\\AppData\\Local\\Temp\\ipykernel_7380\\2757272805.py:1: FutureWarning: The default value of numeric_only in DataFrameGroupBy.sum is deprecated. In a future version, numeric_only will default to False. Either specify numeric_only or select only columns which should be valid for the function.\n",
      "  regional_count = ad_cleaned.groupby(['icb_ons_code',\"actual_duration\"]).resample('M').sum()\n",
      "C:\\Users\\Kenneth Lo\\AppData\\Local\\Temp\\ipykernel_7380\\2757272805.py:1: FutureWarning: The default value of numeric_only in DataFrameGroupBy.sum is deprecated. In a future version, numeric_only will default to False. Either specify numeric_only or select only columns which should be valid for the function.\n",
      "  regional_count = ad_cleaned.groupby(['icb_ons_code',\"actual_duration\"]).resample('M').sum()\n",
      "C:\\Users\\Kenneth Lo\\AppData\\Local\\Temp\\ipykernel_7380\\2757272805.py:1: FutureWarning: The default value of numeric_only in DataFrameGroupBy.sum is deprecated. In a future version, numeric_only will default to False. Either specify numeric_only or select only columns which should be valid for the function.\n",
      "  regional_count = ad_cleaned.groupby(['icb_ons_code',\"actual_duration\"]).resample('M').sum()\n",
      "C:\\Users\\Kenneth Lo\\AppData\\Local\\Temp\\ipykernel_7380\\2757272805.py:1: FutureWarning: The default value of numeric_only in DataFrameGroupBy.sum is deprecated. In a future version, numeric_only will default to False. Either specify numeric_only or select only columns which should be valid for the function.\n",
      "  regional_count = ad_cleaned.groupby(['icb_ons_code',\"actual_duration\"]).resample('M').sum()\n",
      "C:\\Users\\Kenneth Lo\\AppData\\Local\\Temp\\ipykernel_7380\\2757272805.py:1: FutureWarning: The default value of numeric_only in DataFrameGroupBy.sum is deprecated. In a future version, numeric_only will default to False. Either specify numeric_only or select only columns which should be valid for the function.\n",
      "  regional_count = ad_cleaned.groupby(['icb_ons_code',\"actual_duration\"]).resample('M').sum()\n",
      "C:\\Users\\Kenneth Lo\\AppData\\Local\\Temp\\ipykernel_7380\\2757272805.py:1: FutureWarning: The default value of numeric_only in DataFrameGroupBy.sum is deprecated. In a future version, numeric_only will default to False. Either specify numeric_only or select only columns which should be valid for the function.\n",
      "  regional_count = ad_cleaned.groupby(['icb_ons_code',\"actual_duration\"]).resample('M').sum()\n",
      "C:\\Users\\Kenneth Lo\\AppData\\Local\\Temp\\ipykernel_7380\\2757272805.py:1: FutureWarning: The default value of numeric_only in DataFrameGroupBy.sum is deprecated. In a future version, numeric_only will default to False. Either specify numeric_only or select only columns which should be valid for the function.\n",
      "  regional_count = ad_cleaned.groupby(['icb_ons_code',\"actual_duration\"]).resample('M').sum()\n",
      "C:\\Users\\Kenneth Lo\\AppData\\Local\\Temp\\ipykernel_7380\\2757272805.py:1: FutureWarning: The default value of numeric_only in DataFrameGroupBy.sum is deprecated. In a future version, numeric_only will default to False. Either specify numeric_only or select only columns which should be valid for the function.\n",
      "  regional_count = ad_cleaned.groupby(['icb_ons_code',\"actual_duration\"]).resample('M').sum()\n",
      "C:\\Users\\Kenneth Lo\\AppData\\Local\\Temp\\ipykernel_7380\\2757272805.py:1: FutureWarning: The default value of numeric_only in DataFrameGroupBy.sum is deprecated. In a future version, numeric_only will default to False. Either specify numeric_only or select only columns which should be valid for the function.\n",
      "  regional_count = ad_cleaned.groupby(['icb_ons_code',\"actual_duration\"]).resample('M').sum()\n",
      "C:\\Users\\Kenneth Lo\\AppData\\Local\\Temp\\ipykernel_7380\\2757272805.py:1: FutureWarning: The default value of numeric_only in DataFrameGroupBy.sum is deprecated. In a future version, numeric_only will default to False. Either specify numeric_only or select only columns which should be valid for the function.\n",
      "  regional_count = ad_cleaned.groupby(['icb_ons_code',\"actual_duration\"]).resample('M').sum()\n",
      "C:\\Users\\Kenneth Lo\\AppData\\Local\\Temp\\ipykernel_7380\\2757272805.py:1: FutureWarning: The default value of numeric_only in DataFrameGroupBy.sum is deprecated. In a future version, numeric_only will default to False. Either specify numeric_only or select only columns which should be valid for the function.\n",
      "  regional_count = ad_cleaned.groupby(['icb_ons_code',\"actual_duration\"]).resample('M').sum()\n",
      "C:\\Users\\Kenneth Lo\\AppData\\Local\\Temp\\ipykernel_7380\\2757272805.py:1: FutureWarning: The default value of numeric_only in DataFrameGroupBy.sum is deprecated. In a future version, numeric_only will default to False. Either specify numeric_only or select only columns which should be valid for the function.\n",
      "  regional_count = ad_cleaned.groupby(['icb_ons_code',\"actual_duration\"]).resample('M').sum()\n",
      "C:\\Users\\Kenneth Lo\\AppData\\Local\\Temp\\ipykernel_7380\\2757272805.py:1: FutureWarning: The default value of numeric_only in DataFrameGroupBy.sum is deprecated. In a future version, numeric_only will default to False. Either specify numeric_only or select only columns which should be valid for the function.\n",
      "  regional_count = ad_cleaned.groupby(['icb_ons_code',\"actual_duration\"]).resample('M').sum()\n",
      "C:\\Users\\Kenneth Lo\\AppData\\Local\\Temp\\ipykernel_7380\\2757272805.py:1: FutureWarning: The default value of numeric_only in DataFrameGroupBy.sum is deprecated. In a future version, numeric_only will default to False. Either specify numeric_only or select only columns which should be valid for the function.\n",
      "  regional_count = ad_cleaned.groupby(['icb_ons_code',\"actual_duration\"]).resample('M').sum()\n",
      "C:\\Users\\Kenneth Lo\\AppData\\Local\\Temp\\ipykernel_7380\\2757272805.py:1: FutureWarning: The default value of numeric_only in DataFrameGroupBy.sum is deprecated. In a future version, numeric_only will default to False. Either specify numeric_only or select only columns which should be valid for the function.\n",
      "  regional_count = ad_cleaned.groupby(['icb_ons_code',\"actual_duration\"]).resample('M').sum()\n",
      "C:\\Users\\Kenneth Lo\\AppData\\Local\\Temp\\ipykernel_7380\\2757272805.py:1: FutureWarning: The default value of numeric_only in DataFrameGroupBy.sum is deprecated. In a future version, numeric_only will default to False. Either specify numeric_only or select only columns which should be valid for the function.\n",
      "  regional_count = ad_cleaned.groupby(['icb_ons_code',\"actual_duration\"]).resample('M').sum()\n",
      "C:\\Users\\Kenneth Lo\\AppData\\Local\\Temp\\ipykernel_7380\\2757272805.py:1: FutureWarning: The default value of numeric_only in DataFrameGroupBy.sum is deprecated. In a future version, numeric_only will default to False. Either specify numeric_only or select only columns which should be valid for the function.\n",
      "  regional_count = ad_cleaned.groupby(['icb_ons_code',\"actual_duration\"]).resample('M').sum()\n",
      "C:\\Users\\Kenneth Lo\\AppData\\Local\\Temp\\ipykernel_7380\\2757272805.py:1: FutureWarning: The default value of numeric_only in DataFrameGroupBy.sum is deprecated. In a future version, numeric_only will default to False. Either specify numeric_only or select only columns which should be valid for the function.\n",
      "  regional_count = ad_cleaned.groupby(['icb_ons_code',\"actual_duration\"]).resample('M').sum()\n",
      "C:\\Users\\Kenneth Lo\\AppData\\Local\\Temp\\ipykernel_7380\\2757272805.py:1: FutureWarning: The default value of numeric_only in DataFrameGroupBy.sum is deprecated. In a future version, numeric_only will default to False. Either specify numeric_only or select only columns which should be valid for the function.\n",
      "  regional_count = ad_cleaned.groupby(['icb_ons_code',\"actual_duration\"]).resample('M').sum()\n",
      "C:\\Users\\Kenneth Lo\\AppData\\Local\\Temp\\ipykernel_7380\\2757272805.py:1: FutureWarning: The default value of numeric_only in DataFrameGroupBy.sum is deprecated. In a future version, numeric_only will default to False. Either specify numeric_only or select only columns which should be valid for the function.\n",
      "  regional_count = ad_cleaned.groupby(['icb_ons_code',\"actual_duration\"]).resample('M').sum()\n",
      "C:\\Users\\Kenneth Lo\\AppData\\Local\\Temp\\ipykernel_7380\\2757272805.py:1: FutureWarning: The default value of numeric_only in DataFrameGroupBy.sum is deprecated. In a future version, numeric_only will default to False. Either specify numeric_only or select only columns which should be valid for the function.\n",
      "  regional_count = ad_cleaned.groupby(['icb_ons_code',\"actual_duration\"]).resample('M').sum()\n",
      "C:\\Users\\Kenneth Lo\\AppData\\Local\\Temp\\ipykernel_7380\\2757272805.py:1: FutureWarning: The default value of numeric_only in DataFrameGroupBy.sum is deprecated. In a future version, numeric_only will default to False. Either specify numeric_only or select only columns which should be valid for the function.\n",
      "  regional_count = ad_cleaned.groupby(['icb_ons_code',\"actual_duration\"]).resample('M').sum()\n",
      "C:\\Users\\Kenneth Lo\\AppData\\Local\\Temp\\ipykernel_7380\\2757272805.py:1: FutureWarning: The default value of numeric_only in DataFrameGroupBy.sum is deprecated. In a future version, numeric_only will default to False. Either specify numeric_only or select only columns which should be valid for the function.\n",
      "  regional_count = ad_cleaned.groupby(['icb_ons_code',\"actual_duration\"]).resample('M').sum()\n",
      "C:\\Users\\Kenneth Lo\\AppData\\Local\\Temp\\ipykernel_7380\\2757272805.py:1: FutureWarning: The default value of numeric_only in DataFrameGroupBy.sum is deprecated. In a future version, numeric_only will default to False. Either specify numeric_only or select only columns which should be valid for the function.\n",
      "  regional_count = ad_cleaned.groupby(['icb_ons_code',\"actual_duration\"]).resample('M').sum()\n",
      "C:\\Users\\Kenneth Lo\\AppData\\Local\\Temp\\ipykernel_7380\\2757272805.py:1: FutureWarning: The default value of numeric_only in DataFrameGroupBy.sum is deprecated. In a future version, numeric_only will default to False. Either specify numeric_only or select only columns which should be valid for the function.\n",
      "  regional_count = ad_cleaned.groupby(['icb_ons_code',\"actual_duration\"]).resample('M').sum()\n",
      "C:\\Users\\Kenneth Lo\\AppData\\Local\\Temp\\ipykernel_7380\\2757272805.py:1: FutureWarning: The default value of numeric_only in DataFrameGroupBy.sum is deprecated. In a future version, numeric_only will default to False. Either specify numeric_only or select only columns which should be valid for the function.\n",
      "  regional_count = ad_cleaned.groupby(['icb_ons_code',\"actual_duration\"]).resample('M').sum()\n",
      "C:\\Users\\Kenneth Lo\\AppData\\Local\\Temp\\ipykernel_7380\\2757272805.py:1: FutureWarning: The default value of numeric_only in DataFrameGroupBy.sum is deprecated. In a future version, numeric_only will default to False. Either specify numeric_only or select only columns which should be valid for the function.\n",
      "  regional_count = ad_cleaned.groupby(['icb_ons_code',\"actual_duration\"]).resample('M').sum()\n",
      "C:\\Users\\Kenneth Lo\\AppData\\Local\\Temp\\ipykernel_7380\\2757272805.py:1: FutureWarning: The default value of numeric_only in DataFrameGroupBy.sum is deprecated. In a future version, numeric_only will default to False. Either specify numeric_only or select only columns which should be valid for the function.\n",
      "  regional_count = ad_cleaned.groupby(['icb_ons_code',\"actual_duration\"]).resample('M').sum()\n",
      "C:\\Users\\Kenneth Lo\\AppData\\Local\\Temp\\ipykernel_7380\\2757272805.py:1: FutureWarning: The default value of numeric_only in DataFrameGroupBy.sum is deprecated. In a future version, numeric_only will default to False. Either specify numeric_only or select only columns which should be valid for the function.\n",
      "  regional_count = ad_cleaned.groupby(['icb_ons_code',\"actual_duration\"]).resample('M').sum()\n",
      "C:\\Users\\Kenneth Lo\\AppData\\Local\\Temp\\ipykernel_7380\\2757272805.py:1: FutureWarning: The default value of numeric_only in DataFrameGroupBy.sum is deprecated. In a future version, numeric_only will default to False. Either specify numeric_only or select only columns which should be valid for the function.\n",
      "  regional_count = ad_cleaned.groupby(['icb_ons_code',\"actual_duration\"]).resample('M').sum()\n",
      "C:\\Users\\Kenneth Lo\\AppData\\Local\\Temp\\ipykernel_7380\\2757272805.py:1: FutureWarning: The default value of numeric_only in DataFrameGroupBy.sum is deprecated. In a future version, numeric_only will default to False. Either specify numeric_only or select only columns which should be valid for the function.\n",
      "  regional_count = ad_cleaned.groupby(['icb_ons_code',\"actual_duration\"]).resample('M').sum()\n",
      "C:\\Users\\Kenneth Lo\\AppData\\Local\\Temp\\ipykernel_7380\\2757272805.py:1: FutureWarning: The default value of numeric_only in DataFrameGroupBy.sum is deprecated. In a future version, numeric_only will default to False. Either specify numeric_only or select only columns which should be valid for the function.\n",
      "  regional_count = ad_cleaned.groupby(['icb_ons_code',\"actual_duration\"]).resample('M').sum()\n",
      "C:\\Users\\Kenneth Lo\\AppData\\Local\\Temp\\ipykernel_7380\\2757272805.py:1: FutureWarning: The default value of numeric_only in DataFrameGroupBy.sum is deprecated. In a future version, numeric_only will default to False. Either specify numeric_only or select only columns which should be valid for the function.\n",
      "  regional_count = ad_cleaned.groupby(['icb_ons_code',\"actual_duration\"]).resample('M').sum()\n",
      "C:\\Users\\Kenneth Lo\\AppData\\Local\\Temp\\ipykernel_7380\\2757272805.py:1: FutureWarning: The default value of numeric_only in DataFrameGroupBy.sum is deprecated. In a future version, numeric_only will default to False. Either specify numeric_only or select only columns which should be valid for the function.\n",
      "  regional_count = ad_cleaned.groupby(['icb_ons_code',\"actual_duration\"]).resample('M').sum()\n",
      "C:\\Users\\Kenneth Lo\\AppData\\Local\\Temp\\ipykernel_7380\\2757272805.py:1: FutureWarning: The default value of numeric_only in DataFrameGroupBy.sum is deprecated. In a future version, numeric_only will default to False. Either specify numeric_only or select only columns which should be valid for the function.\n",
      "  regional_count = ad_cleaned.groupby(['icb_ons_code',\"actual_duration\"]).resample('M').sum()\n",
      "C:\\Users\\Kenneth Lo\\AppData\\Local\\Temp\\ipykernel_7380\\2757272805.py:1: FutureWarning: The default value of numeric_only in DataFrameGroupBy.sum is deprecated. In a future version, numeric_only will default to False. Either specify numeric_only or select only columns which should be valid for the function.\n",
      "  regional_count = ad_cleaned.groupby(['icb_ons_code',\"actual_duration\"]).resample('M').sum()\n",
      "C:\\Users\\Kenneth Lo\\AppData\\Local\\Temp\\ipykernel_7380\\2757272805.py:1: FutureWarning: The default value of numeric_only in DataFrameGroupBy.sum is deprecated. In a future version, numeric_only will default to False. Either specify numeric_only or select only columns which should be valid for the function.\n",
      "  regional_count = ad_cleaned.groupby(['icb_ons_code',\"actual_duration\"]).resample('M').sum()\n",
      "C:\\Users\\Kenneth Lo\\AppData\\Local\\Temp\\ipykernel_7380\\2757272805.py:1: FutureWarning: The default value of numeric_only in DataFrameGroupBy.sum is deprecated. In a future version, numeric_only will default to False. Either specify numeric_only or select only columns which should be valid for the function.\n",
      "  regional_count = ad_cleaned.groupby(['icb_ons_code',\"actual_duration\"]).resample('M').sum()\n",
      "C:\\Users\\Kenneth Lo\\AppData\\Local\\Temp\\ipykernel_7380\\2757272805.py:1: FutureWarning: The default value of numeric_only in DataFrameGroupBy.sum is deprecated. In a future version, numeric_only will default to False. Either specify numeric_only or select only columns which should be valid for the function.\n",
      "  regional_count = ad_cleaned.groupby(['icb_ons_code',\"actual_duration\"]).resample('M').sum()\n",
      "C:\\Users\\Kenneth Lo\\AppData\\Local\\Temp\\ipykernel_7380\\2757272805.py:1: FutureWarning: The default value of numeric_only in DataFrameGroupBy.sum is deprecated. In a future version, numeric_only will default to False. Either specify numeric_only or select only columns which should be valid for the function.\n",
      "  regional_count = ad_cleaned.groupby(['icb_ons_code',\"actual_duration\"]).resample('M').sum()\n",
      "C:\\Users\\Kenneth Lo\\AppData\\Local\\Temp\\ipykernel_7380\\2757272805.py:1: FutureWarning: The default value of numeric_only in DataFrameGroupBy.sum is deprecated. In a future version, numeric_only will default to False. Either specify numeric_only or select only columns which should be valid for the function.\n",
      "  regional_count = ad_cleaned.groupby(['icb_ons_code',\"actual_duration\"]).resample('M').sum()\n",
      "C:\\Users\\Kenneth Lo\\AppData\\Local\\Temp\\ipykernel_7380\\2757272805.py:1: FutureWarning: The default value of numeric_only in DataFrameGroupBy.sum is deprecated. In a future version, numeric_only will default to False. Either specify numeric_only or select only columns which should be valid for the function.\n",
      "  regional_count = ad_cleaned.groupby(['icb_ons_code',\"actual_duration\"]).resample('M').sum()\n",
      "C:\\Users\\Kenneth Lo\\AppData\\Local\\Temp\\ipykernel_7380\\2757272805.py:1: FutureWarning: The default value of numeric_only in DataFrameGroupBy.sum is deprecated. In a future version, numeric_only will default to False. Either specify numeric_only or select only columns which should be valid for the function.\n",
      "  regional_count = ad_cleaned.groupby(['icb_ons_code',\"actual_duration\"]).resample('M').sum()\n",
      "C:\\Users\\Kenneth Lo\\AppData\\Local\\Temp\\ipykernel_7380\\2757272805.py:1: FutureWarning: The default value of numeric_only in DataFrameGroupBy.sum is deprecated. In a future version, numeric_only will default to False. Either specify numeric_only or select only columns which should be valid for the function.\n",
      "  regional_count = ad_cleaned.groupby(['icb_ons_code',\"actual_duration\"]).resample('M').sum()\n",
      "C:\\Users\\Kenneth Lo\\AppData\\Local\\Temp\\ipykernel_7380\\2757272805.py:1: FutureWarning: The default value of numeric_only in DataFrameGroupBy.sum is deprecated. In a future version, numeric_only will default to False. Either specify numeric_only or select only columns which should be valid for the function.\n",
      "  regional_count = ad_cleaned.groupby(['icb_ons_code',\"actual_duration\"]).resample('M').sum()\n",
      "C:\\Users\\Kenneth Lo\\AppData\\Local\\Temp\\ipykernel_7380\\2757272805.py:1: FutureWarning: The default value of numeric_only in DataFrameGroupBy.sum is deprecated. In a future version, numeric_only will default to False. Either specify numeric_only or select only columns which should be valid for the function.\n",
      "  regional_count = ad_cleaned.groupby(['icb_ons_code',\"actual_duration\"]).resample('M').sum()\n",
      "C:\\Users\\Kenneth Lo\\AppData\\Local\\Temp\\ipykernel_7380\\2757272805.py:1: FutureWarning: The default value of numeric_only in DataFrameGroupBy.sum is deprecated. In a future version, numeric_only will default to False. Either specify numeric_only or select only columns which should be valid for the function.\n",
      "  regional_count = ad_cleaned.groupby(['icb_ons_code',\"actual_duration\"]).resample('M').sum()\n",
      "C:\\Users\\Kenneth Lo\\AppData\\Local\\Temp\\ipykernel_7380\\2757272805.py:1: FutureWarning: The default value of numeric_only in DataFrameGroupBy.sum is deprecated. In a future version, numeric_only will default to False. Either specify numeric_only or select only columns which should be valid for the function.\n",
      "  regional_count = ad_cleaned.groupby(['icb_ons_code',\"actual_duration\"]).resample('M').sum()\n",
      "C:\\Users\\Kenneth Lo\\AppData\\Local\\Temp\\ipykernel_7380\\2757272805.py:1: FutureWarning: The default value of numeric_only in DataFrameGroupBy.sum is deprecated. In a future version, numeric_only will default to False. Either specify numeric_only or select only columns which should be valid for the function.\n",
      "  regional_count = ad_cleaned.groupby(['icb_ons_code',\"actual_duration\"]).resample('M').sum()\n",
      "C:\\Users\\Kenneth Lo\\AppData\\Local\\Temp\\ipykernel_7380\\2757272805.py:1: FutureWarning: The default value of numeric_only in DataFrameGroupBy.sum is deprecated. In a future version, numeric_only will default to False. Either specify numeric_only or select only columns which should be valid for the function.\n",
      "  regional_count = ad_cleaned.groupby(['icb_ons_code',\"actual_duration\"]).resample('M').sum()\n",
      "C:\\Users\\Kenneth Lo\\AppData\\Local\\Temp\\ipykernel_7380\\2757272805.py:1: FutureWarning: The default value of numeric_only in DataFrameGroupBy.sum is deprecated. In a future version, numeric_only will default to False. Either specify numeric_only or select only columns which should be valid for the function.\n",
      "  regional_count = ad_cleaned.groupby(['icb_ons_code',\"actual_duration\"]).resample('M').sum()\n",
      "C:\\Users\\Kenneth Lo\\AppData\\Local\\Temp\\ipykernel_7380\\2757272805.py:1: FutureWarning: The default value of numeric_only in DataFrameGroupBy.sum is deprecated. In a future version, numeric_only will default to False. Either specify numeric_only or select only columns which should be valid for the function.\n",
      "  regional_count = ad_cleaned.groupby(['icb_ons_code',\"actual_duration\"]).resample('M').sum()\n",
      "C:\\Users\\Kenneth Lo\\AppData\\Local\\Temp\\ipykernel_7380\\2757272805.py:1: FutureWarning: The default value of numeric_only in DataFrameGroupBy.sum is deprecated. In a future version, numeric_only will default to False. Either specify numeric_only or select only columns which should be valid for the function.\n",
      "  regional_count = ad_cleaned.groupby(['icb_ons_code',\"actual_duration\"]).resample('M').sum()\n",
      "C:\\Users\\Kenneth Lo\\AppData\\Local\\Temp\\ipykernel_7380\\2757272805.py:1: FutureWarning: The default value of numeric_only in DataFrameGroupBy.sum is deprecated. In a future version, numeric_only will default to False. Either specify numeric_only or select only columns which should be valid for the function.\n",
      "  regional_count = ad_cleaned.groupby(['icb_ons_code',\"actual_duration\"]).resample('M').sum()\n",
      "C:\\Users\\Kenneth Lo\\AppData\\Local\\Temp\\ipykernel_7380\\2757272805.py:1: FutureWarning: The default value of numeric_only in DataFrameGroupBy.sum is deprecated. In a future version, numeric_only will default to False. Either specify numeric_only or select only columns which should be valid for the function.\n",
      "  regional_count = ad_cleaned.groupby(['icb_ons_code',\"actual_duration\"]).resample('M').sum()\n",
      "C:\\Users\\Kenneth Lo\\AppData\\Local\\Temp\\ipykernel_7380\\2757272805.py:1: FutureWarning: The default value of numeric_only in DataFrameGroupBy.sum is deprecated. In a future version, numeric_only will default to False. Either specify numeric_only or select only columns which should be valid for the function.\n",
      "  regional_count = ad_cleaned.groupby(['icb_ons_code',\"actual_duration\"]).resample('M').sum()\n",
      "C:\\Users\\Kenneth Lo\\AppData\\Local\\Temp\\ipykernel_7380\\2757272805.py:1: FutureWarning: The default value of numeric_only in DataFrameGroupBy.sum is deprecated. In a future version, numeric_only will default to False. Either specify numeric_only or select only columns which should be valid for the function.\n",
      "  regional_count = ad_cleaned.groupby(['icb_ons_code',\"actual_duration\"]).resample('M').sum()\n",
      "C:\\Users\\Kenneth Lo\\AppData\\Local\\Temp\\ipykernel_7380\\2757272805.py:1: FutureWarning: The default value of numeric_only in DataFrameGroupBy.sum is deprecated. In a future version, numeric_only will default to False. Either specify numeric_only or select only columns which should be valid for the function.\n",
      "  regional_count = ad_cleaned.groupby(['icb_ons_code',\"actual_duration\"]).resample('M').sum()\n",
      "C:\\Users\\Kenneth Lo\\AppData\\Local\\Temp\\ipykernel_7380\\2757272805.py:1: FutureWarning: The default value of numeric_only in DataFrameGroupBy.sum is deprecated. In a future version, numeric_only will default to False. Either specify numeric_only or select only columns which should be valid for the function.\n",
      "  regional_count = ad_cleaned.groupby(['icb_ons_code',\"actual_duration\"]).resample('M').sum()\n",
      "C:\\Users\\Kenneth Lo\\AppData\\Local\\Temp\\ipykernel_7380\\2757272805.py:1: FutureWarning: The default value of numeric_only in DataFrameGroupBy.sum is deprecated. In a future version, numeric_only will default to False. Either specify numeric_only or select only columns which should be valid for the function.\n",
      "  regional_count = ad_cleaned.groupby(['icb_ons_code',\"actual_duration\"]).resample('M').sum()\n",
      "C:\\Users\\Kenneth Lo\\AppData\\Local\\Temp\\ipykernel_7380\\2757272805.py:1: FutureWarning: The default value of numeric_only in DataFrameGroupBy.sum is deprecated. In a future version, numeric_only will default to False. Either specify numeric_only or select only columns which should be valid for the function.\n",
      "  regional_count = ad_cleaned.groupby(['icb_ons_code',\"actual_duration\"]).resample('M').sum()\n",
      "C:\\Users\\Kenneth Lo\\AppData\\Local\\Temp\\ipykernel_7380\\2757272805.py:1: FutureWarning: The default value of numeric_only in DataFrameGroupBy.sum is deprecated. In a future version, numeric_only will default to False. Either specify numeric_only or select only columns which should be valid for the function.\n",
      "  regional_count = ad_cleaned.groupby(['icb_ons_code',\"actual_duration\"]).resample('M').sum()\n",
      "C:\\Users\\Kenneth Lo\\AppData\\Local\\Temp\\ipykernel_7380\\2757272805.py:1: FutureWarning: The default value of numeric_only in DataFrameGroupBy.sum is deprecated. In a future version, numeric_only will default to False. Either specify numeric_only or select only columns which should be valid for the function.\n",
      "  regional_count = ad_cleaned.groupby(['icb_ons_code',\"actual_duration\"]).resample('M').sum()\n",
      "C:\\Users\\Kenneth Lo\\AppData\\Local\\Temp\\ipykernel_7380\\2757272805.py:1: FutureWarning: The default value of numeric_only in DataFrameGroupBy.sum is deprecated. In a future version, numeric_only will default to False. Either specify numeric_only or select only columns which should be valid for the function.\n",
      "  regional_count = ad_cleaned.groupby(['icb_ons_code',\"actual_duration\"]).resample('M').sum()\n",
      "C:\\Users\\Kenneth Lo\\AppData\\Local\\Temp\\ipykernel_7380\\2757272805.py:1: FutureWarning: The default value of numeric_only in DataFrameGroupBy.sum is deprecated. In a future version, numeric_only will default to False. Either specify numeric_only or select only columns which should be valid for the function.\n",
      "  regional_count = ad_cleaned.groupby(['icb_ons_code',\"actual_duration\"]).resample('M').sum()\n",
      "C:\\Users\\Kenneth Lo\\AppData\\Local\\Temp\\ipykernel_7380\\2757272805.py:1: FutureWarning: The default value of numeric_only in DataFrameGroupBy.sum is deprecated. In a future version, numeric_only will default to False. Either specify numeric_only or select only columns which should be valid for the function.\n",
      "  regional_count = ad_cleaned.groupby(['icb_ons_code',\"actual_duration\"]).resample('M').sum()\n",
      "C:\\Users\\Kenneth Lo\\AppData\\Local\\Temp\\ipykernel_7380\\2757272805.py:1: FutureWarning: The default value of numeric_only in DataFrameGroupBy.sum is deprecated. In a future version, numeric_only will default to False. Either specify numeric_only or select only columns which should be valid for the function.\n",
      "  regional_count = ad_cleaned.groupby(['icb_ons_code',\"actual_duration\"]).resample('M').sum()\n",
      "C:\\Users\\Kenneth Lo\\AppData\\Local\\Temp\\ipykernel_7380\\2757272805.py:1: FutureWarning: The default value of numeric_only in DataFrameGroupBy.sum is deprecated. In a future version, numeric_only will default to False. Either specify numeric_only or select only columns which should be valid for the function.\n",
      "  regional_count = ad_cleaned.groupby(['icb_ons_code',\"actual_duration\"]).resample('M').sum()\n",
      "C:\\Users\\Kenneth Lo\\AppData\\Local\\Temp\\ipykernel_7380\\2757272805.py:1: FutureWarning: The default value of numeric_only in DataFrameGroupBy.sum is deprecated. In a future version, numeric_only will default to False. Either specify numeric_only or select only columns which should be valid for the function.\n",
      "  regional_count = ad_cleaned.groupby(['icb_ons_code',\"actual_duration\"]).resample('M').sum()\n",
      "C:\\Users\\Kenneth Lo\\AppData\\Local\\Temp\\ipykernel_7380\\2757272805.py:1: FutureWarning: The default value of numeric_only in DataFrameGroupBy.sum is deprecated. In a future version, numeric_only will default to False. Either specify numeric_only or select only columns which should be valid for the function.\n",
      "  regional_count = ad_cleaned.groupby(['icb_ons_code',\"actual_duration\"]).resample('M').sum()\n",
      "C:\\Users\\Kenneth Lo\\AppData\\Local\\Temp\\ipykernel_7380\\2757272805.py:1: FutureWarning: The default value of numeric_only in DataFrameGroupBy.sum is deprecated. In a future version, numeric_only will default to False. Either specify numeric_only or select only columns which should be valid for the function.\n",
      "  regional_count = ad_cleaned.groupby(['icb_ons_code',\"actual_duration\"]).resample('M').sum()\n",
      "C:\\Users\\Kenneth Lo\\AppData\\Local\\Temp\\ipykernel_7380\\2757272805.py:1: FutureWarning: The default value of numeric_only in DataFrameGroupBy.sum is deprecated. In a future version, numeric_only will default to False. Either specify numeric_only or select only columns which should be valid for the function.\n",
      "  regional_count = ad_cleaned.groupby(['icb_ons_code',\"actual_duration\"]).resample('M').sum()\n",
      "C:\\Users\\Kenneth Lo\\AppData\\Local\\Temp\\ipykernel_7380\\2757272805.py:1: FutureWarning: The default value of numeric_only in DataFrameGroupBy.sum is deprecated. In a future version, numeric_only will default to False. Either specify numeric_only or select only columns which should be valid for the function.\n",
      "  regional_count = ad_cleaned.groupby(['icb_ons_code',\"actual_duration\"]).resample('M').sum()\n",
      "C:\\Users\\Kenneth Lo\\AppData\\Local\\Temp\\ipykernel_7380\\2757272805.py:1: FutureWarning: The default value of numeric_only in DataFrameGroupBy.sum is deprecated. In a future version, numeric_only will default to False. Either specify numeric_only or select only columns which should be valid for the function.\n",
      "  regional_count = ad_cleaned.groupby(['icb_ons_code',\"actual_duration\"]).resample('M').sum()\n",
      "C:\\Users\\Kenneth Lo\\AppData\\Local\\Temp\\ipykernel_7380\\2757272805.py:1: FutureWarning: The default value of numeric_only in DataFrameGroupBy.sum is deprecated. In a future version, numeric_only will default to False. Either specify numeric_only or select only columns which should be valid for the function.\n",
      "  regional_count = ad_cleaned.groupby(['icb_ons_code',\"actual_duration\"]).resample('M').sum()\n",
      "C:\\Users\\Kenneth Lo\\AppData\\Local\\Temp\\ipykernel_7380\\2757272805.py:1: FutureWarning: The default value of numeric_only in DataFrameGroupBy.sum is deprecated. In a future version, numeric_only will default to False. Either specify numeric_only or select only columns which should be valid for the function.\n",
      "  regional_count = ad_cleaned.groupby(['icb_ons_code',\"actual_duration\"]).resample('M').sum()\n",
      "C:\\Users\\Kenneth Lo\\AppData\\Local\\Temp\\ipykernel_7380\\2757272805.py:1: FutureWarning: The default value of numeric_only in DataFrameGroupBy.sum is deprecated. In a future version, numeric_only will default to False. Either specify numeric_only or select only columns which should be valid for the function.\n",
      "  regional_count = ad_cleaned.groupby(['icb_ons_code',\"actual_duration\"]).resample('M').sum()\n",
      "C:\\Users\\Kenneth Lo\\AppData\\Local\\Temp\\ipykernel_7380\\2757272805.py:1: FutureWarning: The default value of numeric_only in DataFrameGroupBy.sum is deprecated. In a future version, numeric_only will default to False. Either specify numeric_only or select only columns which should be valid for the function.\n",
      "  regional_count = ad_cleaned.groupby(['icb_ons_code',\"actual_duration\"]).resample('M').sum()\n",
      "C:\\Users\\Kenneth Lo\\AppData\\Local\\Temp\\ipykernel_7380\\2757272805.py:1: FutureWarning: The default value of numeric_only in DataFrameGroupBy.sum is deprecated. In a future version, numeric_only will default to False. Either specify numeric_only or select only columns which should be valid for the function.\n",
      "  regional_count = ad_cleaned.groupby(['icb_ons_code',\"actual_duration\"]).resample('M').sum()\n",
      "C:\\Users\\Kenneth Lo\\AppData\\Local\\Temp\\ipykernel_7380\\2757272805.py:1: FutureWarning: The default value of numeric_only in DataFrameGroupBy.sum is deprecated. In a future version, numeric_only will default to False. Either specify numeric_only or select only columns which should be valid for the function.\n",
      "  regional_count = ad_cleaned.groupby(['icb_ons_code',\"actual_duration\"]).resample('M').sum()\n",
      "C:\\Users\\Kenneth Lo\\AppData\\Local\\Temp\\ipykernel_7380\\2757272805.py:1: FutureWarning: The default value of numeric_only in DataFrameGroupBy.sum is deprecated. In a future version, numeric_only will default to False. Either specify numeric_only or select only columns which should be valid for the function.\n",
      "  regional_count = ad_cleaned.groupby(['icb_ons_code',\"actual_duration\"]).resample('M').sum()\n",
      "C:\\Users\\Kenneth Lo\\AppData\\Local\\Temp\\ipykernel_7380\\2757272805.py:1: FutureWarning: The default value of numeric_only in DataFrameGroupBy.sum is deprecated. In a future version, numeric_only will default to False. Either specify numeric_only or select only columns which should be valid for the function.\n",
      "  regional_count = ad_cleaned.groupby(['icb_ons_code',\"actual_duration\"]).resample('M').sum()\n",
      "C:\\Users\\Kenneth Lo\\AppData\\Local\\Temp\\ipykernel_7380\\2757272805.py:1: FutureWarning: The default value of numeric_only in DataFrameGroupBy.sum is deprecated. In a future version, numeric_only will default to False. Either specify numeric_only or select only columns which should be valid for the function.\n",
      "  regional_count = ad_cleaned.groupby(['icb_ons_code',\"actual_duration\"]).resample('M').sum()\n",
      "C:\\Users\\Kenneth Lo\\AppData\\Local\\Temp\\ipykernel_7380\\2757272805.py:1: FutureWarning: The default value of numeric_only in DataFrameGroupBy.sum is deprecated. In a future version, numeric_only will default to False. Either specify numeric_only or select only columns which should be valid for the function.\n",
      "  regional_count = ad_cleaned.groupby(['icb_ons_code',\"actual_duration\"]).resample('M').sum()\n",
      "C:\\Users\\Kenneth Lo\\AppData\\Local\\Temp\\ipykernel_7380\\2757272805.py:1: FutureWarning: The default value of numeric_only in DataFrameGroupBy.sum is deprecated. In a future version, numeric_only will default to False. Either specify numeric_only or select only columns which should be valid for the function.\n",
      "  regional_count = ad_cleaned.groupby(['icb_ons_code',\"actual_duration\"]).resample('M').sum()\n",
      "C:\\Users\\Kenneth Lo\\AppData\\Local\\Temp\\ipykernel_7380\\2757272805.py:1: FutureWarning: The default value of numeric_only in DataFrameGroupBy.sum is deprecated. In a future version, numeric_only will default to False. Either specify numeric_only or select only columns which should be valid for the function.\n",
      "  regional_count = ad_cleaned.groupby(['icb_ons_code',\"actual_duration\"]).resample('M').sum()\n",
      "C:\\Users\\Kenneth Lo\\AppData\\Local\\Temp\\ipykernel_7380\\2757272805.py:1: FutureWarning: The default value of numeric_only in DataFrameGroupBy.sum is deprecated. In a future version, numeric_only will default to False. Either specify numeric_only or select only columns which should be valid for the function.\n",
      "  regional_count = ad_cleaned.groupby(['icb_ons_code',\"actual_duration\"]).resample('M').sum()\n",
      "C:\\Users\\Kenneth Lo\\AppData\\Local\\Temp\\ipykernel_7380\\2757272805.py:1: FutureWarning: The default value of numeric_only in DataFrameGroupBy.sum is deprecated. In a future version, numeric_only will default to False. Either specify numeric_only or select only columns which should be valid for the function.\n",
      "  regional_count = ad_cleaned.groupby(['icb_ons_code',\"actual_duration\"]).resample('M').sum()\n",
      "C:\\Users\\Kenneth Lo\\AppData\\Local\\Temp\\ipykernel_7380\\2757272805.py:1: FutureWarning: The default value of numeric_only in DataFrameGroupBy.sum is deprecated. In a future version, numeric_only will default to False. Either specify numeric_only or select only columns which should be valid for the function.\n",
      "  regional_count = ad_cleaned.groupby(['icb_ons_code',\"actual_duration\"]).resample('M').sum()\n",
      "C:\\Users\\Kenneth Lo\\AppData\\Local\\Temp\\ipykernel_7380\\2757272805.py:1: FutureWarning: The default value of numeric_only in DataFrameGroupBy.sum is deprecated. In a future version, numeric_only will default to False. Either specify numeric_only or select only columns which should be valid for the function.\n",
      "  regional_count = ad_cleaned.groupby(['icb_ons_code',\"actual_duration\"]).resample('M').sum()\n",
      "C:\\Users\\Kenneth Lo\\AppData\\Local\\Temp\\ipykernel_7380\\2757272805.py:1: FutureWarning: The default value of numeric_only in DataFrameGroupBy.sum is deprecated. In a future version, numeric_only will default to False. Either specify numeric_only or select only columns which should be valid for the function.\n",
      "  regional_count = ad_cleaned.groupby(['icb_ons_code',\"actual_duration\"]).resample('M').sum()\n",
      "C:\\Users\\Kenneth Lo\\AppData\\Local\\Temp\\ipykernel_7380\\2757272805.py:1: FutureWarning: The default value of numeric_only in DataFrameGroupBy.sum is deprecated. In a future version, numeric_only will default to False. Either specify numeric_only or select only columns which should be valid for the function.\n",
      "  regional_count = ad_cleaned.groupby(['icb_ons_code',\"actual_duration\"]).resample('M').sum()\n",
      "C:\\Users\\Kenneth Lo\\AppData\\Local\\Temp\\ipykernel_7380\\2757272805.py:1: FutureWarning: The default value of numeric_only in DataFrameGroupBy.sum is deprecated. In a future version, numeric_only will default to False. Either specify numeric_only or select only columns which should be valid for the function.\n",
      "  regional_count = ad_cleaned.groupby(['icb_ons_code',\"actual_duration\"]).resample('M').sum()\n",
      "C:\\Users\\Kenneth Lo\\AppData\\Local\\Temp\\ipykernel_7380\\2757272805.py:1: FutureWarning: The default value of numeric_only in DataFrameGroupBy.sum is deprecated. In a future version, numeric_only will default to False. Either specify numeric_only or select only columns which should be valid for the function.\n",
      "  regional_count = ad_cleaned.groupby(['icb_ons_code',\"actual_duration\"]).resample('M').sum()\n",
      "C:\\Users\\Kenneth Lo\\AppData\\Local\\Temp\\ipykernel_7380\\2757272805.py:1: FutureWarning: The default value of numeric_only in DataFrameGroupBy.sum is deprecated. In a future version, numeric_only will default to False. Either specify numeric_only or select only columns which should be valid for the function.\n",
      "  regional_count = ad_cleaned.groupby(['icb_ons_code',\"actual_duration\"]).resample('M').sum()\n",
      "C:\\Users\\Kenneth Lo\\AppData\\Local\\Temp\\ipykernel_7380\\2757272805.py:1: FutureWarning: The default value of numeric_only in DataFrameGroupBy.sum is deprecated. In a future version, numeric_only will default to False. Either specify numeric_only or select only columns which should be valid for the function.\n",
      "  regional_count = ad_cleaned.groupby(['icb_ons_code',\"actual_duration\"]).resample('M').sum()\n",
      "C:\\Users\\Kenneth Lo\\AppData\\Local\\Temp\\ipykernel_7380\\2757272805.py:1: FutureWarning: The default value of numeric_only in DataFrameGroupBy.sum is deprecated. In a future version, numeric_only will default to False. Either specify numeric_only or select only columns which should be valid for the function.\n",
      "  regional_count = ad_cleaned.groupby(['icb_ons_code',\"actual_duration\"]).resample('M').sum()\n",
      "C:\\Users\\Kenneth Lo\\AppData\\Local\\Temp\\ipykernel_7380\\2757272805.py:1: FutureWarning: The default value of numeric_only in DataFrameGroupBy.sum is deprecated. In a future version, numeric_only will default to False. Either specify numeric_only or select only columns which should be valid for the function.\n",
      "  regional_count = ad_cleaned.groupby(['icb_ons_code',\"actual_duration\"]).resample('M').sum()\n",
      "C:\\Users\\Kenneth Lo\\AppData\\Local\\Temp\\ipykernel_7380\\2757272805.py:1: FutureWarning: The default value of numeric_only in DataFrameGroupBy.sum is deprecated. In a future version, numeric_only will default to False. Either specify numeric_only or select only columns which should be valid for the function.\n",
      "  regional_count = ad_cleaned.groupby(['icb_ons_code',\"actual_duration\"]).resample('M').sum()\n",
      "C:\\Users\\Kenneth Lo\\AppData\\Local\\Temp\\ipykernel_7380\\2757272805.py:1: FutureWarning: The default value of numeric_only in DataFrameGroupBy.sum is deprecated. In a future version, numeric_only will default to False. Either specify numeric_only or select only columns which should be valid for the function.\n",
      "  regional_count = ad_cleaned.groupby(['icb_ons_code',\"actual_duration\"]).resample('M').sum()\n",
      "C:\\Users\\Kenneth Lo\\AppData\\Local\\Temp\\ipykernel_7380\\2757272805.py:1: FutureWarning: The default value of numeric_only in DataFrameGroupBy.sum is deprecated. In a future version, numeric_only will default to False. Either specify numeric_only or select only columns which should be valid for the function.\n",
      "  regional_count = ad_cleaned.groupby(['icb_ons_code',\"actual_duration\"]).resample('M').sum()\n",
      "C:\\Users\\Kenneth Lo\\AppData\\Local\\Temp\\ipykernel_7380\\2757272805.py:1: FutureWarning: The default value of numeric_only in DataFrameGroupBy.sum is deprecated. In a future version, numeric_only will default to False. Either specify numeric_only or select only columns which should be valid for the function.\n",
      "  regional_count = ad_cleaned.groupby(['icb_ons_code',\"actual_duration\"]).resample('M').sum()\n",
      "C:\\Users\\Kenneth Lo\\AppData\\Local\\Temp\\ipykernel_7380\\2757272805.py:1: FutureWarning: The default value of numeric_only in DataFrameGroupBy.sum is deprecated. In a future version, numeric_only will default to False. Either specify numeric_only or select only columns which should be valid for the function.\n",
      "  regional_count = ad_cleaned.groupby(['icb_ons_code',\"actual_duration\"]).resample('M').sum()\n",
      "C:\\Users\\Kenneth Lo\\AppData\\Local\\Temp\\ipykernel_7380\\2757272805.py:1: FutureWarning: The default value of numeric_only in DataFrameGroupBy.sum is deprecated. In a future version, numeric_only will default to False. Either specify numeric_only or select only columns which should be valid for the function.\n",
      "  regional_count = ad_cleaned.groupby(['icb_ons_code',\"actual_duration\"]).resample('M').sum()\n",
      "C:\\Users\\Kenneth Lo\\AppData\\Local\\Temp\\ipykernel_7380\\2757272805.py:1: FutureWarning: The default value of numeric_only in DataFrameGroupBy.sum is deprecated. In a future version, numeric_only will default to False. Either specify numeric_only or select only columns which should be valid for the function.\n",
      "  regional_count = ad_cleaned.groupby(['icb_ons_code',\"actual_duration\"]).resample('M').sum()\n",
      "C:\\Users\\Kenneth Lo\\AppData\\Local\\Temp\\ipykernel_7380\\2757272805.py:1: FutureWarning: The default value of numeric_only in DataFrameGroupBy.sum is deprecated. In a future version, numeric_only will default to False. Either specify numeric_only or select only columns which should be valid for the function.\n",
      "  regional_count = ad_cleaned.groupby(['icb_ons_code',\"actual_duration\"]).resample('M').sum()\n",
      "C:\\Users\\Kenneth Lo\\AppData\\Local\\Temp\\ipykernel_7380\\2757272805.py:1: FutureWarning: The default value of numeric_only in DataFrameGroupBy.sum is deprecated. In a future version, numeric_only will default to False. Either specify numeric_only or select only columns which should be valid for the function.\n",
      "  regional_count = ad_cleaned.groupby(['icb_ons_code',\"actual_duration\"]).resample('M').sum()\n",
      "C:\\Users\\Kenneth Lo\\AppData\\Local\\Temp\\ipykernel_7380\\2757272805.py:1: FutureWarning: The default value of numeric_only in DataFrameGroupBy.sum is deprecated. In a future version, numeric_only will default to False. Either specify numeric_only or select only columns which should be valid for the function.\n",
      "  regional_count = ad_cleaned.groupby(['icb_ons_code',\"actual_duration\"]).resample('M').sum()\n",
      "C:\\Users\\Kenneth Lo\\AppData\\Local\\Temp\\ipykernel_7380\\2757272805.py:1: FutureWarning: The default value of numeric_only in DataFrameGroupBy.sum is deprecated. In a future version, numeric_only will default to False. Either specify numeric_only or select only columns which should be valid for the function.\n",
      "  regional_count = ad_cleaned.groupby(['icb_ons_code',\"actual_duration\"]).resample('M').sum()\n",
      "C:\\Users\\Kenneth Lo\\AppData\\Local\\Temp\\ipykernel_7380\\2757272805.py:1: FutureWarning: The default value of numeric_only in DataFrameGroupBy.sum is deprecated. In a future version, numeric_only will default to False. Either specify numeric_only or select only columns which should be valid for the function.\n",
      "  regional_count = ad_cleaned.groupby(['icb_ons_code',\"actual_duration\"]).resample('M').sum()\n",
      "C:\\Users\\Kenneth Lo\\AppData\\Local\\Temp\\ipykernel_7380\\2757272805.py:1: FutureWarning: The default value of numeric_only in DataFrameGroupBy.sum is deprecated. In a future version, numeric_only will default to False. Either specify numeric_only or select only columns which should be valid for the function.\n",
      "  regional_count = ad_cleaned.groupby(['icb_ons_code',\"actual_duration\"]).resample('M').sum()\n",
      "C:\\Users\\Kenneth Lo\\AppData\\Local\\Temp\\ipykernel_7380\\2757272805.py:1: FutureWarning: The default value of numeric_only in DataFrameGroupBy.sum is deprecated. In a future version, numeric_only will default to False. Either specify numeric_only or select only columns which should be valid for the function.\n",
      "  regional_count = ad_cleaned.groupby(['icb_ons_code',\"actual_duration\"]).resample('M').sum()\n",
      "C:\\Users\\Kenneth Lo\\AppData\\Local\\Temp\\ipykernel_7380\\2757272805.py:1: FutureWarning: The default value of numeric_only in DataFrameGroupBy.sum is deprecated. In a future version, numeric_only will default to False. Either specify numeric_only or select only columns which should be valid for the function.\n",
      "  regional_count = ad_cleaned.groupby(['icb_ons_code',\"actual_duration\"]).resample('M').sum()\n",
      "C:\\Users\\Kenneth Lo\\AppData\\Local\\Temp\\ipykernel_7380\\2757272805.py:1: FutureWarning: The default value of numeric_only in DataFrameGroupBy.sum is deprecated. In a future version, numeric_only will default to False. Either specify numeric_only or select only columns which should be valid for the function.\n",
      "  regional_count = ad_cleaned.groupby(['icb_ons_code',\"actual_duration\"]).resample('M').sum()\n",
      "C:\\Users\\Kenneth Lo\\AppData\\Local\\Temp\\ipykernel_7380\\2757272805.py:1: FutureWarning: The default value of numeric_only in DataFrameGroupBy.sum is deprecated. In a future version, numeric_only will default to False. Either specify numeric_only or select only columns which should be valid for the function.\n",
      "  regional_count = ad_cleaned.groupby(['icb_ons_code',\"actual_duration\"]).resample('M').sum()\n",
      "C:\\Users\\Kenneth Lo\\AppData\\Local\\Temp\\ipykernel_7380\\2757272805.py:1: FutureWarning: The default value of numeric_only in DataFrameGroupBy.sum is deprecated. In a future version, numeric_only will default to False. Either specify numeric_only or select only columns which should be valid for the function.\n",
      "  regional_count = ad_cleaned.groupby(['icb_ons_code',\"actual_duration\"]).resample('M').sum()\n",
      "C:\\Users\\Kenneth Lo\\AppData\\Local\\Temp\\ipykernel_7380\\2757272805.py:1: FutureWarning: The default value of numeric_only in DataFrameGroupBy.sum is deprecated. In a future version, numeric_only will default to False. Either specify numeric_only or select only columns which should be valid for the function.\n",
      "  regional_count = ad_cleaned.groupby(['icb_ons_code',\"actual_duration\"]).resample('M').sum()\n",
      "C:\\Users\\Kenneth Lo\\AppData\\Local\\Temp\\ipykernel_7380\\2757272805.py:1: FutureWarning: The default value of numeric_only in DataFrameGroupBy.sum is deprecated. In a future version, numeric_only will default to False. Either specify numeric_only or select only columns which should be valid for the function.\n",
      "  regional_count = ad_cleaned.groupby(['icb_ons_code',\"actual_duration\"]).resample('M').sum()\n"
     ]
    },
    {
     "name": "stderr",
     "output_type": "stream",
     "text": [
      "C:\\Users\\Kenneth Lo\\AppData\\Local\\Temp\\ipykernel_7380\\2757272805.py:1: FutureWarning: The default value of numeric_only in DataFrameGroupBy.sum is deprecated. In a future version, numeric_only will default to False. Either specify numeric_only or select only columns which should be valid for the function.\n",
      "  regional_count = ad_cleaned.groupby(['icb_ons_code',\"actual_duration\"]).resample('M').sum()\n",
      "C:\\Users\\Kenneth Lo\\AppData\\Local\\Temp\\ipykernel_7380\\2757272805.py:1: FutureWarning: The default value of numeric_only in DataFrameGroupBy.sum is deprecated. In a future version, numeric_only will default to False. Either specify numeric_only or select only columns which should be valid for the function.\n",
      "  regional_count = ad_cleaned.groupby(['icb_ons_code',\"actual_duration\"]).resample('M').sum()\n",
      "C:\\Users\\Kenneth Lo\\AppData\\Local\\Temp\\ipykernel_7380\\2757272805.py:1: FutureWarning: The default value of numeric_only in DataFrameGroupBy.sum is deprecated. In a future version, numeric_only will default to False. Either specify numeric_only or select only columns which should be valid for the function.\n",
      "  regional_count = ad_cleaned.groupby(['icb_ons_code',\"actual_duration\"]).resample('M').sum()\n",
      "C:\\Users\\Kenneth Lo\\AppData\\Local\\Temp\\ipykernel_7380\\2757272805.py:1: FutureWarning: The default value of numeric_only in DataFrameGroupBy.sum is deprecated. In a future version, numeric_only will default to False. Either specify numeric_only or select only columns which should be valid for the function.\n",
      "  regional_count = ad_cleaned.groupby(['icb_ons_code',\"actual_duration\"]).resample('M').sum()\n",
      "C:\\Users\\Kenneth Lo\\AppData\\Local\\Temp\\ipykernel_7380\\2757272805.py:1: FutureWarning: The default value of numeric_only in DataFrameGroupBy.sum is deprecated. In a future version, numeric_only will default to False. Either specify numeric_only or select only columns which should be valid for the function.\n",
      "  regional_count = ad_cleaned.groupby(['icb_ons_code',\"actual_duration\"]).resample('M').sum()\n",
      "C:\\Users\\Kenneth Lo\\AppData\\Local\\Temp\\ipykernel_7380\\2757272805.py:1: FutureWarning: The default value of numeric_only in DataFrameGroupBy.sum is deprecated. In a future version, numeric_only will default to False. Either specify numeric_only or select only columns which should be valid for the function.\n",
      "  regional_count = ad_cleaned.groupby(['icb_ons_code',\"actual_duration\"]).resample('M').sum()\n",
      "C:\\Users\\Kenneth Lo\\AppData\\Local\\Temp\\ipykernel_7380\\2757272805.py:1: FutureWarning: The default value of numeric_only in DataFrameGroupBy.sum is deprecated. In a future version, numeric_only will default to False. Either specify numeric_only or select only columns which should be valid for the function.\n",
      "  regional_count = ad_cleaned.groupby(['icb_ons_code',\"actual_duration\"]).resample('M').sum()\n",
      "C:\\Users\\Kenneth Lo\\AppData\\Local\\Temp\\ipykernel_7380\\2757272805.py:1: FutureWarning: The default value of numeric_only in DataFrameGroupBy.sum is deprecated. In a future version, numeric_only will default to False. Either specify numeric_only or select only columns which should be valid for the function.\n",
      "  regional_count = ad_cleaned.groupby(['icb_ons_code',\"actual_duration\"]).resample('M').sum()\n",
      "C:\\Users\\Kenneth Lo\\AppData\\Local\\Temp\\ipykernel_7380\\2757272805.py:1: FutureWarning: The default value of numeric_only in DataFrameGroupBy.sum is deprecated. In a future version, numeric_only will default to False. Either specify numeric_only or select only columns which should be valid for the function.\n",
      "  regional_count = ad_cleaned.groupby(['icb_ons_code',\"actual_duration\"]).resample('M').sum()\n",
      "C:\\Users\\Kenneth Lo\\AppData\\Local\\Temp\\ipykernel_7380\\2757272805.py:1: FutureWarning: The default value of numeric_only in DataFrameGroupBy.sum is deprecated. In a future version, numeric_only will default to False. Either specify numeric_only or select only columns which should be valid for the function.\n",
      "  regional_count = ad_cleaned.groupby(['icb_ons_code',\"actual_duration\"]).resample('M').sum()\n",
      "C:\\Users\\Kenneth Lo\\AppData\\Local\\Temp\\ipykernel_7380\\2757272805.py:1: FutureWarning: The default value of numeric_only in DataFrameGroupBy.sum is deprecated. In a future version, numeric_only will default to False. Either specify numeric_only or select only columns which should be valid for the function.\n",
      "  regional_count = ad_cleaned.groupby(['icb_ons_code',\"actual_duration\"]).resample('M').sum()\n",
      "C:\\Users\\Kenneth Lo\\AppData\\Local\\Temp\\ipykernel_7380\\2757272805.py:1: FutureWarning: The default value of numeric_only in DataFrameGroupBy.sum is deprecated. In a future version, numeric_only will default to False. Either specify numeric_only or select only columns which should be valid for the function.\n",
      "  regional_count = ad_cleaned.groupby(['icb_ons_code',\"actual_duration\"]).resample('M').sum()\n",
      "C:\\Users\\Kenneth Lo\\AppData\\Local\\Temp\\ipykernel_7380\\2757272805.py:1: FutureWarning: The default value of numeric_only in DataFrameGroupBy.sum is deprecated. In a future version, numeric_only will default to False. Either specify numeric_only or select only columns which should be valid for the function.\n",
      "  regional_count = ad_cleaned.groupby(['icb_ons_code',\"actual_duration\"]).resample('M').sum()\n",
      "C:\\Users\\Kenneth Lo\\AppData\\Local\\Temp\\ipykernel_7380\\2757272805.py:1: FutureWarning: The default value of numeric_only in DataFrameGroupBy.sum is deprecated. In a future version, numeric_only will default to False. Either specify numeric_only or select only columns which should be valid for the function.\n",
      "  regional_count = ad_cleaned.groupby(['icb_ons_code',\"actual_duration\"]).resample('M').sum()\n",
      "C:\\Users\\Kenneth Lo\\AppData\\Local\\Temp\\ipykernel_7380\\2757272805.py:1: FutureWarning: The default value of numeric_only in DataFrameGroupBy.sum is deprecated. In a future version, numeric_only will default to False. Either specify numeric_only or select only columns which should be valid for the function.\n",
      "  regional_count = ad_cleaned.groupby(['icb_ons_code',\"actual_duration\"]).resample('M').sum()\n",
      "C:\\Users\\Kenneth Lo\\AppData\\Local\\Temp\\ipykernel_7380\\2757272805.py:1: FutureWarning: The default value of numeric_only in DataFrameGroupBy.sum is deprecated. In a future version, numeric_only will default to False. Either specify numeric_only or select only columns which should be valid for the function.\n",
      "  regional_count = ad_cleaned.groupby(['icb_ons_code',\"actual_duration\"]).resample('M').sum()\n",
      "C:\\Users\\Kenneth Lo\\AppData\\Local\\Temp\\ipykernel_7380\\2757272805.py:1: FutureWarning: The default value of numeric_only in DataFrameGroupBy.sum is deprecated. In a future version, numeric_only will default to False. Either specify numeric_only or select only columns which should be valid for the function.\n",
      "  regional_count = ad_cleaned.groupby(['icb_ons_code',\"actual_duration\"]).resample('M').sum()\n",
      "C:\\Users\\Kenneth Lo\\AppData\\Local\\Temp\\ipykernel_7380\\2757272805.py:1: FutureWarning: The default value of numeric_only in DataFrameGroupBy.sum is deprecated. In a future version, numeric_only will default to False. Either specify numeric_only or select only columns which should be valid for the function.\n",
      "  regional_count = ad_cleaned.groupby(['icb_ons_code',\"actual_duration\"]).resample('M').sum()\n",
      "C:\\Users\\Kenneth Lo\\AppData\\Local\\Temp\\ipykernel_7380\\2757272805.py:1: FutureWarning: The default value of numeric_only in DataFrameGroupBy.sum is deprecated. In a future version, numeric_only will default to False. Either specify numeric_only or select only columns which should be valid for the function.\n",
      "  regional_count = ad_cleaned.groupby(['icb_ons_code',\"actual_duration\"]).resample('M').sum()\n",
      "C:\\Users\\Kenneth Lo\\AppData\\Local\\Temp\\ipykernel_7380\\2757272805.py:1: FutureWarning: The default value of numeric_only in DataFrameGroupBy.sum is deprecated. In a future version, numeric_only will default to False. Either specify numeric_only or select only columns which should be valid for the function.\n",
      "  regional_count = ad_cleaned.groupby(['icb_ons_code',\"actual_duration\"]).resample('M').sum()\n",
      "C:\\Users\\Kenneth Lo\\AppData\\Local\\Temp\\ipykernel_7380\\2757272805.py:1: FutureWarning: The default value of numeric_only in DataFrameGroupBy.sum is deprecated. In a future version, numeric_only will default to False. Either specify numeric_only or select only columns which should be valid for the function.\n",
      "  regional_count = ad_cleaned.groupby(['icb_ons_code',\"actual_duration\"]).resample('M').sum()\n",
      "C:\\Users\\Kenneth Lo\\AppData\\Local\\Temp\\ipykernel_7380\\2757272805.py:1: FutureWarning: The default value of numeric_only in DataFrameGroupBy.sum is deprecated. In a future version, numeric_only will default to False. Either specify numeric_only or select only columns which should be valid for the function.\n",
      "  regional_count = ad_cleaned.groupby(['icb_ons_code',\"actual_duration\"]).resample('M').sum()\n",
      "C:\\Users\\Kenneth Lo\\AppData\\Local\\Temp\\ipykernel_7380\\2757272805.py:1: FutureWarning: The default value of numeric_only in DataFrameGroupBy.sum is deprecated. In a future version, numeric_only will default to False. Either specify numeric_only or select only columns which should be valid for the function.\n",
      "  regional_count = ad_cleaned.groupby(['icb_ons_code',\"actual_duration\"]).resample('M').sum()\n",
      "C:\\Users\\Kenneth Lo\\AppData\\Local\\Temp\\ipykernel_7380\\2757272805.py:1: FutureWarning: The default value of numeric_only in DataFrameGroupBy.sum is deprecated. In a future version, numeric_only will default to False. Either specify numeric_only or select only columns which should be valid for the function.\n",
      "  regional_count = ad_cleaned.groupby(['icb_ons_code',\"actual_duration\"]).resample('M').sum()\n",
      "C:\\Users\\Kenneth Lo\\AppData\\Local\\Temp\\ipykernel_7380\\2757272805.py:1: FutureWarning: The default value of numeric_only in DataFrameGroupBy.sum is deprecated. In a future version, numeric_only will default to False. Either specify numeric_only or select only columns which should be valid for the function.\n",
      "  regional_count = ad_cleaned.groupby(['icb_ons_code',\"actual_duration\"]).resample('M').sum()\n",
      "C:\\Users\\Kenneth Lo\\AppData\\Local\\Temp\\ipykernel_7380\\2757272805.py:1: FutureWarning: The default value of numeric_only in DataFrameGroupBy.sum is deprecated. In a future version, numeric_only will default to False. Either specify numeric_only or select only columns which should be valid for the function.\n",
      "  regional_count = ad_cleaned.groupby(['icb_ons_code',\"actual_duration\"]).resample('M').sum()\n",
      "C:\\Users\\Kenneth Lo\\AppData\\Local\\Temp\\ipykernel_7380\\2757272805.py:1: FutureWarning: The default value of numeric_only in DataFrameGroupBy.sum is deprecated. In a future version, numeric_only will default to False. Either specify numeric_only or select only columns which should be valid for the function.\n",
      "  regional_count = ad_cleaned.groupby(['icb_ons_code',\"actual_duration\"]).resample('M').sum()\n",
      "C:\\Users\\Kenneth Lo\\AppData\\Local\\Temp\\ipykernel_7380\\2757272805.py:1: FutureWarning: The default value of numeric_only in DataFrameGroupBy.sum is deprecated. In a future version, numeric_only will default to False. Either specify numeric_only or select only columns which should be valid for the function.\n",
      "  regional_count = ad_cleaned.groupby(['icb_ons_code',\"actual_duration\"]).resample('M').sum()\n",
      "C:\\Users\\Kenneth Lo\\AppData\\Local\\Temp\\ipykernel_7380\\2757272805.py:1: FutureWarning: The default value of numeric_only in DataFrameGroupBy.sum is deprecated. In a future version, numeric_only will default to False. Either specify numeric_only or select only columns which should be valid for the function.\n",
      "  regional_count = ad_cleaned.groupby(['icb_ons_code',\"actual_duration\"]).resample('M').sum()\n",
      "C:\\Users\\Kenneth Lo\\AppData\\Local\\Temp\\ipykernel_7380\\2757272805.py:1: FutureWarning: The default value of numeric_only in DataFrameGroupBy.sum is deprecated. In a future version, numeric_only will default to False. Either specify numeric_only or select only columns which should be valid for the function.\n",
      "  regional_count = ad_cleaned.groupby(['icb_ons_code',\"actual_duration\"]).resample('M').sum()\n",
      "C:\\Users\\Kenneth Lo\\AppData\\Local\\Temp\\ipykernel_7380\\2757272805.py:1: FutureWarning: The default value of numeric_only in DataFrameGroupBy.sum is deprecated. In a future version, numeric_only will default to False. Either specify numeric_only or select only columns which should be valid for the function.\n",
      "  regional_count = ad_cleaned.groupby(['icb_ons_code',\"actual_duration\"]).resample('M').sum()\n",
      "C:\\Users\\Kenneth Lo\\AppData\\Local\\Temp\\ipykernel_7380\\2757272805.py:1: FutureWarning: The default value of numeric_only in DataFrameGroupBy.sum is deprecated. In a future version, numeric_only will default to False. Either specify numeric_only or select only columns which should be valid for the function.\n",
      "  regional_count = ad_cleaned.groupby(['icb_ons_code',\"actual_duration\"]).resample('M').sum()\n",
      "C:\\Users\\Kenneth Lo\\AppData\\Local\\Temp\\ipykernel_7380\\2757272805.py:1: FutureWarning: The default value of numeric_only in DataFrameGroupBy.sum is deprecated. In a future version, numeric_only will default to False. Either specify numeric_only or select only columns which should be valid for the function.\n",
      "  regional_count = ad_cleaned.groupby(['icb_ons_code',\"actual_duration\"]).resample('M').sum()\n",
      "C:\\Users\\Kenneth Lo\\AppData\\Local\\Temp\\ipykernel_7380\\2757272805.py:1: FutureWarning: The default value of numeric_only in DataFrameGroupBy.sum is deprecated. In a future version, numeric_only will default to False. Either specify numeric_only or select only columns which should be valid for the function.\n",
      "  regional_count = ad_cleaned.groupby(['icb_ons_code',\"actual_duration\"]).resample('M').sum()\n",
      "C:\\Users\\Kenneth Lo\\AppData\\Local\\Temp\\ipykernel_7380\\2757272805.py:1: FutureWarning: The default value of numeric_only in DataFrameGroupBy.sum is deprecated. In a future version, numeric_only will default to False. Either specify numeric_only or select only columns which should be valid for the function.\n",
      "  regional_count = ad_cleaned.groupby(['icb_ons_code',\"actual_duration\"]).resample('M').sum()\n",
      "C:\\Users\\Kenneth Lo\\AppData\\Local\\Temp\\ipykernel_7380\\2757272805.py:1: FutureWarning: The default value of numeric_only in DataFrameGroupBy.sum is deprecated. In a future version, numeric_only will default to False. Either specify numeric_only or select only columns which should be valid for the function.\n",
      "  regional_count = ad_cleaned.groupby(['icb_ons_code',\"actual_duration\"]).resample('M').sum()\n",
      "C:\\Users\\Kenneth Lo\\AppData\\Local\\Temp\\ipykernel_7380\\2757272805.py:1: FutureWarning: The default value of numeric_only in DataFrameGroupBy.sum is deprecated. In a future version, numeric_only will default to False. Either specify numeric_only or select only columns which should be valid for the function.\n",
      "  regional_count = ad_cleaned.groupby(['icb_ons_code',\"actual_duration\"]).resample('M').sum()\n",
      "C:\\Users\\Kenneth Lo\\AppData\\Local\\Temp\\ipykernel_7380\\2757272805.py:1: FutureWarning: The default value of numeric_only in DataFrameGroupBy.sum is deprecated. In a future version, numeric_only will default to False. Either specify numeric_only or select only columns which should be valid for the function.\n",
      "  regional_count = ad_cleaned.groupby(['icb_ons_code',\"actual_duration\"]).resample('M').sum()\n",
      "C:\\Users\\Kenneth Lo\\AppData\\Local\\Temp\\ipykernel_7380\\2757272805.py:1: FutureWarning: The default value of numeric_only in DataFrameGroupBy.sum is deprecated. In a future version, numeric_only will default to False. Either specify numeric_only or select only columns which should be valid for the function.\n",
      "  regional_count = ad_cleaned.groupby(['icb_ons_code',\"actual_duration\"]).resample('M').sum()\n",
      "C:\\Users\\Kenneth Lo\\AppData\\Local\\Temp\\ipykernel_7380\\2757272805.py:1: FutureWarning: The default value of numeric_only in DataFrameGroupBy.sum is deprecated. In a future version, numeric_only will default to False. Either specify numeric_only or select only columns which should be valid for the function.\n",
      "  regional_count = ad_cleaned.groupby(['icb_ons_code',\"actual_duration\"]).resample('M').sum()\n",
      "C:\\Users\\Kenneth Lo\\AppData\\Local\\Temp\\ipykernel_7380\\2757272805.py:1: FutureWarning: The default value of numeric_only in DataFrameGroupBy.sum is deprecated. In a future version, numeric_only will default to False. Either specify numeric_only or select only columns which should be valid for the function.\n",
      "  regional_count = ad_cleaned.groupby(['icb_ons_code',\"actual_duration\"]).resample('M').sum()\n",
      "C:\\Users\\Kenneth Lo\\AppData\\Local\\Temp\\ipykernel_7380\\2757272805.py:1: FutureWarning: The default value of numeric_only in DataFrameGroupBy.sum is deprecated. In a future version, numeric_only will default to False. Either specify numeric_only or select only columns which should be valid for the function.\n",
      "  regional_count = ad_cleaned.groupby(['icb_ons_code',\"actual_duration\"]).resample('M').sum()\n",
      "C:\\Users\\Kenneth Lo\\AppData\\Local\\Temp\\ipykernel_7380\\2757272805.py:1: FutureWarning: The default value of numeric_only in DataFrameGroupBy.sum is deprecated. In a future version, numeric_only will default to False. Either specify numeric_only or select only columns which should be valid for the function.\n",
      "  regional_count = ad_cleaned.groupby(['icb_ons_code',\"actual_duration\"]).resample('M').sum()\n",
      "C:\\Users\\Kenneth Lo\\AppData\\Local\\Temp\\ipykernel_7380\\2757272805.py:1: FutureWarning: The default value of numeric_only in DataFrameGroupBy.sum is deprecated. In a future version, numeric_only will default to False. Either specify numeric_only or select only columns which should be valid for the function.\n",
      "  regional_count = ad_cleaned.groupby(['icb_ons_code',\"actual_duration\"]).resample('M').sum()\n",
      "C:\\Users\\Kenneth Lo\\AppData\\Local\\Temp\\ipykernel_7380\\2757272805.py:1: FutureWarning: The default value of numeric_only in DataFrameGroupBy.sum is deprecated. In a future version, numeric_only will default to False. Either specify numeric_only or select only columns which should be valid for the function.\n",
      "  regional_count = ad_cleaned.groupby(['icb_ons_code',\"actual_duration\"]).resample('M').sum()\n",
      "C:\\Users\\Kenneth Lo\\AppData\\Local\\Temp\\ipykernel_7380\\2757272805.py:1: FutureWarning: The default value of numeric_only in DataFrameGroupBy.sum is deprecated. In a future version, numeric_only will default to False. Either specify numeric_only or select only columns which should be valid for the function.\n",
      "  regional_count = ad_cleaned.groupby(['icb_ons_code',\"actual_duration\"]).resample('M').sum()\n",
      "C:\\Users\\Kenneth Lo\\AppData\\Local\\Temp\\ipykernel_7380\\2757272805.py:1: FutureWarning: The default value of numeric_only in DataFrameGroupBy.sum is deprecated. In a future version, numeric_only will default to False. Either specify numeric_only or select only columns which should be valid for the function.\n",
      "  regional_count = ad_cleaned.groupby(['icb_ons_code',\"actual_duration\"]).resample('M').sum()\n",
      "C:\\Users\\Kenneth Lo\\AppData\\Local\\Temp\\ipykernel_7380\\2757272805.py:1: FutureWarning: The default value of numeric_only in DataFrameGroupBy.sum is deprecated. In a future version, numeric_only will default to False. Either specify numeric_only or select only columns which should be valid for the function.\n",
      "  regional_count = ad_cleaned.groupby(['icb_ons_code',\"actual_duration\"]).resample('M').sum()\n",
      "C:\\Users\\Kenneth Lo\\AppData\\Local\\Temp\\ipykernel_7380\\2757272805.py:1: FutureWarning: The default value of numeric_only in DataFrameGroupBy.sum is deprecated. In a future version, numeric_only will default to False. Either specify numeric_only or select only columns which should be valid for the function.\n",
      "  regional_count = ad_cleaned.groupby(['icb_ons_code',\"actual_duration\"]).resample('M').sum()\n",
      "C:\\Users\\Kenneth Lo\\AppData\\Local\\Temp\\ipykernel_7380\\2757272805.py:1: FutureWarning: The default value of numeric_only in DataFrameGroupBy.sum is deprecated. In a future version, numeric_only will default to False. Either specify numeric_only or select only columns which should be valid for the function.\n",
      "  regional_count = ad_cleaned.groupby(['icb_ons_code',\"actual_duration\"]).resample('M').sum()\n",
      "C:\\Users\\Kenneth Lo\\AppData\\Local\\Temp\\ipykernel_7380\\2757272805.py:1: FutureWarning: The default value of numeric_only in DataFrameGroupBy.sum is deprecated. In a future version, numeric_only will default to False. Either specify numeric_only or select only columns which should be valid for the function.\n",
      "  regional_count = ad_cleaned.groupby(['icb_ons_code',\"actual_duration\"]).resample('M').sum()\n",
      "C:\\Users\\Kenneth Lo\\AppData\\Local\\Temp\\ipykernel_7380\\2757272805.py:1: FutureWarning: The default value of numeric_only in DataFrameGroupBy.sum is deprecated. In a future version, numeric_only will default to False. Either specify numeric_only or select only columns which should be valid for the function.\n",
      "  regional_count = ad_cleaned.groupby(['icb_ons_code',\"actual_duration\"]).resample('M').sum()\n",
      "C:\\Users\\Kenneth Lo\\AppData\\Local\\Temp\\ipykernel_7380\\2757272805.py:1: FutureWarning: The default value of numeric_only in DataFrameGroupBy.sum is deprecated. In a future version, numeric_only will default to False. Either specify numeric_only or select only columns which should be valid for the function.\n",
      "  regional_count = ad_cleaned.groupby(['icb_ons_code',\"actual_duration\"]).resample('M').sum()\n",
      "C:\\Users\\Kenneth Lo\\AppData\\Local\\Temp\\ipykernel_7380\\2757272805.py:1: FutureWarning: The default value of numeric_only in DataFrameGroupBy.sum is deprecated. In a future version, numeric_only will default to False. Either specify numeric_only or select only columns which should be valid for the function.\n",
      "  regional_count = ad_cleaned.groupby(['icb_ons_code',\"actual_duration\"]).resample('M').sum()\n",
      "C:\\Users\\Kenneth Lo\\AppData\\Local\\Temp\\ipykernel_7380\\2757272805.py:1: FutureWarning: The default value of numeric_only in DataFrameGroupBy.sum is deprecated. In a future version, numeric_only will default to False. Either specify numeric_only or select only columns which should be valid for the function.\n",
      "  regional_count = ad_cleaned.groupby(['icb_ons_code',\"actual_duration\"]).resample('M').sum()\n",
      "C:\\Users\\Kenneth Lo\\AppData\\Local\\Temp\\ipykernel_7380\\2757272805.py:1: FutureWarning: The default value of numeric_only in DataFrameGroupBy.sum is deprecated. In a future version, numeric_only will default to False. Either specify numeric_only or select only columns which should be valid for the function.\n",
      "  regional_count = ad_cleaned.groupby(['icb_ons_code',\"actual_duration\"]).resample('M').sum()\n",
      "C:\\Users\\Kenneth Lo\\AppData\\Local\\Temp\\ipykernel_7380\\2757272805.py:1: FutureWarning: The default value of numeric_only in DataFrameGroupBy.sum is deprecated. In a future version, numeric_only will default to False. Either specify numeric_only or select only columns which should be valid for the function.\n",
      "  regional_count = ad_cleaned.groupby(['icb_ons_code',\"actual_duration\"]).resample('M').sum()\n",
      "C:\\Users\\Kenneth Lo\\AppData\\Local\\Temp\\ipykernel_7380\\2757272805.py:1: FutureWarning: The default value of numeric_only in DataFrameGroupBy.sum is deprecated. In a future version, numeric_only will default to False. Either specify numeric_only or select only columns which should be valid for the function.\n",
      "  regional_count = ad_cleaned.groupby(['icb_ons_code',\"actual_duration\"]).resample('M').sum()\n",
      "C:\\Users\\Kenneth Lo\\AppData\\Local\\Temp\\ipykernel_7380\\2757272805.py:1: FutureWarning: The default value of numeric_only in DataFrameGroupBy.sum is deprecated. In a future version, numeric_only will default to False. Either specify numeric_only or select only columns which should be valid for the function.\n",
      "  regional_count = ad_cleaned.groupby(['icb_ons_code',\"actual_duration\"]).resample('M').sum()\n",
      "C:\\Users\\Kenneth Lo\\AppData\\Local\\Temp\\ipykernel_7380\\2757272805.py:1: FutureWarning: The default value of numeric_only in DataFrameGroupBy.sum is deprecated. In a future version, numeric_only will default to False. Either specify numeric_only or select only columns which should be valid for the function.\n",
      "  regional_count = ad_cleaned.groupby(['icb_ons_code',\"actual_duration\"]).resample('M').sum()\n",
      "C:\\Users\\Kenneth Lo\\AppData\\Local\\Temp\\ipykernel_7380\\2757272805.py:1: FutureWarning: The default value of numeric_only in DataFrameGroupBy.sum is deprecated. In a future version, numeric_only will default to False. Either specify numeric_only or select only columns which should be valid for the function.\n",
      "  regional_count = ad_cleaned.groupby(['icb_ons_code',\"actual_duration\"]).resample('M').sum()\n",
      "C:\\Users\\Kenneth Lo\\AppData\\Local\\Temp\\ipykernel_7380\\2757272805.py:1: FutureWarning: The default value of numeric_only in DataFrameGroupBy.sum is deprecated. In a future version, numeric_only will default to False. Either specify numeric_only or select only columns which should be valid for the function.\n",
      "  regional_count = ad_cleaned.groupby(['icb_ons_code',\"actual_duration\"]).resample('M').sum()\n",
      "C:\\Users\\Kenneth Lo\\AppData\\Local\\Temp\\ipykernel_7380\\2757272805.py:1: FutureWarning: The default value of numeric_only in DataFrameGroupBy.sum is deprecated. In a future version, numeric_only will default to False. Either specify numeric_only or select only columns which should be valid for the function.\n",
      "  regional_count = ad_cleaned.groupby(['icb_ons_code',\"actual_duration\"]).resample('M').sum()\n",
      "C:\\Users\\Kenneth Lo\\AppData\\Local\\Temp\\ipykernel_7380\\2757272805.py:1: FutureWarning: The default value of numeric_only in DataFrameGroupBy.sum is deprecated. In a future version, numeric_only will default to False. Either specify numeric_only or select only columns which should be valid for the function.\n",
      "  regional_count = ad_cleaned.groupby(['icb_ons_code',\"actual_duration\"]).resample('M').sum()\n",
      "C:\\Users\\Kenneth Lo\\AppData\\Local\\Temp\\ipykernel_7380\\2757272805.py:1: FutureWarning: The default value of numeric_only in DataFrameGroupBy.sum is deprecated. In a future version, numeric_only will default to False. Either specify numeric_only or select only columns which should be valid for the function.\n",
      "  regional_count = ad_cleaned.groupby(['icb_ons_code',\"actual_duration\"]).resample('M').sum()\n",
      "C:\\Users\\Kenneth Lo\\AppData\\Local\\Temp\\ipykernel_7380\\2757272805.py:1: FutureWarning: The default value of numeric_only in DataFrameGroupBy.sum is deprecated. In a future version, numeric_only will default to False. Either specify numeric_only or select only columns which should be valid for the function.\n",
      "  regional_count = ad_cleaned.groupby(['icb_ons_code',\"actual_duration\"]).resample('M').sum()\n",
      "C:\\Users\\Kenneth Lo\\AppData\\Local\\Temp\\ipykernel_7380\\2757272805.py:1: FutureWarning: The default value of numeric_only in DataFrameGroupBy.sum is deprecated. In a future version, numeric_only will default to False. Either specify numeric_only or select only columns which should be valid for the function.\n",
      "  regional_count = ad_cleaned.groupby(['icb_ons_code',\"actual_duration\"]).resample('M').sum()\n",
      "C:\\Users\\Kenneth Lo\\AppData\\Local\\Temp\\ipykernel_7380\\2757272805.py:1: FutureWarning: The default value of numeric_only in DataFrameGroupBy.sum is deprecated. In a future version, numeric_only will default to False. Either specify numeric_only or select only columns which should be valid for the function.\n",
      "  regional_count = ad_cleaned.groupby(['icb_ons_code',\"actual_duration\"]).resample('M').sum()\n",
      "C:\\Users\\Kenneth Lo\\AppData\\Local\\Temp\\ipykernel_7380\\2757272805.py:1: FutureWarning: The default value of numeric_only in DataFrameGroupBy.sum is deprecated. In a future version, numeric_only will default to False. Either specify numeric_only or select only columns which should be valid for the function.\n",
      "  regional_count = ad_cleaned.groupby(['icb_ons_code',\"actual_duration\"]).resample('M').sum()\n",
      "C:\\Users\\Kenneth Lo\\AppData\\Local\\Temp\\ipykernel_7380\\2757272805.py:1: FutureWarning: The default value of numeric_only in DataFrameGroupBy.sum is deprecated. In a future version, numeric_only will default to False. Either specify numeric_only or select only columns which should be valid for the function.\n",
      "  regional_count = ad_cleaned.groupby(['icb_ons_code',\"actual_duration\"]).resample('M').sum()\n",
      "C:\\Users\\Kenneth Lo\\AppData\\Local\\Temp\\ipykernel_7380\\2757272805.py:1: FutureWarning: The default value of numeric_only in DataFrameGroupBy.sum is deprecated. In a future version, numeric_only will default to False. Either specify numeric_only or select only columns which should be valid for the function.\n",
      "  regional_count = ad_cleaned.groupby(['icb_ons_code',\"actual_duration\"]).resample('M').sum()\n",
      "C:\\Users\\Kenneth Lo\\AppData\\Local\\Temp\\ipykernel_7380\\2757272805.py:1: FutureWarning: The default value of numeric_only in DataFrameGroupBy.sum is deprecated. In a future version, numeric_only will default to False. Either specify numeric_only or select only columns which should be valid for the function.\n",
      "  regional_count = ad_cleaned.groupby(['icb_ons_code',\"actual_duration\"]).resample('M').sum()\n",
      "C:\\Users\\Kenneth Lo\\AppData\\Local\\Temp\\ipykernel_7380\\2757272805.py:1: FutureWarning: The default value of numeric_only in DataFrameGroupBy.sum is deprecated. In a future version, numeric_only will default to False. Either specify numeric_only or select only columns which should be valid for the function.\n",
      "  regional_count = ad_cleaned.groupby(['icb_ons_code',\"actual_duration\"]).resample('M').sum()\n",
      "C:\\Users\\Kenneth Lo\\AppData\\Local\\Temp\\ipykernel_7380\\2757272805.py:1: FutureWarning: The default value of numeric_only in DataFrameGroupBy.sum is deprecated. In a future version, numeric_only will default to False. Either specify numeric_only or select only columns which should be valid for the function.\n",
      "  regional_count = ad_cleaned.groupby(['icb_ons_code',\"actual_duration\"]).resample('M').sum()\n",
      "C:\\Users\\Kenneth Lo\\AppData\\Local\\Temp\\ipykernel_7380\\2757272805.py:1: FutureWarning: The default value of numeric_only in DataFrameGroupBy.sum is deprecated. In a future version, numeric_only will default to False. Either specify numeric_only or select only columns which should be valid for the function.\n",
      "  regional_count = ad_cleaned.groupby(['icb_ons_code',\"actual_duration\"]).resample('M').sum()\n",
      "C:\\Users\\Kenneth Lo\\AppData\\Local\\Temp\\ipykernel_7380\\2757272805.py:1: FutureWarning: The default value of numeric_only in DataFrameGroupBy.sum is deprecated. In a future version, numeric_only will default to False. Either specify numeric_only or select only columns which should be valid for the function.\n",
      "  regional_count = ad_cleaned.groupby(['icb_ons_code',\"actual_duration\"]).resample('M').sum()\n",
      "C:\\Users\\Kenneth Lo\\AppData\\Local\\Temp\\ipykernel_7380\\2757272805.py:1: FutureWarning: The default value of numeric_only in DataFrameGroupBy.sum is deprecated. In a future version, numeric_only will default to False. Either specify numeric_only or select only columns which should be valid for the function.\n",
      "  regional_count = ad_cleaned.groupby(['icb_ons_code',\"actual_duration\"]).resample('M').sum()\n",
      "C:\\Users\\Kenneth Lo\\AppData\\Local\\Temp\\ipykernel_7380\\2757272805.py:1: FutureWarning: The default value of numeric_only in DataFrameGroupBy.sum is deprecated. In a future version, numeric_only will default to False. Either specify numeric_only or select only columns which should be valid for the function.\n",
      "  regional_count = ad_cleaned.groupby(['icb_ons_code',\"actual_duration\"]).resample('M').sum()\n",
      "C:\\Users\\Kenneth Lo\\AppData\\Local\\Temp\\ipykernel_7380\\2757272805.py:1: FutureWarning: The default value of numeric_only in DataFrameGroupBy.sum is deprecated. In a future version, numeric_only will default to False. Either specify numeric_only or select only columns which should be valid for the function.\n",
      "  regional_count = ad_cleaned.groupby(['icb_ons_code',\"actual_duration\"]).resample('M').sum()\n",
      "C:\\Users\\Kenneth Lo\\AppData\\Local\\Temp\\ipykernel_7380\\2757272805.py:1: FutureWarning: The default value of numeric_only in DataFrameGroupBy.sum is deprecated. In a future version, numeric_only will default to False. Either specify numeric_only or select only columns which should be valid for the function.\n",
      "  regional_count = ad_cleaned.groupby(['icb_ons_code',\"actual_duration\"]).resample('M').sum()\n",
      "C:\\Users\\Kenneth Lo\\AppData\\Local\\Temp\\ipykernel_7380\\2757272805.py:1: FutureWarning: The default value of numeric_only in DataFrameGroupBy.sum is deprecated. In a future version, numeric_only will default to False. Either specify numeric_only or select only columns which should be valid for the function.\n",
      "  regional_count = ad_cleaned.groupby(['icb_ons_code',\"actual_duration\"]).resample('M').sum()\n",
      "C:\\Users\\Kenneth Lo\\AppData\\Local\\Temp\\ipykernel_7380\\2757272805.py:1: FutureWarning: The default value of numeric_only in DataFrameGroupBy.sum is deprecated. In a future version, numeric_only will default to False. Either specify numeric_only or select only columns which should be valid for the function.\n",
      "  regional_count = ad_cleaned.groupby(['icb_ons_code',\"actual_duration\"]).resample('M').sum()\n",
      "C:\\Users\\Kenneth Lo\\AppData\\Local\\Temp\\ipykernel_7380\\2757272805.py:1: FutureWarning: The default value of numeric_only in DataFrameGroupBy.sum is deprecated. In a future version, numeric_only will default to False. Either specify numeric_only or select only columns which should be valid for the function.\n",
      "  regional_count = ad_cleaned.groupby(['icb_ons_code',\"actual_duration\"]).resample('M').sum()\n",
      "C:\\Users\\Kenneth Lo\\AppData\\Local\\Temp\\ipykernel_7380\\2757272805.py:1: FutureWarning: The default value of numeric_only in DataFrameGroupBy.sum is deprecated. In a future version, numeric_only will default to False. Either specify numeric_only or select only columns which should be valid for the function.\n",
      "  regional_count = ad_cleaned.groupby(['icb_ons_code',\"actual_duration\"]).resample('M').sum()\n",
      "C:\\Users\\Kenneth Lo\\AppData\\Local\\Temp\\ipykernel_7380\\2757272805.py:1: FutureWarning: The default value of numeric_only in DataFrameGroupBy.sum is deprecated. In a future version, numeric_only will default to False. Either specify numeric_only or select only columns which should be valid for the function.\n",
      "  regional_count = ad_cleaned.groupby(['icb_ons_code',\"actual_duration\"]).resample('M').sum()\n",
      "C:\\Users\\Kenneth Lo\\AppData\\Local\\Temp\\ipykernel_7380\\2757272805.py:1: FutureWarning: The default value of numeric_only in DataFrameGroupBy.sum is deprecated. In a future version, numeric_only will default to False. Either specify numeric_only or select only columns which should be valid for the function.\n",
      "  regional_count = ad_cleaned.groupby(['icb_ons_code',\"actual_duration\"]).resample('M').sum()\n",
      "C:\\Users\\Kenneth Lo\\AppData\\Local\\Temp\\ipykernel_7380\\2757272805.py:1: FutureWarning: The default value of numeric_only in DataFrameGroupBy.sum is deprecated. In a future version, numeric_only will default to False. Either specify numeric_only or select only columns which should be valid for the function.\n",
      "  regional_count = ad_cleaned.groupby(['icb_ons_code',\"actual_duration\"]).resample('M').sum()\n",
      "C:\\Users\\Kenneth Lo\\AppData\\Local\\Temp\\ipykernel_7380\\2757272805.py:1: FutureWarning: The default value of numeric_only in DataFrameGroupBy.sum is deprecated. In a future version, numeric_only will default to False. Either specify numeric_only or select only columns which should be valid for the function.\n",
      "  regional_count = ad_cleaned.groupby(['icb_ons_code',\"actual_duration\"]).resample('M').sum()\n",
      "C:\\Users\\Kenneth Lo\\AppData\\Local\\Temp\\ipykernel_7380\\2757272805.py:1: FutureWarning: The default value of numeric_only in DataFrameGroupBy.sum is deprecated. In a future version, numeric_only will default to False. Either specify numeric_only or select only columns which should be valid for the function.\n",
      "  regional_count = ad_cleaned.groupby(['icb_ons_code',\"actual_duration\"]).resample('M').sum()\n",
      "C:\\Users\\Kenneth Lo\\AppData\\Local\\Temp\\ipykernel_7380\\2757272805.py:1: FutureWarning: The default value of numeric_only in DataFrameGroupBy.sum is deprecated. In a future version, numeric_only will default to False. Either specify numeric_only or select only columns which should be valid for the function.\n",
      "  regional_count = ad_cleaned.groupby(['icb_ons_code',\"actual_duration\"]).resample('M').sum()\n",
      "C:\\Users\\Kenneth Lo\\AppData\\Local\\Temp\\ipykernel_7380\\2757272805.py:1: FutureWarning: The default value of numeric_only in DataFrameGroupBy.sum is deprecated. In a future version, numeric_only will default to False. Either specify numeric_only or select only columns which should be valid for the function.\n",
      "  regional_count = ad_cleaned.groupby(['icb_ons_code',\"actual_duration\"]).resample('M').sum()\n",
      "C:\\Users\\Kenneth Lo\\AppData\\Local\\Temp\\ipykernel_7380\\2757272805.py:1: FutureWarning: The default value of numeric_only in DataFrameGroupBy.sum is deprecated. In a future version, numeric_only will default to False. Either specify numeric_only or select only columns which should be valid for the function.\n",
      "  regional_count = ad_cleaned.groupby(['icb_ons_code',\"actual_duration\"]).resample('M').sum()\n",
      "C:\\Users\\Kenneth Lo\\AppData\\Local\\Temp\\ipykernel_7380\\2757272805.py:1: FutureWarning: The default value of numeric_only in DataFrameGroupBy.sum is deprecated. In a future version, numeric_only will default to False. Either specify numeric_only or select only columns which should be valid for the function.\n",
      "  regional_count = ad_cleaned.groupby(['icb_ons_code',\"actual_duration\"]).resample('M').sum()\n",
      "C:\\Users\\Kenneth Lo\\AppData\\Local\\Temp\\ipykernel_7380\\2757272805.py:1: FutureWarning: The default value of numeric_only in DataFrameGroupBy.sum is deprecated. In a future version, numeric_only will default to False. Either specify numeric_only or select only columns which should be valid for the function.\n",
      "  regional_count = ad_cleaned.groupby(['icb_ons_code',\"actual_duration\"]).resample('M').sum()\n",
      "C:\\Users\\Kenneth Lo\\AppData\\Local\\Temp\\ipykernel_7380\\2757272805.py:1: FutureWarning: The default value of numeric_only in DataFrameGroupBy.sum is deprecated. In a future version, numeric_only will default to False. Either specify numeric_only or select only columns which should be valid for the function.\n",
      "  regional_count = ad_cleaned.groupby(['icb_ons_code',\"actual_duration\"]).resample('M').sum()\n",
      "C:\\Users\\Kenneth Lo\\AppData\\Local\\Temp\\ipykernel_7380\\2757272805.py:1: FutureWarning: The default value of numeric_only in DataFrameGroupBy.sum is deprecated. In a future version, numeric_only will default to False. Either specify numeric_only or select only columns which should be valid for the function.\n",
      "  regional_count = ad_cleaned.groupby(['icb_ons_code',\"actual_duration\"]).resample('M').sum()\n",
      "C:\\Users\\Kenneth Lo\\AppData\\Local\\Temp\\ipykernel_7380\\2757272805.py:1: FutureWarning: The default value of numeric_only in DataFrameGroupBy.sum is deprecated. In a future version, numeric_only will default to False. Either specify numeric_only or select only columns which should be valid for the function.\n",
      "  regional_count = ad_cleaned.groupby(['icb_ons_code',\"actual_duration\"]).resample('M').sum()\n",
      "C:\\Users\\Kenneth Lo\\AppData\\Local\\Temp\\ipykernel_7380\\2757272805.py:1: FutureWarning: The default value of numeric_only in DataFrameGroupBy.sum is deprecated. In a future version, numeric_only will default to False. Either specify numeric_only or select only columns which should be valid for the function.\n",
      "  regional_count = ad_cleaned.groupby(['icb_ons_code',\"actual_duration\"]).resample('M').sum()\n",
      "C:\\Users\\Kenneth Lo\\AppData\\Local\\Temp\\ipykernel_7380\\2757272805.py:1: FutureWarning: The default value of numeric_only in DataFrameGroupBy.sum is deprecated. In a future version, numeric_only will default to False. Either specify numeric_only or select only columns which should be valid for the function.\n",
      "  regional_count = ad_cleaned.groupby(['icb_ons_code',\"actual_duration\"]).resample('M').sum()\n",
      "C:\\Users\\Kenneth Lo\\AppData\\Local\\Temp\\ipykernel_7380\\2757272805.py:1: FutureWarning: The default value of numeric_only in DataFrameGroupBy.sum is deprecated. In a future version, numeric_only will default to False. Either specify numeric_only or select only columns which should be valid for the function.\n",
      "  regional_count = ad_cleaned.groupby(['icb_ons_code',\"actual_duration\"]).resample('M').sum()\n",
      "C:\\Users\\Kenneth Lo\\AppData\\Local\\Temp\\ipykernel_7380\\2757272805.py:1: FutureWarning: The default value of numeric_only in DataFrameGroupBy.sum is deprecated. In a future version, numeric_only will default to False. Either specify numeric_only or select only columns which should be valid for the function.\n",
      "  regional_count = ad_cleaned.groupby(['icb_ons_code',\"actual_duration\"]).resample('M').sum()\n",
      "C:\\Users\\Kenneth Lo\\AppData\\Local\\Temp\\ipykernel_7380\\2757272805.py:1: FutureWarning: The default value of numeric_only in DataFrameGroupBy.sum is deprecated. In a future version, numeric_only will default to False. Either specify numeric_only or select only columns which should be valid for the function.\n",
      "  regional_count = ad_cleaned.groupby(['icb_ons_code',\"actual_duration\"]).resample('M').sum()\n",
      "C:\\Users\\Kenneth Lo\\AppData\\Local\\Temp\\ipykernel_7380\\2757272805.py:1: FutureWarning: The default value of numeric_only in DataFrameGroupBy.sum is deprecated. In a future version, numeric_only will default to False. Either specify numeric_only or select only columns which should be valid for the function.\n",
      "  regional_count = ad_cleaned.groupby(['icb_ons_code',\"actual_duration\"]).resample('M').sum()\n",
      "C:\\Users\\Kenneth Lo\\AppData\\Local\\Temp\\ipykernel_7380\\2757272805.py:1: FutureWarning: The default value of numeric_only in DataFrameGroupBy.sum is deprecated. In a future version, numeric_only will default to False. Either specify numeric_only or select only columns which should be valid for the function.\n",
      "  regional_count = ad_cleaned.groupby(['icb_ons_code',\"actual_duration\"]).resample('M').sum()\n",
      "C:\\Users\\Kenneth Lo\\AppData\\Local\\Temp\\ipykernel_7380\\2757272805.py:1: FutureWarning: The default value of numeric_only in DataFrameGroupBy.sum is deprecated. In a future version, numeric_only will default to False. Either specify numeric_only or select only columns which should be valid for the function.\n",
      "  regional_count = ad_cleaned.groupby(['icb_ons_code',\"actual_duration\"]).resample('M').sum()\n",
      "C:\\Users\\Kenneth Lo\\AppData\\Local\\Temp\\ipykernel_7380\\2757272805.py:1: FutureWarning: The default value of numeric_only in DataFrameGroupBy.sum is deprecated. In a future version, numeric_only will default to False. Either specify numeric_only or select only columns which should be valid for the function.\n",
      "  regional_count = ad_cleaned.groupby(['icb_ons_code',\"actual_duration\"]).resample('M').sum()\n",
      "C:\\Users\\Kenneth Lo\\AppData\\Local\\Temp\\ipykernel_7380\\2757272805.py:1: FutureWarning: The default value of numeric_only in DataFrameGroupBy.sum is deprecated. In a future version, numeric_only will default to False. Either specify numeric_only or select only columns which should be valid for the function.\n",
      "  regional_count = ad_cleaned.groupby(['icb_ons_code',\"actual_duration\"]).resample('M').sum()\n",
      "C:\\Users\\Kenneth Lo\\AppData\\Local\\Temp\\ipykernel_7380\\2757272805.py:1: FutureWarning: The default value of numeric_only in DataFrameGroupBy.sum is deprecated. In a future version, numeric_only will default to False. Either specify numeric_only or select only columns which should be valid for the function.\n",
      "  regional_count = ad_cleaned.groupby(['icb_ons_code',\"actual_duration\"]).resample('M').sum()\n",
      "C:\\Users\\Kenneth Lo\\AppData\\Local\\Temp\\ipykernel_7380\\2757272805.py:1: FutureWarning: The default value of numeric_only in DataFrameGroupBy.sum is deprecated. In a future version, numeric_only will default to False. Either specify numeric_only or select only columns which should be valid for the function.\n",
      "  regional_count = ad_cleaned.groupby(['icb_ons_code',\"actual_duration\"]).resample('M').sum()\n",
      "C:\\Users\\Kenneth Lo\\AppData\\Local\\Temp\\ipykernel_7380\\2757272805.py:1: FutureWarning: The default value of numeric_only in DataFrameGroupBy.sum is deprecated. In a future version, numeric_only will default to False. Either specify numeric_only or select only columns which should be valid for the function.\n",
      "  regional_count = ad_cleaned.groupby(['icb_ons_code',\"actual_duration\"]).resample('M').sum()\n",
      "C:\\Users\\Kenneth Lo\\AppData\\Local\\Temp\\ipykernel_7380\\2757272805.py:1: FutureWarning: The default value of numeric_only in DataFrameGroupBy.sum is deprecated. In a future version, numeric_only will default to False. Either specify numeric_only or select only columns which should be valid for the function.\n",
      "  regional_count = ad_cleaned.groupby(['icb_ons_code',\"actual_duration\"]).resample('M').sum()\n",
      "C:\\Users\\Kenneth Lo\\AppData\\Local\\Temp\\ipykernel_7380\\2757272805.py:1: FutureWarning: The default value of numeric_only in DataFrameGroupBy.sum is deprecated. In a future version, numeric_only will default to False. Either specify numeric_only or select only columns which should be valid for the function.\n",
      "  regional_count = ad_cleaned.groupby(['icb_ons_code',\"actual_duration\"]).resample('M').sum()\n",
      "C:\\Users\\Kenneth Lo\\AppData\\Local\\Temp\\ipykernel_7380\\2757272805.py:1: FutureWarning: The default value of numeric_only in DataFrameGroupBy.sum is deprecated. In a future version, numeric_only will default to False. Either specify numeric_only or select only columns which should be valid for the function.\n",
      "  regional_count = ad_cleaned.groupby(['icb_ons_code',\"actual_duration\"]).resample('M').sum()\n",
      "C:\\Users\\Kenneth Lo\\AppData\\Local\\Temp\\ipykernel_7380\\2757272805.py:1: FutureWarning: The default value of numeric_only in DataFrameGroupBy.sum is deprecated. In a future version, numeric_only will default to False. Either specify numeric_only or select only columns which should be valid for the function.\n",
      "  regional_count = ad_cleaned.groupby(['icb_ons_code',\"actual_duration\"]).resample('M').sum()\n",
      "C:\\Users\\Kenneth Lo\\AppData\\Local\\Temp\\ipykernel_7380\\2757272805.py:1: FutureWarning: The default value of numeric_only in DataFrameGroupBy.sum is deprecated. In a future version, numeric_only will default to False. Either specify numeric_only or select only columns which should be valid for the function.\n",
      "  regional_count = ad_cleaned.groupby(['icb_ons_code',\"actual_duration\"]).resample('M').sum()\n",
      "C:\\Users\\Kenneth Lo\\AppData\\Local\\Temp\\ipykernel_7380\\2757272805.py:1: FutureWarning: The default value of numeric_only in DataFrameGroupBy.sum is deprecated. In a future version, numeric_only will default to False. Either specify numeric_only or select only columns which should be valid for the function.\n",
      "  regional_count = ad_cleaned.groupby(['icb_ons_code',\"actual_duration\"]).resample('M').sum()\n",
      "C:\\Users\\Kenneth Lo\\AppData\\Local\\Temp\\ipykernel_7380\\2757272805.py:1: FutureWarning: The default value of numeric_only in DataFrameGroupBy.sum is deprecated. In a future version, numeric_only will default to False. Either specify numeric_only or select only columns which should be valid for the function.\n",
      "  regional_count = ad_cleaned.groupby(['icb_ons_code',\"actual_duration\"]).resample('M').sum()\n",
      "C:\\Users\\Kenneth Lo\\AppData\\Local\\Temp\\ipykernel_7380\\2757272805.py:1: FutureWarning: The default value of numeric_only in DataFrameGroupBy.sum is deprecated. In a future version, numeric_only will default to False. Either specify numeric_only or select only columns which should be valid for the function.\n",
      "  regional_count = ad_cleaned.groupby(['icb_ons_code',\"actual_duration\"]).resample('M').sum()\n",
      "C:\\Users\\Kenneth Lo\\AppData\\Local\\Temp\\ipykernel_7380\\2757272805.py:1: FutureWarning: The default value of numeric_only in DataFrameGroupBy.sum is deprecated. In a future version, numeric_only will default to False. Either specify numeric_only or select only columns which should be valid for the function.\n",
      "  regional_count = ad_cleaned.groupby(['icb_ons_code',\"actual_duration\"]).resample('M').sum()\n",
      "C:\\Users\\Kenneth Lo\\AppData\\Local\\Temp\\ipykernel_7380\\2757272805.py:1: FutureWarning: The default value of numeric_only in DataFrameGroupBy.sum is deprecated. In a future version, numeric_only will default to False. Either specify numeric_only or select only columns which should be valid for the function.\n",
      "  regional_count = ad_cleaned.groupby(['icb_ons_code',\"actual_duration\"]).resample('M').sum()\n",
      "C:\\Users\\Kenneth Lo\\AppData\\Local\\Temp\\ipykernel_7380\\2757272805.py:1: FutureWarning: The default value of numeric_only in DataFrameGroupBy.sum is deprecated. In a future version, numeric_only will default to False. Either specify numeric_only or select only columns which should be valid for the function.\n",
      "  regional_count = ad_cleaned.groupby(['icb_ons_code',\"actual_duration\"]).resample('M').sum()\n",
      "C:\\Users\\Kenneth Lo\\AppData\\Local\\Temp\\ipykernel_7380\\2757272805.py:1: FutureWarning: The default value of numeric_only in DataFrameGroupBy.sum is deprecated. In a future version, numeric_only will default to False. Either specify numeric_only or select only columns which should be valid for the function.\n",
      "  regional_count = ad_cleaned.groupby(['icb_ons_code',\"actual_duration\"]).resample('M').sum()\n",
      "C:\\Users\\Kenneth Lo\\AppData\\Local\\Temp\\ipykernel_7380\\2757272805.py:1: FutureWarning: The default value of numeric_only in DataFrameGroupBy.sum is deprecated. In a future version, numeric_only will default to False. Either specify numeric_only or select only columns which should be valid for the function.\n",
      "  regional_count = ad_cleaned.groupby(['icb_ons_code',\"actual_duration\"]).resample('M').sum()\n",
      "C:\\Users\\Kenneth Lo\\AppData\\Local\\Temp\\ipykernel_7380\\2757272805.py:1: FutureWarning: The default value of numeric_only in DataFrameGroupBy.sum is deprecated. In a future version, numeric_only will default to False. Either specify numeric_only or select only columns which should be valid for the function.\n",
      "  regional_count = ad_cleaned.groupby(['icb_ons_code',\"actual_duration\"]).resample('M').sum()\n",
      "C:\\Users\\Kenneth Lo\\AppData\\Local\\Temp\\ipykernel_7380\\2757272805.py:1: FutureWarning: The default value of numeric_only in DataFrameGroupBy.sum is deprecated. In a future version, numeric_only will default to False. Either specify numeric_only or select only columns which should be valid for the function.\n",
      "  regional_count = ad_cleaned.groupby(['icb_ons_code',\"actual_duration\"]).resample('M').sum()\n"
     ]
    }
   ],
   "source": [
    "regional_count = ad_cleaned.groupby(['icb_ons_code',\"actual_duration\"]).resample('M').sum()"
   ]
  },
  {
   "cell_type": "code",
   "execution_count": null,
   "id": "e528e2ca",
   "metadata": {},
   "outputs": [],
   "source": []
  },
  {
   "cell_type": "code",
   "execution_count": 301,
   "id": "021cb38f",
   "metadata": {},
   "outputs": [
    {
     "data": {
      "text/html": [
       "<div>\n",
       "<style scoped>\n",
       "    .dataframe tbody tr th:only-of-type {\n",
       "        vertical-align: middle;\n",
       "    }\n",
       "\n",
       "    .dataframe tbody tr th {\n",
       "        vertical-align: top;\n",
       "    }\n",
       "\n",
       "    .dataframe thead th {\n",
       "        text-align: right;\n",
       "    }\n",
       "</style>\n",
       "<table border=\"1\" class=\"dataframe\">\n",
       "  <thead>\n",
       "    <tr style=\"text-align: right;\">\n",
       "      <th></th>\n",
       "      <th>icb_ons_code</th>\n",
       "      <th>actual_duration</th>\n",
       "      <th>daily_total_duration</th>\n",
       "    </tr>\n",
       "    <tr>\n",
       "      <th>appointment_date</th>\n",
       "      <th></th>\n",
       "      <th></th>\n",
       "      <th></th>\n",
       "    </tr>\n",
       "  </thead>\n",
       "  <tbody>\n",
       "    <tr>\n",
       "      <th>2021-12-31</th>\n",
       "      <td>E54000008</td>\n",
       "      <td>1-5</td>\n",
       "      <td>504240.0</td>\n",
       "    </tr>\n",
       "    <tr>\n",
       "      <th>2022-01-31</th>\n",
       "      <td>E54000008</td>\n",
       "      <td>1-5</td>\n",
       "      <td>473562.0</td>\n",
       "    </tr>\n",
       "    <tr>\n",
       "      <th>2022-02-28</th>\n",
       "      <td>E54000008</td>\n",
       "      <td>1-5</td>\n",
       "      <td>470154.0</td>\n",
       "    </tr>\n",
       "    <tr>\n",
       "      <th>2022-03-31</th>\n",
       "      <td>E54000008</td>\n",
       "      <td>1-5</td>\n",
       "      <td>552672.0</td>\n",
       "    </tr>\n",
       "    <tr>\n",
       "      <th>2022-04-30</th>\n",
       "      <td>E54000008</td>\n",
       "      <td>1-5</td>\n",
       "      <td>445119.0</td>\n",
       "    </tr>\n",
       "    <tr>\n",
       "      <th>...</th>\n",
       "      <td>...</td>\n",
       "      <td>...</td>\n",
       "      <td>...</td>\n",
       "    </tr>\n",
       "    <tr>\n",
       "      <th>2022-02-28</th>\n",
       "      <td>E54000062</td>\n",
       "      <td>6-10</td>\n",
       "      <td>826944.0</td>\n",
       "    </tr>\n",
       "    <tr>\n",
       "      <th>2022-03-31</th>\n",
       "      <td>E54000062</td>\n",
       "      <td>6-10</td>\n",
       "      <td>957216.0</td>\n",
       "    </tr>\n",
       "    <tr>\n",
       "      <th>2022-04-30</th>\n",
       "      <td>E54000062</td>\n",
       "      <td>6-10</td>\n",
       "      <td>754008.0</td>\n",
       "    </tr>\n",
       "    <tr>\n",
       "      <th>2022-05-31</th>\n",
       "      <td>E54000062</td>\n",
       "      <td>6-10</td>\n",
       "      <td>874568.0</td>\n",
       "    </tr>\n",
       "    <tr>\n",
       "      <th>2022-06-30</th>\n",
       "      <td>E54000062</td>\n",
       "      <td>6-10</td>\n",
       "      <td>844008.0</td>\n",
       "    </tr>\n",
       "  </tbody>\n",
       "</table>\n",
       "<p>1764 rows × 3 columns</p>\n",
       "</div>"
      ],
      "text/plain": [
       "                 icb_ons_code actual_duration  daily_total_duration\n",
       "appointment_date                                                   \n",
       "2021-12-31          E54000008            1-5               504240.0\n",
       "2022-01-31          E54000008            1-5               473562.0\n",
       "2022-02-28          E54000008            1-5               470154.0\n",
       "2022-03-31          E54000008            1-5               552672.0\n",
       "2022-04-30          E54000008            1-5               445119.0\n",
       "...                       ...             ...                   ...\n",
       "2022-02-28          E54000062           6-10               826944.0\n",
       "2022-03-31          E54000062           6-10               957216.0\n",
       "2022-04-30          E54000062           6-10               754008.0\n",
       "2022-05-31          E54000062           6-10               874568.0\n",
       "2022-06-30          E54000062           6-10               844008.0\n",
       "\n",
       "[1764 rows x 3 columns]"
      ]
     },
     "execution_count": 301,
     "metadata": {},
     "output_type": "execute_result"
    }
   ],
   "source": [
    "regional_count.reset_index(inplace=True)\n",
    "regional_count.set_index('appointment_date', drop=True)"
   ]
  },
  {
   "cell_type": "code",
   "execution_count": null,
   "id": "ef09b933",
   "metadata": {},
   "outputs": [],
   "source": []
  },
  {
   "cell_type": "code",
   "execution_count": 302,
   "id": "8df65d32",
   "metadata": {},
   "outputs": [],
   "source": [
    "# Rename the columns\n",
    "regional_count.rename(columns={\"actual_duration\":\"duration_class\",\n",
    "                               \"daily_total_duration\":\"SUM_Duration(mins)\"},\n",
    "                      inplace=True)"
   ]
  },
  {
   "cell_type": "code",
   "execution_count": 303,
   "id": "add7a319",
   "metadata": {},
   "outputs": [
    {
     "data": {
      "text/html": [
       "<div>\n",
       "<style scoped>\n",
       "    .dataframe tbody tr th:only-of-type {\n",
       "        vertical-align: middle;\n",
       "    }\n",
       "\n",
       "    .dataframe tbody tr th {\n",
       "        vertical-align: top;\n",
       "    }\n",
       "\n",
       "    .dataframe thead th {\n",
       "        text-align: right;\n",
       "    }\n",
       "</style>\n",
       "<table border=\"1\" class=\"dataframe\">\n",
       "  <thead>\n",
       "    <tr style=\"text-align: right;\">\n",
       "      <th></th>\n",
       "      <th>icb_ons_code</th>\n",
       "      <th>duration_class</th>\n",
       "      <th>appointment_date</th>\n",
       "      <th>SUM_Duration(mins)</th>\n",
       "    </tr>\n",
       "  </thead>\n",
       "  <tbody>\n",
       "    <tr>\n",
       "      <th>0</th>\n",
       "      <td>E54000008</td>\n",
       "      <td>1-5</td>\n",
       "      <td>2021-12-31</td>\n",
       "      <td>504240.0</td>\n",
       "    </tr>\n",
       "    <tr>\n",
       "      <th>1</th>\n",
       "      <td>E54000008</td>\n",
       "      <td>1-5</td>\n",
       "      <td>2022-01-31</td>\n",
       "      <td>473562.0</td>\n",
       "    </tr>\n",
       "    <tr>\n",
       "      <th>2</th>\n",
       "      <td>E54000008</td>\n",
       "      <td>1-5</td>\n",
       "      <td>2022-02-28</td>\n",
       "      <td>470154.0</td>\n",
       "    </tr>\n",
       "    <tr>\n",
       "      <th>3</th>\n",
       "      <td>E54000008</td>\n",
       "      <td>1-5</td>\n",
       "      <td>2022-03-31</td>\n",
       "      <td>552672.0</td>\n",
       "    </tr>\n",
       "    <tr>\n",
       "      <th>4</th>\n",
       "      <td>E54000008</td>\n",
       "      <td>1-5</td>\n",
       "      <td>2022-04-30</td>\n",
       "      <td>445119.0</td>\n",
       "    </tr>\n",
       "    <tr>\n",
       "      <th>...</th>\n",
       "      <td>...</td>\n",
       "      <td>...</td>\n",
       "      <td>...</td>\n",
       "      <td>...</td>\n",
       "    </tr>\n",
       "    <tr>\n",
       "      <th>1759</th>\n",
       "      <td>E54000062</td>\n",
       "      <td>6-10</td>\n",
       "      <td>2022-02-28</td>\n",
       "      <td>826944.0</td>\n",
       "    </tr>\n",
       "    <tr>\n",
       "      <th>1760</th>\n",
       "      <td>E54000062</td>\n",
       "      <td>6-10</td>\n",
       "      <td>2022-03-31</td>\n",
       "      <td>957216.0</td>\n",
       "    </tr>\n",
       "    <tr>\n",
       "      <th>1761</th>\n",
       "      <td>E54000062</td>\n",
       "      <td>6-10</td>\n",
       "      <td>2022-04-30</td>\n",
       "      <td>754008.0</td>\n",
       "    </tr>\n",
       "    <tr>\n",
       "      <th>1762</th>\n",
       "      <td>E54000062</td>\n",
       "      <td>6-10</td>\n",
       "      <td>2022-05-31</td>\n",
       "      <td>874568.0</td>\n",
       "    </tr>\n",
       "    <tr>\n",
       "      <th>1763</th>\n",
       "      <td>E54000062</td>\n",
       "      <td>6-10</td>\n",
       "      <td>2022-06-30</td>\n",
       "      <td>844008.0</td>\n",
       "    </tr>\n",
       "  </tbody>\n",
       "</table>\n",
       "<p>1764 rows × 4 columns</p>\n",
       "</div>"
      ],
      "text/plain": [
       "     icb_ons_code duration_class appointment_date  SUM_Duration(mins)\n",
       "0       E54000008           1-5        2021-12-31            504240.0\n",
       "1       E54000008           1-5        2022-01-31            473562.0\n",
       "2       E54000008           1-5        2022-02-28            470154.0\n",
       "3       E54000008           1-5        2022-03-31            552672.0\n",
       "4       E54000008           1-5        2022-04-30            445119.0\n",
       "...           ...            ...              ...                 ...\n",
       "1759    E54000062          6-10        2022-02-28            826944.0\n",
       "1760    E54000062          6-10        2022-03-31            957216.0\n",
       "1761    E54000062          6-10        2022-04-30            754008.0\n",
       "1762    E54000062          6-10        2022-05-31            874568.0\n",
       "1763    E54000062          6-10        2022-06-30            844008.0\n",
       "\n",
       "[1764 rows x 4 columns]"
      ]
     },
     "execution_count": 303,
     "metadata": {},
     "output_type": "execute_result"
    }
   ],
   "source": [
    "regional_count"
   ]
  },
  {
   "cell_type": "code",
   "execution_count": null,
   "id": "9b0c6b35",
   "metadata": {},
   "outputs": [],
   "source": []
  },
  {
   "cell_type": "code",
   "execution_count": 304,
   "id": "cbd307e5",
   "metadata": {},
   "outputs": [
    {
     "data": {
      "text/html": [
       "<div>\n",
       "<style scoped>\n",
       "    .dataframe tbody tr th:only-of-type {\n",
       "        vertical-align: middle;\n",
       "    }\n",
       "\n",
       "    .dataframe tbody tr th {\n",
       "        vertical-align: top;\n",
       "    }\n",
       "\n",
       "    .dataframe thead th {\n",
       "        text-align: right;\n",
       "    }\n",
       "</style>\n",
       "<table border=\"1\" class=\"dataframe\">\n",
       "  <thead>\n",
       "    <tr style=\"text-align: right;\">\n",
       "      <th></th>\n",
       "      <th>icb_ons_code</th>\n",
       "      <th>duration_class</th>\n",
       "      <th>SUM_Duration(mins)</th>\n",
       "    </tr>\n",
       "    <tr>\n",
       "      <th>appointment_date</th>\n",
       "      <th></th>\n",
       "      <th></th>\n",
       "      <th></th>\n",
       "    </tr>\n",
       "  </thead>\n",
       "  <tbody>\n",
       "    <tr>\n",
       "      <th>2021-12-31</th>\n",
       "      <td>E54000008</td>\n",
       "      <td>1-5</td>\n",
       "      <td>504240.0</td>\n",
       "    </tr>\n",
       "    <tr>\n",
       "      <th>2022-01-31</th>\n",
       "      <td>E54000008</td>\n",
       "      <td>1-5</td>\n",
       "      <td>473562.0</td>\n",
       "    </tr>\n",
       "    <tr>\n",
       "      <th>2022-02-28</th>\n",
       "      <td>E54000008</td>\n",
       "      <td>1-5</td>\n",
       "      <td>470154.0</td>\n",
       "    </tr>\n",
       "    <tr>\n",
       "      <th>2022-03-31</th>\n",
       "      <td>E54000008</td>\n",
       "      <td>1-5</td>\n",
       "      <td>552672.0</td>\n",
       "    </tr>\n",
       "    <tr>\n",
       "      <th>2022-04-30</th>\n",
       "      <td>E54000008</td>\n",
       "      <td>1-5</td>\n",
       "      <td>445119.0</td>\n",
       "    </tr>\n",
       "    <tr>\n",
       "      <th>...</th>\n",
       "      <td>...</td>\n",
       "      <td>...</td>\n",
       "      <td>...</td>\n",
       "    </tr>\n",
       "    <tr>\n",
       "      <th>2022-02-28</th>\n",
       "      <td>E54000062</td>\n",
       "      <td>6-10</td>\n",
       "      <td>826944.0</td>\n",
       "    </tr>\n",
       "    <tr>\n",
       "      <th>2022-03-31</th>\n",
       "      <td>E54000062</td>\n",
       "      <td>6-10</td>\n",
       "      <td>957216.0</td>\n",
       "    </tr>\n",
       "    <tr>\n",
       "      <th>2022-04-30</th>\n",
       "      <td>E54000062</td>\n",
       "      <td>6-10</td>\n",
       "      <td>754008.0</td>\n",
       "    </tr>\n",
       "    <tr>\n",
       "      <th>2022-05-31</th>\n",
       "      <td>E54000062</td>\n",
       "      <td>6-10</td>\n",
       "      <td>874568.0</td>\n",
       "    </tr>\n",
       "    <tr>\n",
       "      <th>2022-06-30</th>\n",
       "      <td>E54000062</td>\n",
       "      <td>6-10</td>\n",
       "      <td>844008.0</td>\n",
       "    </tr>\n",
       "  </tbody>\n",
       "</table>\n",
       "<p>1764 rows × 3 columns</p>\n",
       "</div>"
      ],
      "text/plain": [
       "                 icb_ons_code duration_class  SUM_Duration(mins)\n",
       "appointment_date                                                \n",
       "2021-12-31          E54000008           1-5             504240.0\n",
       "2022-01-31          E54000008           1-5             473562.0\n",
       "2022-02-28          E54000008           1-5             470154.0\n",
       "2022-03-31          E54000008           1-5             552672.0\n",
       "2022-04-30          E54000008           1-5             445119.0\n",
       "...                       ...            ...                 ...\n",
       "2022-02-28          E54000062          6-10             826944.0\n",
       "2022-03-31          E54000062          6-10             957216.0\n",
       "2022-04-30          E54000062          6-10             754008.0\n",
       "2022-05-31          E54000062          6-10             874568.0\n",
       "2022-06-30          E54000062          6-10             844008.0\n",
       "\n",
       "[1764 rows x 3 columns]"
      ]
     },
     "execution_count": 304,
     "metadata": {},
     "output_type": "execute_result"
    }
   ],
   "source": [
    "regional_count.set_index(\"appointment_date\", drop=True)"
   ]
  },
  {
   "cell_type": "code",
   "execution_count": null,
   "id": "ee7ddadb",
   "metadata": {},
   "outputs": [],
   "source": []
  },
  {
   "cell_type": "code",
   "execution_count": null,
   "id": "ae9bf3d0",
   "metadata": {},
   "outputs": [],
   "source": []
  },
  {
   "cell_type": "code",
   "execution_count": null,
   "id": "b56a4f0e",
   "metadata": {},
   "outputs": [],
   "source": []
  },
  {
   "cell_type": "code",
   "execution_count": null,
   "id": "d4c414f2",
   "metadata": {},
   "outputs": [],
   "source": []
  },
  {
   "cell_type": "code",
   "execution_count": null,
   "id": "fb1450e2",
   "metadata": {},
   "outputs": [],
   "source": []
  },
  {
   "cell_type": "code",
   "execution_count": null,
   "id": "1fdfae1c",
   "metadata": {},
   "outputs": [],
   "source": []
  },
  {
   "cell_type": "code",
   "execution_count": null,
   "id": "c438cd86",
   "metadata": {},
   "outputs": [],
   "source": []
  },
  {
   "cell_type": "code",
   "execution_count": null,
   "id": "eec9bb36",
   "metadata": {},
   "outputs": [],
   "source": []
  },
  {
   "cell_type": "code",
   "execution_count": null,
   "id": "5bf0d2a3",
   "metadata": {},
   "outputs": [],
   "source": []
  },
  {
   "cell_type": "code",
   "execution_count": null,
   "id": "034f0492",
   "metadata": {},
   "outputs": [],
   "source": []
  },
  {
   "cell_type": "code",
   "execution_count": null,
   "id": "89d1dc55",
   "metadata": {},
   "outputs": [],
   "source": []
  },
  {
   "cell_type": "code",
   "execution_count": null,
   "id": "24190850",
   "metadata": {},
   "outputs": [],
   "source": []
  },
  {
   "cell_type": "code",
   "execution_count": null,
   "id": "696e3aa3",
   "metadata": {},
   "outputs": [],
   "source": []
  },
  {
   "cell_type": "code",
   "execution_count": null,
   "id": "35ce6ec0",
   "metadata": {},
   "outputs": [],
   "source": []
  },
  {
   "cell_type": "code",
   "execution_count": null,
   "id": "64f2528d",
   "metadata": {},
   "outputs": [],
   "source": []
  },
  {
   "cell_type": "code",
   "execution_count": null,
   "id": "6d86152c",
   "metadata": {},
   "outputs": [],
   "source": []
  },
  {
   "cell_type": "code",
   "execution_count": null,
   "id": "84cad4fd",
   "metadata": {},
   "outputs": [],
   "source": []
  },
  {
   "cell_type": "code",
   "execution_count": null,
   "id": "67317429",
   "metadata": {},
   "outputs": [],
   "source": []
  },
  {
   "cell_type": "code",
   "execution_count": null,
   "id": "04c7c620",
   "metadata": {},
   "outputs": [],
   "source": []
  },
  {
   "cell_type": "code",
   "execution_count": null,
   "id": "6590c53e",
   "metadata": {},
   "outputs": [],
   "source": []
  },
  {
   "cell_type": "code",
   "execution_count": null,
   "id": "511e75ea",
   "metadata": {},
   "outputs": [],
   "source": []
  },
  {
   "cell_type": "code",
   "execution_count": null,
   "id": "2f53cb28",
   "metadata": {},
   "outputs": [],
   "source": []
  },
  {
   "cell_type": "code",
   "execution_count": null,
   "id": "a8cd8cf8",
   "metadata": {},
   "outputs": [],
   "source": []
  },
  {
   "cell_type": "code",
   "execution_count": null,
   "id": "d1569621",
   "metadata": {},
   "outputs": [],
   "source": []
  },
  {
   "cell_type": "code",
   "execution_count": null,
   "id": "a05cc873",
   "metadata": {},
   "outputs": [],
   "source": []
  },
  {
   "cell_type": "code",
   "execution_count": null,
   "id": "d5a65fed",
   "metadata": {},
   "outputs": [],
   "source": []
  },
  {
   "cell_type": "code",
   "execution_count": null,
   "id": "c402914d",
   "metadata": {},
   "outputs": [],
   "source": []
  },
  {
   "cell_type": "code",
   "execution_count": null,
   "id": "e79b673c",
   "metadata": {},
   "outputs": [],
   "source": []
  },
  {
   "cell_type": "code",
   "execution_count": null,
   "id": "0df929d9",
   "metadata": {},
   "outputs": [],
   "source": []
  },
  {
   "cell_type": "code",
   "execution_count": null,
   "id": "fb6cb56a",
   "metadata": {},
   "outputs": [],
   "source": []
  },
  {
   "cell_type": "code",
   "execution_count": null,
   "id": "faf78ea2",
   "metadata": {},
   "outputs": [],
   "source": []
  },
  {
   "cell_type": "code",
   "execution_count": null,
   "id": "17f775b9",
   "metadata": {},
   "outputs": [],
   "source": []
  },
  {
   "cell_type": "code",
   "execution_count": null,
   "id": "2f7844a2",
   "metadata": {},
   "outputs": [],
   "source": []
  },
  {
   "cell_type": "code",
   "execution_count": null,
   "id": "2f607f28",
   "metadata": {},
   "outputs": [],
   "source": []
  },
  {
   "cell_type": "code",
   "execution_count": null,
   "id": "72b333ff",
   "metadata": {},
   "outputs": [],
   "source": []
  },
  {
   "cell_type": "code",
   "execution_count": null,
   "id": "00493a20",
   "metadata": {},
   "outputs": [],
   "source": []
  },
  {
   "cell_type": "code",
   "execution_count": null,
   "id": "9564ea93",
   "metadata": {},
   "outputs": [],
   "source": []
  },
  {
   "cell_type": "code",
   "execution_count": null,
   "id": "20439b01",
   "metadata": {},
   "outputs": [],
   "source": []
  },
  {
   "cell_type": "code",
   "execution_count": null,
   "id": "8179e714",
   "metadata": {},
   "outputs": [],
   "source": []
  },
  {
   "cell_type": "code",
   "execution_count": null,
   "id": "ea2790f6",
   "metadata": {},
   "outputs": [],
   "source": []
  },
  {
   "cell_type": "code",
   "execution_count": null,
   "id": "4feced56",
   "metadata": {},
   "outputs": [],
   "source": []
  },
  {
   "cell_type": "code",
   "execution_count": null,
   "id": "c17c52e7",
   "metadata": {},
   "outputs": [],
   "source": []
  },
  {
   "cell_type": "code",
   "execution_count": null,
   "id": "2ef47988",
   "metadata": {},
   "outputs": [],
   "source": []
  },
  {
   "cell_type": "code",
   "execution_count": null,
   "id": "7dc5ad32",
   "metadata": {},
   "outputs": [],
   "source": []
  },
  {
   "cell_type": "code",
   "execution_count": null,
   "id": "08bcc330",
   "metadata": {},
   "outputs": [],
   "source": []
  },
  {
   "cell_type": "code",
   "execution_count": null,
   "id": "1ecadf4e",
   "metadata": {},
   "outputs": [],
   "source": []
  },
  {
   "cell_type": "code",
   "execution_count": null,
   "id": "3170c3a1",
   "metadata": {},
   "outputs": [],
   "source": []
  },
  {
   "cell_type": "code",
   "execution_count": null,
   "id": "1c8f9823",
   "metadata": {},
   "outputs": [],
   "source": []
  },
  {
   "cell_type": "code",
   "execution_count": null,
   "id": "d80b1b94",
   "metadata": {},
   "outputs": [],
   "source": []
  },
  {
   "cell_type": "code",
   "execution_count": null,
   "id": "21c0c35f",
   "metadata": {},
   "outputs": [],
   "source": []
  },
  {
   "cell_type": "code",
   "execution_count": null,
   "id": "dfd9acab",
   "metadata": {},
   "outputs": [],
   "source": []
  },
  {
   "cell_type": "code",
   "execution_count": null,
   "id": "f7147c8e",
   "metadata": {},
   "outputs": [],
   "source": []
  },
  {
   "cell_type": "code",
   "execution_count": null,
   "id": "d7107828",
   "metadata": {},
   "outputs": [],
   "source": []
  },
  {
   "cell_type": "code",
   "execution_count": null,
   "id": "9a3c1243",
   "metadata": {},
   "outputs": [],
   "source": []
  },
  {
   "cell_type": "code",
   "execution_count": null,
   "id": "7c51592f",
   "metadata": {},
   "outputs": [],
   "source": []
  },
  {
   "cell_type": "code",
   "execution_count": null,
   "id": "19cbbf8a",
   "metadata": {},
   "outputs": [],
   "source": []
  },
  {
   "cell_type": "code",
   "execution_count": null,
   "id": "c35a262c",
   "metadata": {},
   "outputs": [],
   "source": []
  },
  {
   "cell_type": "code",
   "execution_count": null,
   "id": "4dbd2fa7",
   "metadata": {},
   "outputs": [],
   "source": []
  },
  {
   "cell_type": "code",
   "execution_count": null,
   "id": "51bdd715",
   "metadata": {},
   "outputs": [],
   "source": []
  },
  {
   "cell_type": "code",
   "execution_count": null,
   "id": "be2dab63",
   "metadata": {},
   "outputs": [],
   "source": []
  },
  {
   "cell_type": "code",
   "execution_count": null,
   "id": "eaff1ffe",
   "metadata": {},
   "outputs": [],
   "source": []
  },
  {
   "cell_type": "code",
   "execution_count": null,
   "id": "9a57ad6b",
   "metadata": {},
   "outputs": [],
   "source": []
  },
  {
   "cell_type": "code",
   "execution_count": null,
   "id": "23022acc",
   "metadata": {},
   "outputs": [],
   "source": []
  },
  {
   "cell_type": "code",
   "execution_count": null,
   "id": "4e9f3442",
   "metadata": {},
   "outputs": [],
   "source": []
  },
  {
   "cell_type": "code",
   "execution_count": null,
   "id": "0d779db0",
   "metadata": {},
   "outputs": [],
   "source": []
  },
  {
   "cell_type": "code",
   "execution_count": null,
   "id": "bb9d7bc8",
   "metadata": {},
   "outputs": [],
   "source": []
  },
  {
   "cell_type": "code",
   "execution_count": null,
   "id": "b018e375",
   "metadata": {},
   "outputs": [],
   "source": []
  },
  {
   "cell_type": "code",
   "execution_count": null,
   "id": "e98cb149",
   "metadata": {},
   "outputs": [],
   "source": []
  },
  {
   "cell_type": "code",
   "execution_count": null,
   "id": "ad4d3af8",
   "metadata": {},
   "outputs": [],
   "source": []
  },
  {
   "cell_type": "code",
   "execution_count": null,
   "id": "8217b20e",
   "metadata": {},
   "outputs": [],
   "source": []
  },
  {
   "cell_type": "code",
   "execution_count": null,
   "id": "4240dfec",
   "metadata": {},
   "outputs": [],
   "source": []
  },
  {
   "cell_type": "code",
   "execution_count": null,
   "id": "5ee765a4",
   "metadata": {},
   "outputs": [],
   "source": []
  },
  {
   "cell_type": "code",
   "execution_count": null,
   "id": "d9bdda49",
   "metadata": {},
   "outputs": [],
   "source": []
  },
  {
   "cell_type": "code",
   "execution_count": null,
   "id": "eb6d2954",
   "metadata": {},
   "outputs": [],
   "source": []
  },
  {
   "cell_type": "code",
   "execution_count": null,
   "id": "5de4eb15",
   "metadata": {},
   "outputs": [],
   "source": []
  },
  {
   "cell_type": "code",
   "execution_count": null,
   "id": "088d49a5",
   "metadata": {},
   "outputs": [],
   "source": []
  },
  {
   "cell_type": "code",
   "execution_count": null,
   "id": "b3ac3f1a",
   "metadata": {},
   "outputs": [],
   "source": []
  },
  {
   "cell_type": "code",
   "execution_count": null,
   "id": "82ddb35a",
   "metadata": {},
   "outputs": [],
   "source": []
  },
  {
   "cell_type": "code",
   "execution_count": null,
   "id": "59bd91ff",
   "metadata": {},
   "outputs": [],
   "source": []
  },
  {
   "cell_type": "code",
   "execution_count": null,
   "id": "15d74361",
   "metadata": {},
   "outputs": [],
   "source": []
  },
  {
   "cell_type": "code",
   "execution_count": null,
   "id": "4b31b170",
   "metadata": {},
   "outputs": [],
   "source": []
  },
  {
   "cell_type": "code",
   "execution_count": null,
   "id": "4b26a13b",
   "metadata": {},
   "outputs": [],
   "source": []
  },
  {
   "cell_type": "code",
   "execution_count": null,
   "id": "7b1732fc",
   "metadata": {},
   "outputs": [],
   "source": []
  },
  {
   "cell_type": "code",
   "execution_count": null,
   "id": "3223f3e2",
   "metadata": {},
   "outputs": [],
   "source": []
  },
  {
   "cell_type": "code",
   "execution_count": null,
   "id": "2fcef116",
   "metadata": {},
   "outputs": [],
   "source": []
  },
  {
   "cell_type": "code",
   "execution_count": null,
   "id": "988779a2",
   "metadata": {},
   "outputs": [],
   "source": []
  },
  {
   "cell_type": "code",
   "execution_count": null,
   "id": "a322a32e",
   "metadata": {},
   "outputs": [],
   "source": []
  },
  {
   "cell_type": "code",
   "execution_count": null,
   "id": "a3812ef4",
   "metadata": {},
   "outputs": [],
   "source": []
  },
  {
   "cell_type": "code",
   "execution_count": null,
   "id": "97759806",
   "metadata": {},
   "outputs": [],
   "source": []
  },
  {
   "cell_type": "code",
   "execution_count": null,
   "id": "2af6b31f",
   "metadata": {},
   "outputs": [],
   "source": []
  },
  {
   "cell_type": "code",
   "execution_count": null,
   "id": "3f075415",
   "metadata": {},
   "outputs": [],
   "source": []
  },
  {
   "cell_type": "code",
   "execution_count": null,
   "id": "663c7aaf",
   "metadata": {},
   "outputs": [],
   "source": []
  },
  {
   "cell_type": "code",
   "execution_count": null,
   "id": "0aa0ef99",
   "metadata": {},
   "outputs": [],
   "source": []
  },
  {
   "cell_type": "code",
   "execution_count": null,
   "id": "01d51f25",
   "metadata": {},
   "outputs": [],
   "source": []
  },
  {
   "cell_type": "code",
   "execution_count": null,
   "id": "06f5674c",
   "metadata": {},
   "outputs": [],
   "source": []
  },
  {
   "cell_type": "code",
   "execution_count": null,
   "id": "05176bce",
   "metadata": {},
   "outputs": [],
   "source": []
  },
  {
   "cell_type": "code",
   "execution_count": null,
   "id": "a73359f2",
   "metadata": {},
   "outputs": [],
   "source": []
  },
  {
   "cell_type": "code",
   "execution_count": null,
   "id": "bd5996c8",
   "metadata": {},
   "outputs": [],
   "source": []
  },
  {
   "cell_type": "code",
   "execution_count": null,
   "id": "b33fd73d",
   "metadata": {},
   "outputs": [],
   "source": []
  },
  {
   "cell_type": "code",
   "execution_count": null,
   "id": "8672a349",
   "metadata": {},
   "outputs": [],
   "source": []
  },
  {
   "cell_type": "code",
   "execution_count": null,
   "id": "06754a70",
   "metadata": {},
   "outputs": [],
   "source": []
  },
  {
   "cell_type": "code",
   "execution_count": null,
   "id": "a9ee87c5",
   "metadata": {},
   "outputs": [],
   "source": []
  },
  {
   "cell_type": "code",
   "execution_count": null,
   "id": "34423ae3",
   "metadata": {},
   "outputs": [],
   "source": []
  },
  {
   "cell_type": "code",
   "execution_count": null,
   "id": "01b483d2",
   "metadata": {},
   "outputs": [],
   "source": []
  },
  {
   "cell_type": "code",
   "execution_count": null,
   "id": "2e4bff19",
   "metadata": {},
   "outputs": [],
   "source": []
  },
  {
   "cell_type": "code",
   "execution_count": null,
   "id": "cd018d03",
   "metadata": {},
   "outputs": [],
   "source": []
  },
  {
   "cell_type": "code",
   "execution_count": null,
   "id": "4fc1c2d7",
   "metadata": {},
   "outputs": [],
   "source": []
  },
  {
   "cell_type": "code",
   "execution_count": null,
   "id": "6749ef7a",
   "metadata": {},
   "outputs": [],
   "source": []
  },
  {
   "cell_type": "code",
   "execution_count": null,
   "id": "5a1c3c74",
   "metadata": {},
   "outputs": [],
   "source": []
  },
  {
   "cell_type": "code",
   "execution_count": null,
   "id": "2fb6ab9b",
   "metadata": {},
   "outputs": [],
   "source": []
  },
  {
   "cell_type": "code",
   "execution_count": null,
   "id": "271427f0",
   "metadata": {},
   "outputs": [],
   "source": []
  },
  {
   "cell_type": "code",
   "execution_count": null,
   "id": "8e273624",
   "metadata": {},
   "outputs": [],
   "source": []
  },
  {
   "cell_type": "code",
   "execution_count": null,
   "id": "ebc8ed23",
   "metadata": {},
   "outputs": [],
   "source": []
  },
  {
   "cell_type": "code",
   "execution_count": null,
   "id": "b7edb23b",
   "metadata": {},
   "outputs": [],
   "source": []
  },
  {
   "cell_type": "code",
   "execution_count": null,
   "id": "d5d1384c",
   "metadata": {},
   "outputs": [],
   "source": []
  },
  {
   "cell_type": "code",
   "execution_count": null,
   "id": "6484dd9d",
   "metadata": {},
   "outputs": [],
   "source": []
  },
  {
   "cell_type": "code",
   "execution_count": null,
   "id": "c70475dd",
   "metadata": {},
   "outputs": [],
   "source": []
  },
  {
   "cell_type": "code",
   "execution_count": null,
   "id": "91ef18a2",
   "metadata": {},
   "outputs": [],
   "source": []
  },
  {
   "cell_type": "code",
   "execution_count": null,
   "id": "395fe3e1",
   "metadata": {},
   "outputs": [],
   "source": []
  },
  {
   "cell_type": "code",
   "execution_count": null,
   "id": "49019215",
   "metadata": {},
   "outputs": [],
   "source": []
  },
  {
   "cell_type": "code",
   "execution_count": null,
   "id": "10687ac3",
   "metadata": {},
   "outputs": [],
   "source": []
  },
  {
   "cell_type": "code",
   "execution_count": null,
   "id": "a1f2448d",
   "metadata": {},
   "outputs": [],
   "source": []
  },
  {
   "cell_type": "code",
   "execution_count": null,
   "id": "9ec3f636",
   "metadata": {},
   "outputs": [],
   "source": []
  },
  {
   "cell_type": "code",
   "execution_count": null,
   "id": "d6958512",
   "metadata": {},
   "outputs": [],
   "source": []
  },
  {
   "cell_type": "code",
   "execution_count": null,
   "id": "5c755403",
   "metadata": {},
   "outputs": [],
   "source": []
  },
  {
   "cell_type": "code",
   "execution_count": null,
   "id": "f770d5ff",
   "metadata": {},
   "outputs": [],
   "source": []
  },
  {
   "cell_type": "code",
   "execution_count": null,
   "id": "d85b49be",
   "metadata": {},
   "outputs": [],
   "source": []
  },
  {
   "cell_type": "code",
   "execution_count": null,
   "id": "81a4a812",
   "metadata": {},
   "outputs": [],
   "source": []
  },
  {
   "cell_type": "code",
   "execution_count": null,
   "id": "6ac01a94",
   "metadata": {},
   "outputs": [],
   "source": []
  },
  {
   "cell_type": "code",
   "execution_count": null,
   "id": "cabcd949",
   "metadata": {},
   "outputs": [],
   "source": []
  },
  {
   "cell_type": "code",
   "execution_count": null,
   "id": "3c4916a8",
   "metadata": {},
   "outputs": [],
   "source": []
  },
  {
   "cell_type": "code",
   "execution_count": null,
   "id": "2da3ed27",
   "metadata": {},
   "outputs": [],
   "source": []
  },
  {
   "cell_type": "code",
   "execution_count": null,
   "id": "fc2dec0d",
   "metadata": {},
   "outputs": [],
   "source": []
  },
  {
   "cell_type": "code",
   "execution_count": null,
   "id": "67666a24",
   "metadata": {},
   "outputs": [],
   "source": []
  },
  {
   "cell_type": "code",
   "execution_count": null,
   "id": "e285bc57",
   "metadata": {},
   "outputs": [],
   "source": []
  },
  {
   "cell_type": "code",
   "execution_count": null,
   "id": "6f3925c9",
   "metadata": {},
   "outputs": [],
   "source": []
  },
  {
   "cell_type": "code",
   "execution_count": null,
   "id": "e0bb3510",
   "metadata": {},
   "outputs": [],
   "source": []
  },
  {
   "cell_type": "code",
   "execution_count": null,
   "id": "adaa328c",
   "metadata": {},
   "outputs": [],
   "source": []
  },
  {
   "cell_type": "code",
   "execution_count": null,
   "id": "b8330b8e",
   "metadata": {},
   "outputs": [],
   "source": []
  },
  {
   "cell_type": "code",
   "execution_count": null,
   "id": "65a8174c",
   "metadata": {},
   "outputs": [],
   "source": []
  },
  {
   "cell_type": "code",
   "execution_count": null,
   "id": "31123b1f",
   "metadata": {},
   "outputs": [],
   "source": []
  },
  {
   "cell_type": "code",
   "execution_count": null,
   "id": "a8c64dcb",
   "metadata": {},
   "outputs": [],
   "source": []
  },
  {
   "cell_type": "code",
   "execution_count": null,
   "id": "543d6337",
   "metadata": {},
   "outputs": [],
   "source": []
  },
  {
   "cell_type": "code",
   "execution_count": null,
   "id": "fa7cbf55",
   "metadata": {},
   "outputs": [],
   "source": []
  },
  {
   "cell_type": "code",
   "execution_count": null,
   "id": "2dbbec2c",
   "metadata": {},
   "outputs": [],
   "source": []
  },
  {
   "cell_type": "code",
   "execution_count": null,
   "id": "45885fb2",
   "metadata": {},
   "outputs": [],
   "source": []
  },
  {
   "cell_type": "code",
   "execution_count": null,
   "id": "46b6aad8",
   "metadata": {},
   "outputs": [],
   "source": []
  },
  {
   "cell_type": "code",
   "execution_count": null,
   "id": "b4c92e9c",
   "metadata": {},
   "outputs": [],
   "source": []
  },
  {
   "cell_type": "code",
   "execution_count": null,
   "id": "33401c95",
   "metadata": {},
   "outputs": [],
   "source": []
  },
  {
   "cell_type": "code",
   "execution_count": null,
   "id": "ca7821b1",
   "metadata": {},
   "outputs": [],
   "source": []
  },
  {
   "cell_type": "code",
   "execution_count": null,
   "id": "46186d3d",
   "metadata": {},
   "outputs": [],
   "source": []
  },
  {
   "cell_type": "code",
   "execution_count": null,
   "id": "c223f293",
   "metadata": {},
   "outputs": [],
   "source": []
  },
  {
   "cell_type": "code",
   "execution_count": null,
   "id": "c45cd7dd",
   "metadata": {},
   "outputs": [],
   "source": []
  },
  {
   "cell_type": "code",
   "execution_count": null,
   "id": "35625926",
   "metadata": {},
   "outputs": [],
   "source": []
  },
  {
   "cell_type": "code",
   "execution_count": null,
   "id": "a860b2fb",
   "metadata": {},
   "outputs": [],
   "source": []
  },
  {
   "cell_type": "code",
   "execution_count": null,
   "id": "823bd822",
   "metadata": {},
   "outputs": [],
   "source": []
  },
  {
   "cell_type": "code",
   "execution_count": null,
   "id": "1b74b4e6",
   "metadata": {},
   "outputs": [],
   "source": []
  },
  {
   "cell_type": "code",
   "execution_count": null,
   "id": "9089a2d8",
   "metadata": {},
   "outputs": [],
   "source": []
  },
  {
   "cell_type": "code",
   "execution_count": null,
   "id": "8621040c",
   "metadata": {},
   "outputs": [],
   "source": []
  },
  {
   "cell_type": "code",
   "execution_count": null,
   "id": "9b508992",
   "metadata": {},
   "outputs": [],
   "source": []
  },
  {
   "cell_type": "code",
   "execution_count": null,
   "id": "d933e6d8",
   "metadata": {},
   "outputs": [],
   "source": []
  },
  {
   "cell_type": "code",
   "execution_count": null,
   "id": "1667d950",
   "metadata": {},
   "outputs": [],
   "source": []
  },
  {
   "cell_type": "code",
   "execution_count": null,
   "id": "49cd5f28",
   "metadata": {},
   "outputs": [],
   "source": []
  },
  {
   "cell_type": "code",
   "execution_count": null,
   "id": "8f78d566",
   "metadata": {},
   "outputs": [],
   "source": []
  },
  {
   "cell_type": "code",
   "execution_count": null,
   "id": "8bd87eb8",
   "metadata": {},
   "outputs": [],
   "source": []
  },
  {
   "cell_type": "code",
   "execution_count": null,
   "id": "637b6d26",
   "metadata": {},
   "outputs": [],
   "source": []
  },
  {
   "cell_type": "code",
   "execution_count": null,
   "id": "c8c9f6ba",
   "metadata": {},
   "outputs": [],
   "source": []
  },
  {
   "cell_type": "code",
   "execution_count": null,
   "id": "8febe6b1",
   "metadata": {},
   "outputs": [],
   "source": []
  },
  {
   "cell_type": "code",
   "execution_count": null,
   "id": "2c36cfef",
   "metadata": {},
   "outputs": [],
   "source": []
  },
  {
   "cell_type": "code",
   "execution_count": null,
   "id": "33d3ec59",
   "metadata": {},
   "outputs": [],
   "source": []
  },
  {
   "cell_type": "code",
   "execution_count": null,
   "id": "a58ff9d2",
   "metadata": {},
   "outputs": [],
   "source": []
  },
  {
   "cell_type": "code",
   "execution_count": null,
   "id": "8ed7c314",
   "metadata": {},
   "outputs": [],
   "source": []
  },
  {
   "cell_type": "code",
   "execution_count": null,
   "id": "66630ed1",
   "metadata": {},
   "outputs": [],
   "source": []
  },
  {
   "cell_type": "code",
   "execution_count": null,
   "id": "1b6b525d",
   "metadata": {},
   "outputs": [],
   "source": []
  },
  {
   "cell_type": "code",
   "execution_count": null,
   "id": "8433ea9b",
   "metadata": {},
   "outputs": [],
   "source": []
  },
  {
   "cell_type": "code",
   "execution_count": null,
   "id": "486ecf1d",
   "metadata": {},
   "outputs": [],
   "source": []
  },
  {
   "cell_type": "code",
   "execution_count": null,
   "id": "47c16de8",
   "metadata": {},
   "outputs": [],
   "source": []
  },
  {
   "cell_type": "code",
   "execution_count": null,
   "id": "f5755e2d",
   "metadata": {},
   "outputs": [],
   "source": []
  },
  {
   "cell_type": "code",
   "execution_count": null,
   "id": "1b87f7b3",
   "metadata": {},
   "outputs": [],
   "source": []
  },
  {
   "cell_type": "code",
   "execution_count": null,
   "id": "b720468e",
   "metadata": {},
   "outputs": [],
   "source": []
  },
  {
   "cell_type": "code",
   "execution_count": null,
   "id": "cbf706c0",
   "metadata": {},
   "outputs": [],
   "source": []
  },
  {
   "cell_type": "code",
   "execution_count": null,
   "id": "90f2f7df",
   "metadata": {},
   "outputs": [],
   "source": []
  },
  {
   "cell_type": "code",
   "execution_count": null,
   "id": "e6bfcf4e",
   "metadata": {},
   "outputs": [],
   "source": []
  },
  {
   "cell_type": "code",
   "execution_count": null,
   "id": "d4a4f192",
   "metadata": {},
   "outputs": [],
   "source": []
  },
  {
   "cell_type": "code",
   "execution_count": null,
   "id": "b70b8cb9",
   "metadata": {},
   "outputs": [],
   "source": []
  },
  {
   "cell_type": "code",
   "execution_count": null,
   "id": "8e92cff5",
   "metadata": {},
   "outputs": [],
   "source": []
  },
  {
   "cell_type": "code",
   "execution_count": null,
   "id": "563498fe",
   "metadata": {},
   "outputs": [],
   "source": []
  },
  {
   "cell_type": "code",
   "execution_count": null,
   "id": "e9f0b3da",
   "metadata": {},
   "outputs": [],
   "source": []
  },
  {
   "cell_type": "code",
   "execution_count": null,
   "id": "636aed70",
   "metadata": {},
   "outputs": [],
   "source": []
  },
  {
   "cell_type": "code",
   "execution_count": null,
   "id": "94985fcf",
   "metadata": {},
   "outputs": [],
   "source": []
  },
  {
   "cell_type": "code",
   "execution_count": null,
   "id": "ecec13c9",
   "metadata": {},
   "outputs": [],
   "source": []
  },
  {
   "cell_type": "code",
   "execution_count": null,
   "id": "2fb9ae66",
   "metadata": {},
   "outputs": [],
   "source": []
  },
  {
   "cell_type": "code",
   "execution_count": null,
   "id": "f79c6b6d",
   "metadata": {},
   "outputs": [],
   "source": []
  },
  {
   "cell_type": "code",
   "execution_count": null,
   "id": "af910b89",
   "metadata": {},
   "outputs": [],
   "source": []
  },
  {
   "cell_type": "code",
   "execution_count": null,
   "id": "1b4c4927",
   "metadata": {},
   "outputs": [],
   "source": []
  },
  {
   "cell_type": "code",
   "execution_count": null,
   "id": "87d3d475",
   "metadata": {},
   "outputs": [],
   "source": []
  },
  {
   "cell_type": "code",
   "execution_count": null,
   "id": "8aa5b4cb",
   "metadata": {},
   "outputs": [],
   "source": []
  },
  {
   "cell_type": "code",
   "execution_count": null,
   "id": "0a481f46",
   "metadata": {},
   "outputs": [],
   "source": []
  },
  {
   "cell_type": "code",
   "execution_count": null,
   "id": "54dfcb0b",
   "metadata": {},
   "outputs": [],
   "source": []
  },
  {
   "cell_type": "code",
   "execution_count": null,
   "id": "07b9fe14",
   "metadata": {},
   "outputs": [],
   "source": []
  },
  {
   "cell_type": "code",
   "execution_count": null,
   "id": "967106b8",
   "metadata": {},
   "outputs": [],
   "source": []
  },
  {
   "cell_type": "code",
   "execution_count": null,
   "id": "d6fcb8cf",
   "metadata": {},
   "outputs": [],
   "source": []
  },
  {
   "cell_type": "code",
   "execution_count": null,
   "id": "f5e0da30",
   "metadata": {},
   "outputs": [],
   "source": []
  },
  {
   "cell_type": "code",
   "execution_count": null,
   "id": "3bb80070",
   "metadata": {},
   "outputs": [],
   "source": []
  },
  {
   "cell_type": "code",
   "execution_count": null,
   "id": "14bf5f5f",
   "metadata": {},
   "outputs": [],
   "source": []
  },
  {
   "cell_type": "code",
   "execution_count": null,
   "id": "d2a7d6d4",
   "metadata": {},
   "outputs": [],
   "source": []
  },
  {
   "cell_type": "code",
   "execution_count": null,
   "id": "986792c5",
   "metadata": {},
   "outputs": [],
   "source": []
  },
  {
   "cell_type": "code",
   "execution_count": null,
   "id": "ae114577",
   "metadata": {},
   "outputs": [],
   "source": []
  },
  {
   "cell_type": "code",
   "execution_count": null,
   "id": "4b6a34e2",
   "metadata": {},
   "outputs": [],
   "source": []
  },
  {
   "cell_type": "code",
   "execution_count": null,
   "id": "ce6c33da",
   "metadata": {},
   "outputs": [],
   "source": []
  },
  {
   "cell_type": "code",
   "execution_count": null,
   "id": "3ed3babb",
   "metadata": {},
   "outputs": [],
   "source": []
  },
  {
   "cell_type": "code",
   "execution_count": null,
   "id": "bde93ff2",
   "metadata": {},
   "outputs": [],
   "source": []
  },
  {
   "cell_type": "code",
   "execution_count": null,
   "id": "d975d194",
   "metadata": {},
   "outputs": [],
   "source": []
  },
  {
   "cell_type": "code",
   "execution_count": null,
   "id": "c5d52f7b",
   "metadata": {},
   "outputs": [],
   "source": []
  },
  {
   "cell_type": "code",
   "execution_count": null,
   "id": "453b8318",
   "metadata": {},
   "outputs": [],
   "source": []
  },
  {
   "cell_type": "code",
   "execution_count": null,
   "id": "cc387f3f",
   "metadata": {},
   "outputs": [],
   "source": []
  },
  {
   "cell_type": "code",
   "execution_count": null,
   "id": "2c02f5e4",
   "metadata": {},
   "outputs": [],
   "source": []
  },
  {
   "cell_type": "code",
   "execution_count": null,
   "id": "f482a37f",
   "metadata": {},
   "outputs": [],
   "source": []
  },
  {
   "cell_type": "code",
   "execution_count": null,
   "id": "2e3c5ea3",
   "metadata": {},
   "outputs": [],
   "source": []
  },
  {
   "cell_type": "code",
   "execution_count": null,
   "id": "1c6dfcd3",
   "metadata": {},
   "outputs": [],
   "source": []
  },
  {
   "cell_type": "code",
   "execution_count": null,
   "id": "676bd6ab",
   "metadata": {},
   "outputs": [],
   "source": []
  },
  {
   "cell_type": "code",
   "execution_count": null,
   "id": "aa601469",
   "metadata": {},
   "outputs": [],
   "source": []
  },
  {
   "cell_type": "code",
   "execution_count": null,
   "id": "128ed2c7",
   "metadata": {},
   "outputs": [],
   "source": []
  },
  {
   "cell_type": "code",
   "execution_count": null,
   "id": "25c69f94",
   "metadata": {},
   "outputs": [],
   "source": []
  },
  {
   "cell_type": "code",
   "execution_count": null,
   "id": "01fdd52d",
   "metadata": {},
   "outputs": [],
   "source": []
  },
  {
   "cell_type": "code",
   "execution_count": null,
   "id": "f17510c2",
   "metadata": {},
   "outputs": [],
   "source": []
  },
  {
   "cell_type": "code",
   "execution_count": null,
   "id": "76f339be",
   "metadata": {},
   "outputs": [],
   "source": []
  },
  {
   "cell_type": "code",
   "execution_count": null,
   "id": "570cd29e",
   "metadata": {},
   "outputs": [],
   "source": []
  },
  {
   "cell_type": "code",
   "execution_count": null,
   "id": "e88815b1",
   "metadata": {},
   "outputs": [],
   "source": []
  },
  {
   "cell_type": "code",
   "execution_count": null,
   "id": "958ada08",
   "metadata": {},
   "outputs": [],
   "source": []
  },
  {
   "cell_type": "code",
   "execution_count": null,
   "id": "8fda8ac5",
   "metadata": {},
   "outputs": [],
   "source": []
  },
  {
   "cell_type": "code",
   "execution_count": null,
   "id": "c77c8f21",
   "metadata": {},
   "outputs": [],
   "source": []
  },
  {
   "cell_type": "code",
   "execution_count": null,
   "id": "d7c10ba4",
   "metadata": {},
   "outputs": [],
   "source": []
  },
  {
   "cell_type": "code",
   "execution_count": null,
   "id": "0e5af8a1",
   "metadata": {},
   "outputs": [],
   "source": []
  },
  {
   "cell_type": "code",
   "execution_count": null,
   "id": "b4202f1d",
   "metadata": {},
   "outputs": [],
   "source": []
  },
  {
   "cell_type": "code",
   "execution_count": null,
   "id": "d75fcdfc",
   "metadata": {},
   "outputs": [],
   "source": []
  },
  {
   "cell_type": "code",
   "execution_count": null,
   "id": "811151b3",
   "metadata": {},
   "outputs": [],
   "source": []
  },
  {
   "cell_type": "code",
   "execution_count": null,
   "id": "102e8900",
   "metadata": {},
   "outputs": [],
   "source": []
  },
  {
   "cell_type": "code",
   "execution_count": null,
   "id": "8ab42259",
   "metadata": {},
   "outputs": [],
   "source": []
  },
  {
   "cell_type": "code",
   "execution_count": null,
   "id": "7f33161b",
   "metadata": {},
   "outputs": [],
   "source": []
  },
  {
   "cell_type": "code",
   "execution_count": null,
   "id": "dfa674a4",
   "metadata": {},
   "outputs": [],
   "source": []
  },
  {
   "cell_type": "code",
   "execution_count": null,
   "id": "cbcd1e80",
   "metadata": {},
   "outputs": [],
   "source": []
  },
  {
   "cell_type": "code",
   "execution_count": null,
   "id": "f89c7a40",
   "metadata": {},
   "outputs": [],
   "source": []
  },
  {
   "cell_type": "code",
   "execution_count": null,
   "id": "0cb310c1",
   "metadata": {},
   "outputs": [],
   "source": []
  },
  {
   "cell_type": "code",
   "execution_count": null,
   "id": "7eae68be",
   "metadata": {},
   "outputs": [],
   "source": []
  },
  {
   "cell_type": "code",
   "execution_count": null,
   "id": "6a68b9d8",
   "metadata": {},
   "outputs": [],
   "source": []
  },
  {
   "cell_type": "code",
   "execution_count": null,
   "id": "45863b17",
   "metadata": {},
   "outputs": [],
   "source": []
  },
  {
   "cell_type": "code",
   "execution_count": null,
   "id": "6e3f2027",
   "metadata": {},
   "outputs": [],
   "source": []
  },
  {
   "cell_type": "code",
   "execution_count": null,
   "id": "374f48ad",
   "metadata": {},
   "outputs": [],
   "source": []
  },
  {
   "cell_type": "code",
   "execution_count": null,
   "id": "75ac479f",
   "metadata": {},
   "outputs": [],
   "source": []
  },
  {
   "cell_type": "code",
   "execution_count": null,
   "id": "c6853419",
   "metadata": {},
   "outputs": [],
   "source": []
  },
  {
   "cell_type": "code",
   "execution_count": null,
   "id": "718943bd",
   "metadata": {},
   "outputs": [],
   "source": []
  },
  {
   "cell_type": "code",
   "execution_count": null,
   "id": "a1529e4e",
   "metadata": {},
   "outputs": [],
   "source": []
  },
  {
   "cell_type": "code",
   "execution_count": null,
   "id": "b4a54427",
   "metadata": {},
   "outputs": [],
   "source": []
  },
  {
   "cell_type": "code",
   "execution_count": null,
   "id": "04e96642",
   "metadata": {},
   "outputs": [],
   "source": []
  },
  {
   "cell_type": "code",
   "execution_count": null,
   "id": "bc9a1f2c",
   "metadata": {},
   "outputs": [],
   "source": []
  },
  {
   "cell_type": "code",
   "execution_count": null,
   "id": "808d44e1",
   "metadata": {},
   "outputs": [],
   "source": []
  },
  {
   "cell_type": "code",
   "execution_count": null,
   "id": "a969a5da",
   "metadata": {},
   "outputs": [],
   "source": []
  },
  {
   "cell_type": "code",
   "execution_count": null,
   "id": "461e2d84",
   "metadata": {},
   "outputs": [],
   "source": []
  },
  {
   "cell_type": "code",
   "execution_count": null,
   "id": "9c241fe6",
   "metadata": {},
   "outputs": [],
   "source": []
  },
  {
   "cell_type": "code",
   "execution_count": null,
   "id": "b59c09da",
   "metadata": {},
   "outputs": [],
   "source": []
  },
  {
   "cell_type": "code",
   "execution_count": null,
   "id": "5e925b6e",
   "metadata": {},
   "outputs": [],
   "source": []
  },
  {
   "cell_type": "code",
   "execution_count": null,
   "id": "fc4131d9",
   "metadata": {},
   "outputs": [],
   "source": []
  },
  {
   "cell_type": "code",
   "execution_count": null,
   "id": "fc087249",
   "metadata": {},
   "outputs": [],
   "source": []
  },
  {
   "cell_type": "code",
   "execution_count": null,
   "id": "ae7d0576",
   "metadata": {},
   "outputs": [],
   "source": []
  },
  {
   "cell_type": "code",
   "execution_count": null,
   "id": "258b0467",
   "metadata": {},
   "outputs": [],
   "source": []
  },
  {
   "cell_type": "code",
   "execution_count": null,
   "id": "f151f5e7",
   "metadata": {},
   "outputs": [],
   "source": []
  },
  {
   "cell_type": "code",
   "execution_count": null,
   "id": "97a0e581",
   "metadata": {},
   "outputs": [],
   "source": []
  },
  {
   "cell_type": "code",
   "execution_count": null,
   "id": "692b4484",
   "metadata": {},
   "outputs": [],
   "source": []
  },
  {
   "cell_type": "code",
   "execution_count": null,
   "id": "b6933a50",
   "metadata": {},
   "outputs": [],
   "source": []
  },
  {
   "cell_type": "code",
   "execution_count": null,
   "id": "76aee142",
   "metadata": {},
   "outputs": [],
   "source": []
  },
  {
   "cell_type": "code",
   "execution_count": null,
   "id": "cfe89a02",
   "metadata": {},
   "outputs": [],
   "source": []
  },
  {
   "cell_type": "code",
   "execution_count": null,
   "id": "6c06a059",
   "metadata": {},
   "outputs": [],
   "source": []
  },
  {
   "cell_type": "code",
   "execution_count": null,
   "id": "c6ffef43",
   "metadata": {},
   "outputs": [],
   "source": []
  },
  {
   "cell_type": "code",
   "execution_count": null,
   "id": "9fa61ded",
   "metadata": {},
   "outputs": [],
   "source": []
  },
  {
   "cell_type": "code",
   "execution_count": null,
   "id": "7e8a9e76",
   "metadata": {},
   "outputs": [],
   "source": []
  },
  {
   "cell_type": "code",
   "execution_count": null,
   "id": "73e674e5",
   "metadata": {},
   "outputs": [],
   "source": []
  },
  {
   "cell_type": "code",
   "execution_count": null,
   "id": "3b80f1ee",
   "metadata": {},
   "outputs": [],
   "source": []
  },
  {
   "cell_type": "code",
   "execution_count": null,
   "id": "e9ef0237",
   "metadata": {},
   "outputs": [],
   "source": []
  },
  {
   "cell_type": "code",
   "execution_count": null,
   "id": "45147f5d",
   "metadata": {},
   "outputs": [],
   "source": []
  },
  {
   "cell_type": "code",
   "execution_count": null,
   "id": "3f0dbb61",
   "metadata": {},
   "outputs": [],
   "source": []
  },
  {
   "cell_type": "code",
   "execution_count": null,
   "id": "b4a59411",
   "metadata": {},
   "outputs": [],
   "source": []
  },
  {
   "cell_type": "code",
   "execution_count": null,
   "id": "ff7b61f2",
   "metadata": {},
   "outputs": [],
   "source": []
  },
  {
   "cell_type": "code",
   "execution_count": null,
   "id": "8de1c823",
   "metadata": {},
   "outputs": [],
   "source": []
  },
  {
   "cell_type": "code",
   "execution_count": null,
   "id": "024eb60b",
   "metadata": {},
   "outputs": [],
   "source": []
  },
  {
   "cell_type": "code",
   "execution_count": null,
   "id": "6522b2f6",
   "metadata": {},
   "outputs": [],
   "source": []
  },
  {
   "cell_type": "code",
   "execution_count": null,
   "id": "b0737399",
   "metadata": {},
   "outputs": [],
   "source": []
  },
  {
   "cell_type": "code",
   "execution_count": null,
   "id": "f03250c2",
   "metadata": {},
   "outputs": [],
   "source": []
  },
  {
   "cell_type": "code",
   "execution_count": null,
   "id": "02169b5e",
   "metadata": {},
   "outputs": [],
   "source": []
  },
  {
   "cell_type": "code",
   "execution_count": null,
   "id": "d04ddd6d",
   "metadata": {},
   "outputs": [],
   "source": []
  },
  {
   "cell_type": "code",
   "execution_count": null,
   "id": "7e13d4ba",
   "metadata": {},
   "outputs": [],
   "source": []
  },
  {
   "cell_type": "code",
   "execution_count": null,
   "id": "8dfe69a5",
   "metadata": {},
   "outputs": [],
   "source": []
  },
  {
   "cell_type": "code",
   "execution_count": null,
   "id": "8f6c2092",
   "metadata": {},
   "outputs": [],
   "source": []
  },
  {
   "cell_type": "code",
   "execution_count": null,
   "id": "762d6c2f",
   "metadata": {},
   "outputs": [],
   "source": []
  },
  {
   "cell_type": "code",
   "execution_count": null,
   "id": "cfc26202",
   "metadata": {},
   "outputs": [],
   "source": []
  },
  {
   "cell_type": "code",
   "execution_count": null,
   "id": "d76f4662",
   "metadata": {},
   "outputs": [],
   "source": []
  },
  {
   "cell_type": "code",
   "execution_count": null,
   "id": "7abf4e8b",
   "metadata": {},
   "outputs": [],
   "source": []
  },
  {
   "cell_type": "code",
   "execution_count": null,
   "id": "8886f6a6",
   "metadata": {},
   "outputs": [],
   "source": []
  },
  {
   "cell_type": "code",
   "execution_count": null,
   "id": "c2dde636",
   "metadata": {},
   "outputs": [],
   "source": []
  },
  {
   "cell_type": "code",
   "execution_count": null,
   "id": "d0bc00c6",
   "metadata": {},
   "outputs": [],
   "source": []
  },
  {
   "cell_type": "code",
   "execution_count": null,
   "id": "c6a66af0",
   "metadata": {},
   "outputs": [],
   "source": []
  },
  {
   "cell_type": "code",
   "execution_count": null,
   "id": "ab692f0d",
   "metadata": {},
   "outputs": [],
   "source": []
  },
  {
   "cell_type": "code",
   "execution_count": null,
   "id": "d4935d25",
   "metadata": {},
   "outputs": [],
   "source": []
  },
  {
   "cell_type": "code",
   "execution_count": null,
   "id": "94dc27c1",
   "metadata": {},
   "outputs": [],
   "source": []
  },
  {
   "cell_type": "code",
   "execution_count": null,
   "id": "54843fdc-90a0-48ce-b68a-7943154ed858",
   "metadata": {},
   "outputs": [],
   "source": []
  },
  {
   "cell_type": "code",
   "execution_count": null,
   "id": "3b201772",
   "metadata": {},
   "outputs": [],
   "source": []
  },
  {
   "cell_type": "code",
   "execution_count": null,
   "id": "627917e1",
   "metadata": {},
   "outputs": [],
   "source": [
    "\n"
   ]
  },
  {
   "cell_type": "code",
   "execution_count": null,
   "id": "2dbd3207",
   "metadata": {},
   "outputs": [],
   "source": []
  },
  {
   "cell_type": "code",
   "execution_count": null,
   "id": "0bdd4076",
   "metadata": {},
   "outputs": [],
   "source": []
  },
  {
   "cell_type": "code",
   "execution_count": null,
   "id": "5ea5fb8c",
   "metadata": {},
   "outputs": [],
   "source": []
  },
  {
   "cell_type": "code",
   "execution_count": null,
   "id": "ae5bb474",
   "metadata": {},
   "outputs": [],
   "source": []
  },
  {
   "cell_type": "code",
   "execution_count": null,
   "id": "e221e026",
   "metadata": {},
   "outputs": [],
   "source": []
  },
  {
   "cell_type": "code",
   "execution_count": null,
   "id": "33a891c7",
   "metadata": {},
   "outputs": [],
   "source": []
  },
  {
   "cell_type": "code",
   "execution_count": null,
   "id": "b943513d",
   "metadata": {},
   "outputs": [],
   "source": []
  },
  {
   "cell_type": "code",
   "execution_count": null,
   "id": "e09413b0",
   "metadata": {},
   "outputs": [],
   "source": []
  },
  {
   "cell_type": "code",
   "execution_count": null,
   "id": "e284179c",
   "metadata": {},
   "outputs": [],
   "source": []
  },
  {
   "cell_type": "code",
   "execution_count": null,
   "id": "1c77fc7e",
   "metadata": {},
   "outputs": [],
   "source": []
  },
  {
   "cell_type": "code",
   "execution_count": null,
   "id": "b31a491b",
   "metadata": {},
   "outputs": [],
   "source": []
  },
  {
   "cell_type": "code",
   "execution_count": null,
   "id": "346eb03a",
   "metadata": {},
   "outputs": [],
   "source": []
  },
  {
   "cell_type": "code",
   "execution_count": null,
   "id": "f197cbba",
   "metadata": {},
   "outputs": [],
   "source": []
  },
  {
   "cell_type": "code",
   "execution_count": null,
   "id": "4f1cfef5",
   "metadata": {},
   "outputs": [],
   "source": []
  },
  {
   "cell_type": "code",
   "execution_count": null,
   "id": "93ae0ac4",
   "metadata": {},
   "outputs": [],
   "source": []
  },
  {
   "cell_type": "code",
   "execution_count": null,
   "id": "8355c0c3",
   "metadata": {},
   "outputs": [],
   "source": []
  },
  {
   "cell_type": "code",
   "execution_count": null,
   "id": "abb427c9",
   "metadata": {},
   "outputs": [],
   "source": []
  },
  {
   "cell_type": "code",
   "execution_count": null,
   "id": "c503dad2",
   "metadata": {},
   "outputs": [],
   "source": []
  },
  {
   "cell_type": "code",
   "execution_count": null,
   "id": "e4296f70",
   "metadata": {},
   "outputs": [],
   "source": []
  },
  {
   "cell_type": "code",
   "execution_count": null,
   "id": "091aec97",
   "metadata": {},
   "outputs": [],
   "source": []
  },
  {
   "cell_type": "code",
   "execution_count": 19,
   "id": "a2031b86",
   "metadata": {},
   "outputs": [],
   "source": []
  },
  {
   "cell_type": "code",
   "execution_count": null,
   "id": "fdf50531",
   "metadata": {},
   "outputs": [],
   "source": []
  },
  {
   "cell_type": "code",
   "execution_count": null,
   "id": "21f847d4",
   "metadata": {},
   "outputs": [],
   "source": []
  },
  {
   "cell_type": "code",
   "execution_count": null,
   "id": "561cc304",
   "metadata": {},
   "outputs": [],
   "source": []
  },
  {
   "cell_type": "code",
   "execution_count": null,
   "id": "dbf7411d",
   "metadata": {},
   "outputs": [],
   "source": []
  },
  {
   "cell_type": "code",
   "execution_count": null,
   "id": "da4b2f0d",
   "metadata": {},
   "outputs": [],
   "source": []
  },
  {
   "cell_type": "code",
   "execution_count": null,
   "id": "33985809",
   "metadata": {},
   "outputs": [],
   "source": []
  },
  {
   "cell_type": "code",
   "execution_count": null,
   "id": "0a333278",
   "metadata": {},
   "outputs": [],
   "source": []
  },
  {
   "cell_type": "code",
   "execution_count": null,
   "id": "1c800bb2",
   "metadata": {},
   "outputs": [],
   "source": []
  },
  {
   "cell_type": "code",
   "execution_count": null,
   "id": "06faec9f",
   "metadata": {},
   "outputs": [],
   "source": []
  },
  {
   "cell_type": "code",
   "execution_count": null,
   "id": "4c3c6f35",
   "metadata": {},
   "outputs": [],
   "source": []
  },
  {
   "cell_type": "code",
   "execution_count": null,
   "id": "3df176f0",
   "metadata": {},
   "outputs": [],
   "source": []
  },
  {
   "cell_type": "code",
   "execution_count": null,
   "id": "c5c370e2",
   "metadata": {},
   "outputs": [],
   "source": []
  },
  {
   "cell_type": "code",
   "execution_count": null,
   "id": "a58a5b15",
   "metadata": {},
   "outputs": [],
   "source": []
  },
  {
   "cell_type": "code",
   "execution_count": null,
   "id": "e04d9ce9",
   "metadata": {},
   "outputs": [],
   "source": []
  },
  {
   "cell_type": "code",
   "execution_count": null,
   "id": "7628e4e9",
   "metadata": {},
   "outputs": [],
   "source": []
  },
  {
   "cell_type": "code",
   "execution_count": null,
   "id": "d31fc114",
   "metadata": {},
   "outputs": [],
   "source": []
  },
  {
   "cell_type": "code",
   "execution_count": null,
   "id": "e65d97ee",
   "metadata": {},
   "outputs": [],
   "source": []
  },
  {
   "cell_type": "code",
   "execution_count": null,
   "id": "d98a58d0",
   "metadata": {},
   "outputs": [],
   "source": []
  },
  {
   "cell_type": "code",
   "execution_count": null,
   "id": "df5f856f",
   "metadata": {},
   "outputs": [],
   "source": []
  },
  {
   "cell_type": "code",
   "execution_count": null,
   "id": "359b71b6",
   "metadata": {},
   "outputs": [],
   "source": []
  },
  {
   "cell_type": "code",
   "execution_count": null,
   "id": "3ed316e2",
   "metadata": {},
   "outputs": [],
   "source": []
  },
  {
   "cell_type": "code",
   "execution_count": null,
   "id": "5a342780",
   "metadata": {},
   "outputs": [],
   "source": []
  },
  {
   "cell_type": "code",
   "execution_count": null,
   "id": "57a816dd",
   "metadata": {},
   "outputs": [],
   "source": []
  },
  {
   "cell_type": "code",
   "execution_count": null,
   "id": "5b80d1a0",
   "metadata": {},
   "outputs": [],
   "source": []
  },
  {
   "cell_type": "code",
   "execution_count": null,
   "id": "afc2a556",
   "metadata": {},
   "outputs": [],
   "source": []
  },
  {
   "cell_type": "code",
   "execution_count": null,
   "id": "46c0ab7f",
   "metadata": {},
   "outputs": [],
   "source": []
  },
  {
   "cell_type": "code",
   "execution_count": null,
   "id": "7acc1697",
   "metadata": {},
   "outputs": [],
   "source": []
  },
  {
   "cell_type": "code",
   "execution_count": null,
   "id": "b9fb1de3",
   "metadata": {},
   "outputs": [],
   "source": []
  },
  {
   "cell_type": "code",
   "execution_count": null,
   "id": "adfdc616",
   "metadata": {},
   "outputs": [],
   "source": []
  },
  {
   "cell_type": "code",
   "execution_count": null,
   "id": "aaf45bd0",
   "metadata": {},
   "outputs": [],
   "source": []
  },
  {
   "cell_type": "code",
   "execution_count": null,
   "id": "5b6e8f8b",
   "metadata": {},
   "outputs": [],
   "source": []
  },
  {
   "cell_type": "code",
   "execution_count": null,
   "id": "fc2ccd4e",
   "metadata": {},
   "outputs": [],
   "source": []
  },
  {
   "cell_type": "code",
   "execution_count": null,
   "id": "db8524b9",
   "metadata": {},
   "outputs": [],
   "source": []
  },
  {
   "cell_type": "code",
   "execution_count": null,
   "id": "e93a0f2c",
   "metadata": {},
   "outputs": [],
   "source": []
  },
  {
   "cell_type": "code",
   "execution_count": null,
   "id": "c608ccfa",
   "metadata": {},
   "outputs": [],
   "source": []
  },
  {
   "cell_type": "code",
   "execution_count": null,
   "id": "05593cdd",
   "metadata": {},
   "outputs": [],
   "source": []
  },
  {
   "cell_type": "code",
   "execution_count": null,
   "id": "63026a72",
   "metadata": {},
   "outputs": [],
   "source": []
  },
  {
   "cell_type": "code",
   "execution_count": null,
   "id": "336a5117",
   "metadata": {},
   "outputs": [],
   "source": []
  },
  {
   "cell_type": "code",
   "execution_count": null,
   "id": "0d65588c",
   "metadata": {},
   "outputs": [],
   "source": []
  },
  {
   "cell_type": "code",
   "execution_count": null,
   "id": "f3a0f0f2",
   "metadata": {},
   "outputs": [],
   "source": []
  },
  {
   "cell_type": "code",
   "execution_count": null,
   "id": "5b3220d5",
   "metadata": {},
   "outputs": [],
   "source": []
  },
  {
   "cell_type": "code",
   "execution_count": null,
   "id": "da952643",
   "metadata": {},
   "outputs": [],
   "source": []
  },
  {
   "cell_type": "code",
   "execution_count": null,
   "id": "94a80cd3",
   "metadata": {},
   "outputs": [],
   "source": []
  },
  {
   "cell_type": "code",
   "execution_count": null,
   "id": "c0c5da74",
   "metadata": {},
   "outputs": [],
   "source": []
  },
  {
   "cell_type": "code",
   "execution_count": null,
   "id": "3d3f55da",
   "metadata": {},
   "outputs": [],
   "source": []
  },
  {
   "cell_type": "code",
   "execution_count": null,
   "id": "5b5ac5e7",
   "metadata": {},
   "outputs": [],
   "source": []
  },
  {
   "cell_type": "code",
   "execution_count": null,
   "id": "91c1c0ba",
   "metadata": {},
   "outputs": [],
   "source": []
  },
  {
   "cell_type": "code",
   "execution_count": null,
   "id": "d898105e",
   "metadata": {},
   "outputs": [],
   "source": []
  },
  {
   "cell_type": "code",
   "execution_count": null,
   "id": "c2557b44",
   "metadata": {},
   "outputs": [],
   "source": []
  },
  {
   "cell_type": "code",
   "execution_count": null,
   "id": "9dd7d716",
   "metadata": {},
   "outputs": [],
   "source": []
  },
  {
   "cell_type": "code",
   "execution_count": null,
   "id": "6b603ca8",
   "metadata": {},
   "outputs": [],
   "source": []
  },
  {
   "cell_type": "code",
   "execution_count": null,
   "id": "7b1bd06b",
   "metadata": {},
   "outputs": [],
   "source": []
  },
  {
   "cell_type": "code",
   "execution_count": 21,
   "id": "15186531",
   "metadata": {},
   "outputs": [],
   "source": []
  },
  {
   "cell_type": "code",
   "execution_count": null,
   "id": "43e786df",
   "metadata": {},
   "outputs": [],
   "source": []
  },
  {
   "cell_type": "code",
   "execution_count": null,
   "id": "b3924227",
   "metadata": {},
   "outputs": [],
   "source": [
    "\n"
   ]
  },
  {
   "cell_type": "code",
   "execution_count": null,
   "id": "cdf60be4",
   "metadata": {},
   "outputs": [],
   "source": []
  },
  {
   "cell_type": "code",
   "execution_count": null,
   "id": "292af74a",
   "metadata": {},
   "outputs": [],
   "source": []
  },
  {
   "cell_type": "code",
   "execution_count": null,
   "id": "f3f7236d",
   "metadata": {},
   "outputs": [],
   "source": []
  },
  {
   "cell_type": "code",
   "execution_count": null,
   "id": "8276c80d",
   "metadata": {},
   "outputs": [],
   "source": []
  },
  {
   "cell_type": "code",
   "execution_count": null,
   "id": "fc7e2cfa",
   "metadata": {},
   "outputs": [],
   "source": []
  },
  {
   "cell_type": "code",
   "execution_count": null,
   "id": "7e25e642",
   "metadata": {},
   "outputs": [],
   "source": []
  },
  {
   "cell_type": "code",
   "execution_count": null,
   "id": "f43e8593",
   "metadata": {},
   "outputs": [],
   "source": []
  },
  {
   "cell_type": "code",
   "execution_count": null,
   "id": "b739fa52",
   "metadata": {},
   "outputs": [],
   "source": []
  },
  {
   "cell_type": "code",
   "execution_count": null,
   "id": "72d20e6b",
   "metadata": {},
   "outputs": [],
   "source": []
  },
  {
   "cell_type": "code",
   "execution_count": null,
   "id": "1e3685f0",
   "metadata": {},
   "outputs": [],
   "source": []
  },
  {
   "cell_type": "code",
   "execution_count": null,
   "id": "0b94e84b",
   "metadata": {},
   "outputs": [],
   "source": []
  },
  {
   "cell_type": "code",
   "execution_count": null,
   "id": "b7d98ff4",
   "metadata": {},
   "outputs": [],
   "source": []
  },
  {
   "cell_type": "code",
   "execution_count": null,
   "id": "bbedb711",
   "metadata": {},
   "outputs": [],
   "source": []
  },
  {
   "cell_type": "code",
   "execution_count": null,
   "id": "ed361891",
   "metadata": {},
   "outputs": [],
   "source": []
  },
  {
   "cell_type": "code",
   "execution_count": null,
   "id": "f0381b40",
   "metadata": {},
   "outputs": [],
   "source": []
  },
  {
   "cell_type": "code",
   "execution_count": null,
   "id": "b8d217ac",
   "metadata": {},
   "outputs": [],
   "source": []
  },
  {
   "cell_type": "code",
   "execution_count": null,
   "id": "07fa0937",
   "metadata": {},
   "outputs": [],
   "source": []
  },
  {
   "cell_type": "code",
   "execution_count": null,
   "id": "433bb9ef",
   "metadata": {},
   "outputs": [],
   "source": []
  },
  {
   "cell_type": "code",
   "execution_count": null,
   "id": "b85009be",
   "metadata": {},
   "outputs": [],
   "source": []
  },
  {
   "cell_type": "code",
   "execution_count": null,
   "id": "3855dc67",
   "metadata": {},
   "outputs": [],
   "source": []
  },
  {
   "cell_type": "code",
   "execution_count": null,
   "id": "d68abf54",
   "metadata": {},
   "outputs": [],
   "source": []
  },
  {
   "cell_type": "code",
   "execution_count": null,
   "id": "d4435de6",
   "metadata": {},
   "outputs": [],
   "source": []
  },
  {
   "cell_type": "code",
   "execution_count": null,
   "id": "c15a3033",
   "metadata": {},
   "outputs": [],
   "source": []
  },
  {
   "cell_type": "code",
   "execution_count": null,
   "id": "0918d159",
   "metadata": {},
   "outputs": [],
   "source": []
  },
  {
   "cell_type": "code",
   "execution_count": null,
   "id": "4c5d7e89",
   "metadata": {},
   "outputs": [],
   "source": []
  },
  {
   "cell_type": "code",
   "execution_count": null,
   "id": "801e2530",
   "metadata": {},
   "outputs": [],
   "source": []
  },
  {
   "cell_type": "code",
   "execution_count": null,
   "id": "2f182c46",
   "metadata": {},
   "outputs": [],
   "source": []
  },
  {
   "cell_type": "code",
   "execution_count": null,
   "id": "f4da55cd",
   "metadata": {},
   "outputs": [],
   "source": []
  },
  {
   "cell_type": "code",
   "execution_count": null,
   "id": "db2e2b7a",
   "metadata": {},
   "outputs": [],
   "source": []
  },
  {
   "cell_type": "code",
   "execution_count": null,
   "id": "b3dbe33f",
   "metadata": {},
   "outputs": [],
   "source": []
  },
  {
   "cell_type": "code",
   "execution_count": null,
   "id": "ed6d41cc",
   "metadata": {},
   "outputs": [],
   "source": []
  },
  {
   "cell_type": "code",
   "execution_count": null,
   "id": "8050fb83",
   "metadata": {},
   "outputs": [],
   "source": []
  },
  {
   "cell_type": "code",
   "execution_count": null,
   "id": "42d5770a",
   "metadata": {},
   "outputs": [],
   "source": []
  },
  {
   "cell_type": "code",
   "execution_count": null,
   "id": "d6885f9d",
   "metadata": {},
   "outputs": [],
   "source": []
  },
  {
   "cell_type": "code",
   "execution_count": null,
   "id": "3dda55c7",
   "metadata": {},
   "outputs": [],
   "source": []
  },
  {
   "cell_type": "code",
   "execution_count": null,
   "id": "7ee1a899",
   "metadata": {},
   "outputs": [],
   "source": []
  },
  {
   "cell_type": "code",
   "execution_count": null,
   "id": "03f0e914",
   "metadata": {},
   "outputs": [],
   "source": []
  },
  {
   "cell_type": "code",
   "execution_count": null,
   "id": "640dffd1",
   "metadata": {},
   "outputs": [],
   "source": []
  },
  {
   "cell_type": "code",
   "execution_count": null,
   "id": "dfbb4b6a",
   "metadata": {},
   "outputs": [],
   "source": []
  },
  {
   "cell_type": "code",
   "execution_count": null,
   "id": "18792b5e",
   "metadata": {},
   "outputs": [],
   "source": []
  },
  {
   "cell_type": "code",
   "execution_count": null,
   "id": "1182aa48",
   "metadata": {},
   "outputs": [],
   "source": []
  },
  {
   "cell_type": "code",
   "execution_count": null,
   "id": "d2eb4afc",
   "metadata": {},
   "outputs": [],
   "source": []
  },
  {
   "cell_type": "code",
   "execution_count": null,
   "id": "864c9932",
   "metadata": {},
   "outputs": [],
   "source": []
  },
  {
   "cell_type": "code",
   "execution_count": null,
   "id": "90307d4f",
   "metadata": {},
   "outputs": [],
   "source": []
  },
  {
   "cell_type": "code",
   "execution_count": null,
   "id": "f406331c",
   "metadata": {},
   "outputs": [],
   "source": []
  },
  {
   "cell_type": "code",
   "execution_count": null,
   "id": "2731ab7d",
   "metadata": {},
   "outputs": [],
   "source": []
  },
  {
   "cell_type": "code",
   "execution_count": null,
   "id": "acd61904",
   "metadata": {},
   "outputs": [],
   "source": []
  },
  {
   "cell_type": "code",
   "execution_count": null,
   "id": "d5bc56dd",
   "metadata": {},
   "outputs": [],
   "source": []
  },
  {
   "cell_type": "code",
   "execution_count": null,
   "id": "7b6ae23d",
   "metadata": {},
   "outputs": [],
   "source": []
  },
  {
   "cell_type": "code",
   "execution_count": null,
   "id": "0ad32ec4",
   "metadata": {},
   "outputs": [],
   "source": []
  },
  {
   "cell_type": "code",
   "execution_count": null,
   "id": "25bff024",
   "metadata": {},
   "outputs": [],
   "source": []
  },
  {
   "cell_type": "code",
   "execution_count": null,
   "id": "1ddfcc11",
   "metadata": {},
   "outputs": [],
   "source": []
  },
  {
   "cell_type": "code",
   "execution_count": null,
   "id": "be8ef980",
   "metadata": {},
   "outputs": [],
   "source": []
  },
  {
   "cell_type": "code",
   "execution_count": null,
   "id": "3ef97be0",
   "metadata": {},
   "outputs": [],
   "source": []
  },
  {
   "cell_type": "code",
   "execution_count": null,
   "id": "9ea30568",
   "metadata": {},
   "outputs": [],
   "source": []
  },
  {
   "cell_type": "code",
   "execution_count": null,
   "id": "25b5abb4",
   "metadata": {},
   "outputs": [],
   "source": []
  },
  {
   "cell_type": "code",
   "execution_count": null,
   "id": "b8a9cb4d",
   "metadata": {},
   "outputs": [],
   "source": []
  },
  {
   "cell_type": "code",
   "execution_count": null,
   "id": "12ca221d",
   "metadata": {},
   "outputs": [],
   "source": []
  },
  {
   "cell_type": "code",
   "execution_count": null,
   "id": "c0643fd3",
   "metadata": {},
   "outputs": [],
   "source": []
  },
  {
   "cell_type": "code",
   "execution_count": null,
   "id": "407f63c4",
   "metadata": {},
   "outputs": [],
   "source": []
  },
  {
   "cell_type": "code",
   "execution_count": null,
   "id": "59570dd5",
   "metadata": {},
   "outputs": [],
   "source": []
  },
  {
   "cell_type": "code",
   "execution_count": null,
   "id": "9be4eb75",
   "metadata": {},
   "outputs": [],
   "source": []
  },
  {
   "cell_type": "code",
   "execution_count": null,
   "id": "f63f1ef3",
   "metadata": {},
   "outputs": [],
   "source": []
  },
  {
   "cell_type": "code",
   "execution_count": null,
   "id": "f8d2beb2",
   "metadata": {},
   "outputs": [],
   "source": []
  },
  {
   "cell_type": "code",
   "execution_count": null,
   "id": "fcee02e4",
   "metadata": {},
   "outputs": [],
   "source": []
  },
  {
   "cell_type": "code",
   "execution_count": null,
   "id": "66a7fbe5",
   "metadata": {},
   "outputs": [],
   "source": []
  },
  {
   "cell_type": "code",
   "execution_count": null,
   "id": "5d5e21c2",
   "metadata": {},
   "outputs": [],
   "source": []
  },
  {
   "cell_type": "code",
   "execution_count": null,
   "id": "a5b57b4b",
   "metadata": {},
   "outputs": [],
   "source": []
  },
  {
   "cell_type": "code",
   "execution_count": null,
   "id": "4d489ff0",
   "metadata": {},
   "outputs": [],
   "source": []
  },
  {
   "cell_type": "code",
   "execution_count": null,
   "id": "65fe8f73",
   "metadata": {},
   "outputs": [],
   "source": []
  },
  {
   "cell_type": "code",
   "execution_count": null,
   "id": "0b9472c6",
   "metadata": {},
   "outputs": [],
   "source": []
  },
  {
   "cell_type": "code",
   "execution_count": null,
   "id": "cf40dcbf",
   "metadata": {},
   "outputs": [],
   "source": []
  },
  {
   "cell_type": "code",
   "execution_count": null,
   "id": "9eb96378",
   "metadata": {},
   "outputs": [],
   "source": []
  },
  {
   "cell_type": "code",
   "execution_count": null,
   "id": "d2c82699",
   "metadata": {},
   "outputs": [],
   "source": []
  },
  {
   "cell_type": "code",
   "execution_count": null,
   "id": "d9226fbb",
   "metadata": {},
   "outputs": [],
   "source": []
  },
  {
   "cell_type": "code",
   "execution_count": null,
   "id": "ae24c242",
   "metadata": {},
   "outputs": [],
   "source": []
  },
  {
   "cell_type": "code",
   "execution_count": null,
   "id": "eb2e0ab9",
   "metadata": {},
   "outputs": [],
   "source": []
  },
  {
   "cell_type": "code",
   "execution_count": null,
   "id": "d2fd08de",
   "metadata": {},
   "outputs": [],
   "source": []
  },
  {
   "cell_type": "code",
   "execution_count": null,
   "id": "24b5b487",
   "metadata": {},
   "outputs": [],
   "source": []
  },
  {
   "cell_type": "code",
   "execution_count": null,
   "id": "4ee17572",
   "metadata": {},
   "outputs": [],
   "source": []
  },
  {
   "cell_type": "code",
   "execution_count": null,
   "id": "93e9019b",
   "metadata": {},
   "outputs": [],
   "source": []
  },
  {
   "cell_type": "code",
   "execution_count": null,
   "id": "c1af7167",
   "metadata": {},
   "outputs": [],
   "source": []
  },
  {
   "cell_type": "code",
   "execution_count": null,
   "id": "9ed4ce64",
   "metadata": {},
   "outputs": [],
   "source": []
  },
  {
   "cell_type": "code",
   "execution_count": null,
   "id": "16a045fc",
   "metadata": {},
   "outputs": [],
   "source": []
  },
  {
   "cell_type": "code",
   "execution_count": null,
   "id": "4f273888",
   "metadata": {},
   "outputs": [],
   "source": []
  },
  {
   "cell_type": "code",
   "execution_count": null,
   "id": "862693b9",
   "metadata": {},
   "outputs": [],
   "source": []
  },
  {
   "cell_type": "code",
   "execution_count": null,
   "id": "b6d16742",
   "metadata": {},
   "outputs": [],
   "source": []
  },
  {
   "cell_type": "code",
   "execution_count": null,
   "id": "149c686a",
   "metadata": {},
   "outputs": [],
   "source": []
  },
  {
   "cell_type": "code",
   "execution_count": null,
   "id": "f55e8f8d",
   "metadata": {},
   "outputs": [],
   "source": []
  },
  {
   "cell_type": "code",
   "execution_count": null,
   "id": "e6df4803",
   "metadata": {},
   "outputs": [],
   "source": []
  },
  {
   "cell_type": "code",
   "execution_count": null,
   "id": "29abc993",
   "metadata": {},
   "outputs": [],
   "source": []
  },
  {
   "cell_type": "code",
   "execution_count": null,
   "id": "0fd55846",
   "metadata": {},
   "outputs": [],
   "source": []
  },
  {
   "cell_type": "code",
   "execution_count": null,
   "id": "7c72410d",
   "metadata": {},
   "outputs": [],
   "source": []
  },
  {
   "cell_type": "code",
   "execution_count": null,
   "id": "94f78f52",
   "metadata": {},
   "outputs": [],
   "source": []
  },
  {
   "cell_type": "code",
   "execution_count": null,
   "id": "03bf914b",
   "metadata": {},
   "outputs": [],
   "source": []
  },
  {
   "cell_type": "code",
   "execution_count": null,
   "id": "6ffa3bfc",
   "metadata": {},
   "outputs": [],
   "source": []
  },
  {
   "cell_type": "code",
   "execution_count": null,
   "id": "7c385f33",
   "metadata": {},
   "outputs": [],
   "source": []
  },
  {
   "cell_type": "code",
   "execution_count": null,
   "id": "c9144e29",
   "metadata": {},
   "outputs": [],
   "source": []
  },
  {
   "cell_type": "code",
   "execution_count": null,
   "id": "e9fcbdec",
   "metadata": {},
   "outputs": [],
   "source": []
  },
  {
   "cell_type": "code",
   "execution_count": null,
   "id": "fbd83d3c",
   "metadata": {},
   "outputs": [],
   "source": []
  },
  {
   "cell_type": "code",
   "execution_count": null,
   "id": "03fa46c6",
   "metadata": {},
   "outputs": [],
   "source": []
  },
  {
   "cell_type": "code",
   "execution_count": null,
   "id": "855aeb3a",
   "metadata": {},
   "outputs": [],
   "source": []
  },
  {
   "cell_type": "code",
   "execution_count": null,
   "id": "6c0f8ccc",
   "metadata": {},
   "outputs": [],
   "source": []
  },
  {
   "cell_type": "code",
   "execution_count": null,
   "id": "bf08b3ed",
   "metadata": {},
   "outputs": [],
   "source": []
  },
  {
   "cell_type": "code",
   "execution_count": null,
   "id": "f71428fd",
   "metadata": {},
   "outputs": [],
   "source": []
  },
  {
   "cell_type": "code",
   "execution_count": null,
   "id": "155686ab",
   "metadata": {},
   "outputs": [],
   "source": []
  },
  {
   "cell_type": "code",
   "execution_count": null,
   "id": "60549eb3",
   "metadata": {},
   "outputs": [],
   "source": []
  },
  {
   "cell_type": "code",
   "execution_count": null,
   "id": "96790296",
   "metadata": {},
   "outputs": [],
   "source": []
  },
  {
   "cell_type": "code",
   "execution_count": null,
   "id": "e2d07004",
   "metadata": {},
   "outputs": [],
   "source": []
  },
  {
   "cell_type": "code",
   "execution_count": null,
   "id": "fcb49a45",
   "metadata": {},
   "outputs": [],
   "source": []
  },
  {
   "cell_type": "code",
   "execution_count": null,
   "id": "9f34137d",
   "metadata": {},
   "outputs": [],
   "source": []
  },
  {
   "cell_type": "code",
   "execution_count": null,
   "id": "61058d96",
   "metadata": {},
   "outputs": [],
   "source": []
  },
  {
   "cell_type": "code",
   "execution_count": null,
   "id": "ad86c40c",
   "metadata": {},
   "outputs": [],
   "source": []
  },
  {
   "cell_type": "code",
   "execution_count": null,
   "id": "17611253",
   "metadata": {},
   "outputs": [],
   "source": []
  },
  {
   "cell_type": "code",
   "execution_count": null,
   "id": "6f5a9fdd",
   "metadata": {},
   "outputs": [],
   "source": []
  },
  {
   "cell_type": "code",
   "execution_count": null,
   "id": "cddf80ae",
   "metadata": {},
   "outputs": [],
   "source": []
  },
  {
   "cell_type": "code",
   "execution_count": null,
   "id": "61d54a27",
   "metadata": {},
   "outputs": [],
   "source": []
  },
  {
   "cell_type": "code",
   "execution_count": null,
   "id": "f868035b",
   "metadata": {},
   "outputs": [],
   "source": []
  },
  {
   "cell_type": "code",
   "execution_count": null,
   "id": "e28e38ac",
   "metadata": {},
   "outputs": [],
   "source": []
  },
  {
   "cell_type": "code",
   "execution_count": null,
   "id": "27fc2587",
   "metadata": {},
   "outputs": [],
   "source": []
  },
  {
   "cell_type": "code",
   "execution_count": null,
   "id": "9921b155",
   "metadata": {},
   "outputs": [],
   "source": []
  },
  {
   "cell_type": "code",
   "execution_count": null,
   "id": "0cbb9e3d",
   "metadata": {},
   "outputs": [],
   "source": []
  },
  {
   "cell_type": "code",
   "execution_count": null,
   "id": "78219ec4",
   "metadata": {},
   "outputs": [],
   "source": []
  },
  {
   "cell_type": "code",
   "execution_count": null,
   "id": "e8306678",
   "metadata": {},
   "outputs": [],
   "source": []
  },
  {
   "cell_type": "code",
   "execution_count": null,
   "id": "b5bbd499",
   "metadata": {},
   "outputs": [],
   "source": []
  },
  {
   "cell_type": "code",
   "execution_count": null,
   "id": "72a69809",
   "metadata": {},
   "outputs": [],
   "source": []
  },
  {
   "cell_type": "code",
   "execution_count": null,
   "id": "660e2336",
   "metadata": {},
   "outputs": [],
   "source": []
  },
  {
   "cell_type": "code",
   "execution_count": null,
   "id": "1f18cea5",
   "metadata": {},
   "outputs": [],
   "source": []
  },
  {
   "cell_type": "code",
   "execution_count": null,
   "id": "ba06ddf3",
   "metadata": {},
   "outputs": [],
   "source": []
  },
  {
   "cell_type": "code",
   "execution_count": null,
   "id": "2b141601",
   "metadata": {},
   "outputs": [],
   "source": []
  },
  {
   "cell_type": "code",
   "execution_count": null,
   "id": "2263f79a",
   "metadata": {},
   "outputs": [],
   "source": []
  },
  {
   "cell_type": "code",
   "execution_count": null,
   "id": "c50a84e0",
   "metadata": {},
   "outputs": [],
   "source": []
  },
  {
   "cell_type": "code",
   "execution_count": null,
   "id": "d971406d",
   "metadata": {},
   "outputs": [],
   "source": []
  },
  {
   "cell_type": "code",
   "execution_count": null,
   "id": "cbe35400",
   "metadata": {},
   "outputs": [],
   "source": []
  },
  {
   "cell_type": "code",
   "execution_count": null,
   "id": "05d8341f",
   "metadata": {},
   "outputs": [],
   "source": []
  },
  {
   "cell_type": "code",
   "execution_count": null,
   "id": "aa1521a3",
   "metadata": {},
   "outputs": [],
   "source": []
  },
  {
   "cell_type": "code",
   "execution_count": null,
   "id": "8f902cc0",
   "metadata": {},
   "outputs": [],
   "source": []
  },
  {
   "cell_type": "code",
   "execution_count": null,
   "id": "2e952e63",
   "metadata": {},
   "outputs": [],
   "source": []
  },
  {
   "cell_type": "code",
   "execution_count": null,
   "id": "56b2a97c",
   "metadata": {},
   "outputs": [],
   "source": []
  },
  {
   "cell_type": "code",
   "execution_count": null,
   "id": "c0c19119",
   "metadata": {},
   "outputs": [],
   "source": []
  },
  {
   "cell_type": "code",
   "execution_count": null,
   "id": "6c2d5046",
   "metadata": {},
   "outputs": [],
   "source": []
  },
  {
   "cell_type": "code",
   "execution_count": null,
   "id": "8ac39ed5",
   "metadata": {},
   "outputs": [],
   "source": []
  },
  {
   "cell_type": "code",
   "execution_count": null,
   "id": "bffe01d2",
   "metadata": {},
   "outputs": [],
   "source": []
  },
  {
   "cell_type": "code",
   "execution_count": null,
   "id": "7fcfa76d",
   "metadata": {},
   "outputs": [],
   "source": []
  },
  {
   "cell_type": "code",
   "execution_count": null,
   "id": "30a278b8",
   "metadata": {},
   "outputs": [],
   "source": []
  },
  {
   "cell_type": "code",
   "execution_count": null,
   "id": "42048a1a",
   "metadata": {},
   "outputs": [],
   "source": []
  },
  {
   "cell_type": "code",
   "execution_count": null,
   "id": "f3a9d722",
   "metadata": {},
   "outputs": [],
   "source": []
  },
  {
   "cell_type": "code",
   "execution_count": null,
   "id": "86240a1c",
   "metadata": {},
   "outputs": [],
   "source": []
  },
  {
   "cell_type": "code",
   "execution_count": null,
   "id": "d8688781",
   "metadata": {},
   "outputs": [],
   "source": []
  },
  {
   "cell_type": "code",
   "execution_count": null,
   "id": "b15aed2a",
   "metadata": {},
   "outputs": [],
   "source": []
  },
  {
   "cell_type": "code",
   "execution_count": null,
   "id": "c356d8d9",
   "metadata": {},
   "outputs": [],
   "source": []
  },
  {
   "cell_type": "code",
   "execution_count": null,
   "id": "9345342b",
   "metadata": {},
   "outputs": [],
   "source": []
  },
  {
   "cell_type": "code",
   "execution_count": null,
   "id": "6b422695",
   "metadata": {},
   "outputs": [],
   "source": []
  },
  {
   "cell_type": "code",
   "execution_count": null,
   "id": "8c4dc67b",
   "metadata": {},
   "outputs": [],
   "source": []
  },
  {
   "cell_type": "code",
   "execution_count": null,
   "id": "76e32108",
   "metadata": {},
   "outputs": [],
   "source": []
  },
  {
   "cell_type": "code",
   "execution_count": null,
   "id": "cf9bc4eb",
   "metadata": {},
   "outputs": [],
   "source": []
  },
  {
   "cell_type": "code",
   "execution_count": null,
   "id": "a7bfac21",
   "metadata": {},
   "outputs": [],
   "source": []
  },
  {
   "cell_type": "code",
   "execution_count": null,
   "id": "70909811",
   "metadata": {},
   "outputs": [],
   "source": []
  },
  {
   "cell_type": "code",
   "execution_count": null,
   "id": "5283235f",
   "metadata": {},
   "outputs": [],
   "source": []
  },
  {
   "cell_type": "code",
   "execution_count": null,
   "id": "0c70afec",
   "metadata": {},
   "outputs": [],
   "source": []
  },
  {
   "cell_type": "code",
   "execution_count": null,
   "id": "76b1497d",
   "metadata": {},
   "outputs": [],
   "source": []
  },
  {
   "cell_type": "code",
   "execution_count": null,
   "id": "5f8a98cd",
   "metadata": {},
   "outputs": [],
   "source": []
  },
  {
   "cell_type": "code",
   "execution_count": null,
   "id": "57ba69c6",
   "metadata": {},
   "outputs": [],
   "source": []
  },
  {
   "cell_type": "code",
   "execution_count": null,
   "id": "d5b7a9a6",
   "metadata": {},
   "outputs": [],
   "source": []
  },
  {
   "cell_type": "code",
   "execution_count": null,
   "id": "3f590685",
   "metadata": {},
   "outputs": [],
   "source": []
  },
  {
   "cell_type": "code",
   "execution_count": null,
   "id": "a9291ee6",
   "metadata": {},
   "outputs": [],
   "source": []
  },
  {
   "cell_type": "code",
   "execution_count": null,
   "id": "920d1375",
   "metadata": {},
   "outputs": [],
   "source": []
  },
  {
   "cell_type": "code",
   "execution_count": null,
   "id": "6eae5bac",
   "metadata": {},
   "outputs": [],
   "source": []
  },
  {
   "cell_type": "code",
   "execution_count": null,
   "id": "499c83dc",
   "metadata": {},
   "outputs": [],
   "source": []
  },
  {
   "cell_type": "code",
   "execution_count": null,
   "id": "5b4bb580",
   "metadata": {},
   "outputs": [],
   "source": []
  },
  {
   "cell_type": "code",
   "execution_count": null,
   "id": "28b1eca6",
   "metadata": {},
   "outputs": [],
   "source": []
  },
  {
   "cell_type": "code",
   "execution_count": null,
   "id": "3e634e1c",
   "metadata": {},
   "outputs": [],
   "source": []
  },
  {
   "cell_type": "code",
   "execution_count": null,
   "id": "660e343d",
   "metadata": {},
   "outputs": [],
   "source": []
  },
  {
   "cell_type": "code",
   "execution_count": null,
   "id": "76764b88",
   "metadata": {},
   "outputs": [],
   "source": []
  },
  {
   "cell_type": "code",
   "execution_count": null,
   "id": "4523781f",
   "metadata": {},
   "outputs": [],
   "source": []
  },
  {
   "cell_type": "code",
   "execution_count": null,
   "id": "f0fa4971",
   "metadata": {},
   "outputs": [],
   "source": []
  },
  {
   "cell_type": "code",
   "execution_count": null,
   "id": "a59e696c",
   "metadata": {},
   "outputs": [],
   "source": []
  },
  {
   "cell_type": "code",
   "execution_count": null,
   "id": "1a924e67",
   "metadata": {},
   "outputs": [],
   "source": []
  },
  {
   "cell_type": "code",
   "execution_count": null,
   "id": "7416cf2e",
   "metadata": {},
   "outputs": [],
   "source": []
  },
  {
   "cell_type": "code",
   "execution_count": null,
   "id": "779b693f",
   "metadata": {},
   "outputs": [],
   "source": []
  },
  {
   "cell_type": "code",
   "execution_count": null,
   "id": "5e89d575",
   "metadata": {},
   "outputs": [],
   "source": []
  },
  {
   "cell_type": "code",
   "execution_count": null,
   "id": "2a429f3e",
   "metadata": {},
   "outputs": [],
   "source": []
  },
  {
   "cell_type": "code",
   "execution_count": null,
   "id": "88aac73e",
   "metadata": {},
   "outputs": [],
   "source": []
  },
  {
   "cell_type": "code",
   "execution_count": null,
   "id": "cedb6e99",
   "metadata": {},
   "outputs": [],
   "source": []
  }
 ],
 "metadata": {
  "kernelspec": {
   "display_name": "Python 3 (ipykernel)",
   "language": "python",
   "name": "python3"
  },
  "language_info": {
   "codemirror_mode": {
    "name": "ipython",
    "version": 3
   },
   "file_extension": ".py",
   "mimetype": "text/x-python",
   "name": "python",
   "nbconvert_exporter": "python",
   "pygments_lexer": "ipython3",
   "version": "3.10.9"
  }
 },
 "nbformat": 4,
 "nbformat_minor": 5
}
